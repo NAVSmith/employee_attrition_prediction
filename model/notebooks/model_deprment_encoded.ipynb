{
 "cells": [
  {
   "cell_type": "code",
   "execution_count": 1,
   "metadata": {},
   "outputs": [],
   "source": [
    "import tensorflow as tf\n",
    "import tensorflow_datasets as tfds\n",
    "import numpy as np\n",
    "import matplotlib.pyplot as plt\n",
    "import seaborn as sns \n",
    "from tensorflow.keras import models, layers, regularizers, metrics\n",
    "from sklearn.model_selection import train_test_split\n",
    "from sklearn import metrics as met\n",
    "from imblearn.over_sampling import SMOTE\n"
   ]
  },
  {
   "cell_type": "code",
   "execution_count": 35,
   "metadata": {},
   "outputs": [],
   "source": [
    "# loading\n",
    "y = np.genfromtxt('./data/label_deprment_encoded.csv',delimiter=',')"
   ]
  },
  {
   "cell_type": "code",
   "execution_count": 36,
   "metadata": {},
   "outputs": [],
   "source": [
    "X = np.genfromtxt('./data/features_deprment_encoded.csv',delimiter=',')"
   ]
  },
  {
   "cell_type": "code",
   "execution_count": 37,
   "metadata": {},
   "outputs": [],
   "source": [
    "#splitting\n",
    "x_train, x_val, y_train, y_val = train_test_split(X,\n",
    "                                                 y,\n",
    "                                                 test_size = .2,\n",
    "                                                 random_state=12)"
   ]
  },
  {
   "cell_type": "code",
   "execution_count": 38,
   "metadata": {},
   "outputs": [],
   "source": [
    "# resampling the traninging data to change the balnce the data\n",
    "sm = SMOTE(random_state=12)\n",
    "x_res, y_res = sm.fit_sample(x_train, y_train)"
   ]
  },
  {
   "cell_type": "code",
   "execution_count": 39,
   "metadata": {},
   "outputs": [],
   "source": [
    "# turning the array to tensors\n",
    "y_train_res = tf.convert_to_tensor(y_res, dtype='float32')\n",
    "x_train_res = tf.convert_to_tensor(x_res, dtype='float32')"
   ]
  },
  {
   "cell_type": "code",
   "execution_count": 40,
   "metadata": {},
   "outputs": [],
   "source": [
    "X_val = tf.convert_to_tensor(x_val, dtype='float32')\n",
    "Y_val = tf.convert_to_tensor(y_val, dtype='float32')"
   ]
  },
  {
   "cell_type": "code",
   "execution_count": 41,
   "metadata": {},
   "outputs": [],
   "source": [
    "# makeing the tensorflow data \n",
    "data_train = tf.data.Dataset.from_tensor_slices(\n",
    "    (x_train_res, y_train_res)\n",
    "\n",
    ").cache()\n",
    "\n",
    "data_validate = tf.data.Dataset.from_tensor_slices(\n",
    "    (X_val, Y_val)).cache()"
   ]
  },
  {
   "cell_type": "code",
   "execution_count": 42,
   "metadata": {},
   "outputs": [
    {
     "data": {
      "text/plain": [
       "tensorflow.python.keras.metrics.AUC"
      ]
     },
     "execution_count": 42,
     "metadata": {},
     "output_type": "execute_result"
    }
   ],
   "source": [
    "metrics.AUC\n"
   ]
  },
  {
   "cell_type": "code",
   "execution_count": 43,
   "metadata": {},
   "outputs": [
    {
     "data": {
      "text/plain": [
       "(10,)"
      ]
     },
     "execution_count": 43,
     "metadata": {},
     "output_type": "execute_result"
    }
   ],
   "source": [
    "X[0].shape"
   ]
  },
  {
   "cell_type": "code",
   "execution_count": 56,
   "metadata": {},
   "outputs": [
    {
     "name": "stdout",
     "output_type": "stream",
     "text": [
      "Model: \"sequential_8\"\n",
      "_________________________________________________________________\n",
      "Layer (type)                 Output Shape              Param #   \n",
      "=================================================================\n",
      "flatten_8 (Flatten)          (None, 10)                0         \n",
      "_________________________________________________________________\n",
      "dense_23 (Dense)             (None, 10)                110       \n",
      "_________________________________________________________________\n",
      "dense_24 (Dense)             (None, 5)                 55        \n",
      "_________________________________________________________________\n",
      "dense_25 (Dense)             (None, 1)                 6         \n",
      "=================================================================\n",
      "Total params: 171\n",
      "Trainable params: 171\n",
      "Non-trainable params: 0\n",
      "_________________________________________________________________\n"
     ]
    }
   ],
   "source": [
    "model = models.Sequential()\n",
    "model.add(layers.Flatten(input_shape=(10, 1, 1)))\n",
    "model.add(layers.Dense(10, activation=tf.keras.layers.LeakyReLU(alpha=0.1)))\n",
    "model.add(layers.Dense(5, activation='relu'))\n",
    "model.add(layers.Dense(1, activation='sigmoid'))\n",
    "model.summary()\n",
    "\n",
    "\n",
    "model.compile(optimizer='nadam', loss='binary_crossentropy', metrics=['accuracy'])"
   ]
  },
  {
   "cell_type": "code",
   "execution_count": 57,
   "metadata": {},
   "outputs": [
    {
     "name": "stdout",
     "output_type": "stream",
     "text": [
      "Epoch 1/30\n",
      "WARNING:tensorflow:Model was constructed with shape (None, 10, 1, 1) for input Tensor(\"flatten_8_input:0\", shape=(None, 10, 1, 1), dtype=float32), but it was called on an input with incompatible shape (None, 10).\n",
      "WARNING:tensorflow:Model was constructed with shape (None, 10, 1, 1) for input Tensor(\"flatten_8_input:0\", shape=(None, 10, 1, 1), dtype=float32), but it was called on an input with incompatible shape (None, 10).\n",
      "563/574 [============================>.] - ETA: 0s - loss: 0.6759 - accuracy: 0.6117WARNING:tensorflow:Model was constructed with shape (None, 10, 1, 1) for input Tensor(\"flatten_8_input:0\", shape=(None, 10, 1, 1), dtype=float32), but it was called on an input with incompatible shape (None, 10).\n",
      "574/574 [==============================] - 1s 2ms/step - loss: 0.6754 - accuracy: 0.6133 - val_loss: 0.6741 - val_accuracy: 0.5497\n",
      "Epoch 2/30\n",
      "574/574 [==============================] - 1s 1ms/step - loss: 0.5614 - accuracy: 0.7623 - val_loss: 0.5062 - val_accuracy: 0.7530\n",
      "Epoch 3/30\n",
      "574/574 [==============================] - 1s 2ms/step - loss: 0.4097 - accuracy: 0.8365 - val_loss: 0.4198 - val_accuracy: 0.7817\n",
      "Epoch 4/30\n",
      "574/574 [==============================] - 1s 1ms/step - loss: 0.3257 - accuracy: 0.8690 - val_loss: 0.3942 - val_accuracy: 0.8047\n",
      "Epoch 5/30\n",
      "574/574 [==============================] - 1s 1ms/step - loss: 0.2851 - accuracy: 0.8925 - val_loss: 0.3365 - val_accuracy: 0.8423\n",
      "Epoch 6/30\n",
      "574/574 [==============================] - 1s 2ms/step - loss: 0.2581 - accuracy: 0.9073 - val_loss: 0.2966 - val_accuracy: 0.8687\n",
      "Epoch 7/30\n",
      "574/574 [==============================] - 1s 2ms/step - loss: 0.2423 - accuracy: 0.9128 - val_loss: 0.2720 - val_accuracy: 0.8800\n",
      "Epoch 8/30\n",
      "574/574 [==============================] - 1s 2ms/step - loss: 0.2319 - accuracy: 0.9160 - val_loss: 0.2580 - val_accuracy: 0.8887\n",
      "Epoch 9/30\n",
      "574/574 [==============================] - 1s 2ms/step - loss: 0.2236 - accuracy: 0.9205 - val_loss: 0.3038 - val_accuracy: 0.8657\n",
      "Epoch 10/30\n",
      "574/574 [==============================] - 1s 2ms/step - loss: 0.2175 - accuracy: 0.9211 - val_loss: 0.2379 - val_accuracy: 0.8960\n",
      "Epoch 11/30\n",
      "574/574 [==============================] - 1s 2ms/step - loss: 0.2114 - accuracy: 0.9235 - val_loss: 0.2659 - val_accuracy: 0.8887\n",
      "Epoch 12/30\n",
      "574/574 [==============================] - 1s 2ms/step - loss: 0.2053 - accuracy: 0.9251 - val_loss: 0.2674 - val_accuracy: 0.8873\n",
      "Epoch 13/30\n",
      "574/574 [==============================] - 1s 2ms/step - loss: 0.2005 - accuracy: 0.9263 - val_loss: 0.2660 - val_accuracy: 0.8907\n",
      "Epoch 14/30\n",
      "574/574 [==============================] - 1s 2ms/step - loss: 0.1985 - accuracy: 0.9273 - val_loss: 0.2512 - val_accuracy: 0.8953\n",
      "Epoch 15/30\n",
      "574/574 [==============================] - 1s 2ms/step - loss: 0.1931 - accuracy: 0.9292 - val_loss: 0.2367 - val_accuracy: 0.9000\n",
      "Epoch 16/30\n",
      "574/574 [==============================] - 1s 2ms/step - loss: 0.1921 - accuracy: 0.9319 - val_loss: 0.2104 - val_accuracy: 0.9097\n",
      "Epoch 17/30\n",
      "574/574 [==============================] - 1s 2ms/step - loss: 0.1895 - accuracy: 0.9316 - val_loss: 0.2131 - val_accuracy: 0.9090\n",
      "Epoch 18/30\n",
      "574/574 [==============================] - 1s 2ms/step - loss: 0.1880 - accuracy: 0.9327 - val_loss: 0.1965 - val_accuracy: 0.9210\n",
      "Epoch 19/30\n",
      "574/574 [==============================] - 1s 2ms/step - loss: 0.1847 - accuracy: 0.9340 - val_loss: 0.2040 - val_accuracy: 0.9143\n",
      "Epoch 20/30\n",
      "574/574 [==============================] - 1s 2ms/step - loss: 0.1830 - accuracy: 0.9343 - val_loss: 0.2583 - val_accuracy: 0.8923\n",
      "Epoch 21/30\n",
      "574/574 [==============================] - 1s 2ms/step - loss: 0.1833 - accuracy: 0.9340 - val_loss: 0.2019 - val_accuracy: 0.9167\n",
      "Epoch 22/30\n",
      "574/574 [==============================] - 1s 1ms/step - loss: 0.1809 - accuracy: 0.9346 - val_loss: 0.2065 - val_accuracy: 0.9107\n",
      "Epoch 23/30\n",
      "574/574 [==============================] - 1s 2ms/step - loss: 0.1793 - accuracy: 0.9339 - val_loss: 0.1884 - val_accuracy: 0.9253\n",
      "Epoch 24/30\n",
      "574/574 [==============================] - 1s 2ms/step - loss: 0.1779 - accuracy: 0.9357 - val_loss: 0.1924 - val_accuracy: 0.9190\n",
      "Epoch 25/30\n",
      "574/574 [==============================] - 1s 2ms/step - loss: 0.1765 - accuracy: 0.9360 - val_loss: 0.2394 - val_accuracy: 0.9060\n",
      "Epoch 26/30\n",
      "574/574 [==============================] - 1s 2ms/step - loss: 0.1762 - accuracy: 0.9373 - val_loss: 0.1920 - val_accuracy: 0.9207\n",
      "Epoch 27/30\n",
      "574/574 [==============================] - 1s 2ms/step - loss: 0.1754 - accuracy: 0.9373 - val_loss: 0.2249 - val_accuracy: 0.9047\n",
      "Epoch 28/30\n",
      "574/574 [==============================] - 1s 1ms/step - loss: 0.1750 - accuracy: 0.9361 - val_loss: 0.2112 - val_accuracy: 0.9103\n",
      "Epoch 29/30\n",
      "574/574 [==============================] - 1s 1ms/step - loss: 0.1749 - accuracy: 0.9370 - val_loss: 0.1845 - val_accuracy: 0.9290\n",
      "Epoch 30/30\n",
      "574/574 [==============================] - 1s 1ms/step - loss: 0.1737 - accuracy: 0.9385 - val_loss: 0.2074 - val_accuracy: 0.9140\n"
     ]
    }
   ],
   "source": [
    "history = model.fit(data_train.shuffle(10000).batch(32), epochs=30, validation_data=data_validate.batch(32))"
   ]
  },
  {
   "cell_type": "code",
   "execution_count": 13,
   "metadata": {},
   "outputs": [
    {
     "data": {
      "image/png": "[encoded data removed]",
      "text/plain": [
       "<Figure size 432x288 with 1 Axes>"
      ]
     },
     "metadata": {
      "needs_background": "light"
     },
     "output_type": "display_data"
    },
    {
     "data": {
      "image/png": "[encoded data removed]",
      "text/plain": [
       "<Figure size 432x288 with 1 Axes>"
      ]
     },
     "metadata": {
      "needs_background": "light"
     },
     "output_type": "display_data"
    }
   ],
   "source": [
    "plt.plot(model.history.history['loss'], label='loss')\n",
    "plt.plot(model.history.history['val_loss'], label='val_loss')\n",
    "plt.legend()\n",
    "plt.show()\n",
    "plt.close()\n",
    "\n",
    "plt.plot(model.history.history['accuracy'], label='accuracy')\n",
    "plt.plot(model.history.history['val_accuracy'], label='val_accuracy')\n",
    "plt.legend()\n",
    "plt.show()\n",
    "plt.close()"
   ]
  },
  {
   "cell_type": "code",
   "execution_count": 14,
   "metadata": {},
   "outputs": [
    {
     "name": "stdout",
     "output_type": "stream",
     "text": [
      "WARNING:tensorflow:Model was constructed with shape (None, 18, 1, 1) for input Tensor(\"flatten_input:0\", shape=(None, 18, 1, 1), dtype=float32), but it was called on an input with incompatible shape (None, 18).\n"
     ]
    },
    {
     "data": {
      "text/plain": [
       "array([[1.5577674e-04, 0.0000000e+00],\n",
       "       [9.9743724e-01, 1.0000000e+00],\n",
       "       [1.4424999e-06, 0.0000000e+00],\n",
       "       ...,\n",
       "       [1.0777712e-03, 0.0000000e+00],\n",
       "       [8.0373591e-01, 1.0000000e+00],\n",
       "       [9.8823822e-01, 1.0000000e+00]], dtype=float32)"
      ]
     },
     "execution_count": 14,
     "metadata": {},
     "output_type": "execute_result"
    }
   ],
   "source": [
    "np.hstack([model.predict(X_val), Y_val[:,np.newaxis]])"
   ]
  },
  {
   "cell_type": "code",
   "execution_count": 15,
   "metadata": {},
   "outputs": [
    {
     "data": {
      "text/plain": [
       "<matplotlib.collections.PathCollection at 0x14156d580>"
      ]
     },
     "execution_count": 15,
     "metadata": {},
     "output_type": "execute_result"
    },
    {
     "data": {
      "image/png": "[encoded data removed]",
      "text/plain": [
       "<Figure size 432x288 with 1 Axes>"
      ]
     },
     "metadata": {
      "needs_background": "light"
     },
     "output_type": "display_data"
    }
   ],
   "source": [
    "plt.scatter(model.predict(X_val), Y_val)"
   ]
  },
  {
   "cell_type": "code",
   "execution_count": 16,
   "metadata": {},
   "outputs": [
    {
     "data": {
      "text/plain": [
       "<matplotlib.axes._subplots.AxesSubplot at 0x141613eb0>"
      ]
     },
     "execution_count": 16,
     "metadata": {},
     "output_type": "execute_result"
    },
    {
     "data": {
      "image/png": "[encoded data removed]",
      "text/plain": [
       "<Figure size 432x288 with 1 Axes>"
      ]
     },
     "metadata": {
      "needs_background": "light"
     },
     "output_type": "display_data"
    }
   ],
   "source": [
    "sns.distplot(model.predict(X_val)[Y_val==1])"
   ]
  },
  {
   "cell_type": "code",
   "execution_count": 17,
   "metadata": {},
   "outputs": [
    {
     "data": {
      "text/plain": [
       "<matplotlib.axes._subplots.AxesSubplot at 0x13fd18670>"
      ]
     },
     "execution_count": 17,
     "metadata": {},
     "output_type": "execute_result"
    },
    {
     "data": {
      "image/png": "[encoded data removed]",
      "text/plain": [
       "<Figure size 432x288 with 1 Axes>"
      ]
     },
     "metadata": {
      "needs_background": "light"
     },
     "output_type": "display_data"
    }
   ],
   "source": [
    "sns.distplot(model.predict(X_val)[Y_val==0])"
   ]
  },
  {
   "cell_type": "code",
   "execution_count": 18,
   "metadata": {},
   "outputs": [
    {
     "data": {
      "text/plain": [
       "<matplotlib.axes._subplots.AxesSubplot at 0x13fca9640>"
      ]
     },
     "execution_count": 18,
     "metadata": {},
     "output_type": "execute_result"
    },
    {
     "data": {
      "image/png": "[encoded data removed]",
      "text/plain": [
       "<Figure size 432x288 with 1 Axes>"
      ]
     },
     "metadata": {
      "needs_background": "light"
     },
     "output_type": "display_data"
    }
   ],
   "source": [
    "sns.distplot(model.predict(x_train_res)[y_train_res==1])"
   ]
  },
  {
   "cell_type": "code",
   "execution_count": 19,
   "metadata": {},
   "outputs": [
    {
     "data": {
      "text/plain": [
       "<matplotlib.axes._subplots.AxesSubplot at 0x141221df0>"
      ]
     },
     "execution_count": 19,
     "metadata": {},
     "output_type": "execute_result"
    },
    {
     "data": {
      "image/png": "[encoded data removed]",
      "text/plain": [
       "<Figure size 432x288 with 1 Axes>"
      ]
     },
     "metadata": {
      "needs_background": "light"
     },
     "output_type": "display_data"
    }
   ],
   "source": [
    "sns.distplot(model.predict(x_train_res)[y_train_res==0])"
   ]
  },
  {
   "cell_type": "code",
   "execution_count": 20,
   "metadata": {},
   "outputs": [
    {
     "data": {
      "text/plain": [
       "0.9866389746816137"
      ]
     },
     "execution_count": 20,
     "metadata": {},
     "output_type": "execute_result"
    }
   ],
   "source": [
    "#roc auc\n",
    "met.roc_auc_score(Y_val,model.predict(X_val))"
   ]
  },
  {
   "cell_type": "code",
   "execution_count": null,
   "metadata": {},
   "outputs": [],
   "source": []
  },
  {
   "cell_type": "code",
   "execution_count": null,
   "metadata": {},
   "outputs": [],
   "source": []
  }
 ],
 "metadata": {
  "kernelspec": {
   "display_name": "Python 3",
   "language": "python",
   "name": "python3"
  },
  "language_info": {
   "codemirror_mode": {
    "name": "ipython",
    "version": 3
   },
   "file_extension": ".py",
   "mimetype": "text/x-python",
   "name": "python",
   "nbconvert_exporter": "python",
   "pygments_lexer": "ipython3",
   "version": "3.8.5"
  }
 },
 "nbformat": 4,
 "nbformat_minor": 4
}
