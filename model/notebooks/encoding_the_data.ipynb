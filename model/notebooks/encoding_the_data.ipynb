{
 "cells": [
  {
   "cell_type": "code",
   "execution_count": 14,
   "metadata": {},
   "outputs": [],
   "source": [
    "import pandas as pd\n",
    "import numpy as np\n",
    "from sklearn import preprocessing "
   ]
  },
  {
   "cell_type": "markdown",
   "metadata": {},
   "source": [
    "## loading at the data"
   ]
  },
  {
   "cell_type": "code",
   "execution_count": 15,
   "metadata": {},
   "outputs": [],
   "source": [
    "df = pd.read_csv('./../../data/eemployes_data.csv')"
   ]
  },
  {
   "cell_type": "markdown",
   "metadata": {},
   "source": [
    "## inspecting the data\n",
    "the data is allready clean\n",
    "the churn column is the label column it is unblanced and we should super sample it \n"
   ]
  },
  {
   "cell_type": "code",
   "execution_count": 16,
   "metadata": {},
   "outputs": [
    {
     "data": {
      "text/plain": [
       "satisfaction            0\n",
       "evaluation              0\n",
       "number_of_projects      0\n",
       "average_montly_hours    0\n",
       "time_spend_company      0\n",
       "work_accident           0\n",
       "churn                   0\n",
       "promotion               0\n",
       "department              0\n",
       "salary                  0\n",
       "dtype: int64"
      ]
     },
     "execution_count": 16,
     "metadata": {},
     "output_type": "execute_result"
    }
   ],
   "source": [
    "df.isna().sum()"
   ]
  },
  {
   "cell_type": "code",
   "execution_count": 17,
   "metadata": {},
   "outputs": [
    {
     "name": "stdout",
     "output_type": "stream",
     "text": [
      "<class 'pandas.core.frame.DataFrame'>\n",
      "RangeIndex: 14999 entries, 0 to 14998\n",
      "Data columns (total 10 columns):\n",
      " #   Column                Non-Null Count  Dtype  \n",
      "---  ------                --------------  -----  \n",
      " 0   satisfaction          14999 non-null  float64\n",
      " 1   evaluation            14999 non-null  float64\n",
      " 2   number_of_projects    14999 non-null  int64  \n",
      " 3   average_montly_hours  14999 non-null  int64  \n",
      " 4   time_spend_company    14999 non-null  int64  \n",
      " 5   work_accident         14999 non-null  int64  \n",
      " 6   churn                 14999 non-null  int64  \n",
      " 7   promotion             14999 non-null  int64  \n",
      " 8   department            14999 non-null  object \n",
      " 9   salary                14999 non-null  object \n",
      "dtypes: float64(2), int64(6), object(2)\n",
      "memory usage: 1.1+ MB\n"
     ]
    }
   ],
   "source": [
    "df.info()"
   ]
  },
  {
   "cell_type": "code",
   "execution_count": 18,
   "metadata": {},
   "outputs": [
    {
     "data": {
      "text/plain": [
       "dtype('float64')"
      ]
     },
     "execution_count": 18,
     "metadata": {},
     "output_type": "execute_result"
    }
   ],
   "source": [
    "df.satisfaction.dtypes"
   ]
  },
  {
   "cell_type": "code",
   "execution_count": 19,
   "metadata": {},
   "outputs": [
    {
     "name": "stdout",
     "output_type": "stream",
     "text": [
      "  satisfaction \n",
      " 0.10    358\n",
      "0.11    335\n",
      "0.74    257\n",
      "0.77    252\n",
      "0.84    247\n",
      "       ... \n",
      "0.25     34\n",
      "0.28     31\n",
      "0.27     30\n",
      "0.12     30\n",
      "0.26     30\n",
      "Name: satisfaction, Length: 92, dtype: int64 \n",
      "\n",
      "  evaluation \n",
      " 0.55    358\n",
      "0.50    353\n",
      "0.54    350\n",
      "0.51    345\n",
      "0.57    333\n",
      "       ... \n",
      "0.39     52\n",
      "0.43     50\n",
      "0.38     50\n",
      "0.44     44\n",
      "0.36     22\n",
      "Name: evaluation, Length: 65, dtype: int64 \n",
      "\n",
      "  number_of_projects \n",
      " 4    4365\n",
      "3    4055\n",
      "5    2761\n",
      "2    2388\n",
      "6    1174\n",
      "7     256\n",
      "Name: number_of_projects, dtype: int64 \n",
      "\n",
      "  average_montly_hours \n",
      " 156    153\n",
      "135    153\n",
      "149    148\n",
      "151    147\n",
      "160    136\n",
      "      ... \n",
      "297      7\n",
      "303      6\n",
      "288      6\n",
      "299      6\n",
      "96       6\n",
      "Name: average_montly_hours, Length: 215, dtype: int64 \n",
      "\n",
      "  time_spend_company \n",
      " 3     6443\n",
      "2     3244\n",
      "4     2557\n",
      "5     1473\n",
      "6      718\n",
      "10     214\n",
      "7      188\n",
      "8      162\n",
      "Name: time_spend_company, dtype: int64 \n",
      "\n",
      "  work_accident \n",
      " 0    12830\n",
      "1     2169\n",
      "Name: work_accident, dtype: int64 \n",
      "\n",
      "  churn \n",
      " 0    11428\n",
      "1     3571\n",
      "Name: churn, dtype: int64 \n",
      "\n",
      "  promotion \n",
      " 0    14680\n",
      "1      319\n",
      "Name: promotion, dtype: int64 \n",
      "\n",
      "  department \n",
      " sales          4140\n",
      "technical      2720\n",
      "support        2229\n",
      "IT             1227\n",
      "product_mng     902\n",
      "marketing       858\n",
      "RandD           787\n",
      "accounting      767\n",
      "hr              739\n",
      "management      630\n",
      "Name: department, dtype: int64 \n",
      "\n",
      "  salary \n",
      " low       7316\n",
      "medium    6446\n",
      "high      1237\n",
      "Name: salary, dtype: int64 \n",
      "\n"
     ]
    }
   ],
   "source": [
    "for col in df.columns:\n",
    "    print(' ', col, '\\n', df[col].value_counts(), '\\n')"
   ]
  },
  {
   "cell_type": "markdown",
   "metadata": {},
   "source": [
    "## prepering the data \n",
    "we see that we'll have to cast and one hot code the colums ans well\n"
   ]
  },
  {
   "cell_type": "markdown",
   "metadata": {},
   "source": [
    "### normalzing the the int and floats making them into float32"
   ]
  },
  {
   "cell_type": "code",
   "execution_count": 20,
   "metadata": {},
   "outputs": [
    {
     "data": {
      "text/plain": [
       "Index(['satisfaction', 'evaluation', 'number_of_projects',\n",
       "       'average_montly_hours', 'time_spend_company'],\n",
       "      dtype='object')"
      ]
     },
     "execution_count": 20,
     "metadata": {},
     "output_type": "execute_result"
    }
   ],
   "source": [
    "numeric_columns = df.columns[:-5] \n",
    "numeric_columns"
   ]
  },
  {
   "cell_type": "code",
   "execution_count": 7,
   "metadata": {},
   "outputs": [],
   "source": [
    "def normilaze_and_cast_to_float(df ,col):\n",
    "    column_array = df[col].values\n",
    "    max_value = column_array.max()\n",
    "    min_value =column_array.min()\n",
    "    delimiter =  column_array.max()- column_array.min()\n",
    "    trasformed_array = (column_array - min_value) / delimiter\n",
    "    df[col] = trasformed_array\n",
    "    df[col] = df[col].astype('float32')"
   ]
  },
  {
   "cell_type": "code",
   "execution_count": 8,
   "metadata": {},
   "outputs": [],
   "source": [
    "for col in numeric_columns:\n",
    "    normilaze_and_cast_to_float(df=df, col=col)\n"
   ]
  },
  {
   "cell_type": "code",
   "execution_count": 9,
   "metadata": {},
   "outputs": [
    {
     "name": "stdout",
     "output_type": "stream",
     "text": [
      "<class 'pandas.core.frame.DataFrame'>\n",
      "RangeIndex: 14999 entries, 0 to 14998\n",
      "Data columns (total 10 columns):\n",
      " #   Column                Non-Null Count  Dtype  \n",
      "---  ------                --------------  -----  \n",
      " 0   satisfaction          14999 non-null  float32\n",
      " 1   evaluation            14999 non-null  float32\n",
      " 2   number_of_projects    14999 non-null  float32\n",
      " 3   average_montly_hours  14999 non-null  float32\n",
      " 4   time_spend_company    14999 non-null  float32\n",
      " 5   work_accident         14999 non-null  int64  \n",
      " 6   churn                 14999 non-null  int64  \n",
      " 7   promotion             14999 non-null  int64  \n",
      " 8   department            14999 non-null  object \n",
      " 9   salary                14999 non-null  object \n",
      "dtypes: float32(5), int64(3), object(2)\n",
      "memory usage: 879.0+ KB\n"
     ]
    }
   ],
   "source": [
    "df.info()"
   ]
  },
  {
   "cell_type": "code",
   "execution_count": 10,
   "metadata": {},
   "outputs": [
    {
     "name": "stdout",
     "output_type": "stream",
     "text": [
      "0.010989    358\n",
      "0.021978    335\n",
      "0.714286    257\n",
      "0.747253    252\n",
      "0.824176    247\n",
      "           ... \n",
      "0.175824     34\n",
      "0.208791     31\n",
      "0.186813     30\n",
      "0.032967     30\n",
      "0.197802     30\n",
      "Name: satisfaction, Length: 92, dtype: int64\n",
      "0.296875    358\n",
      "0.218750    353\n",
      "0.281250    350\n",
      "0.234375    345\n",
      "0.328125    333\n",
      "           ... \n",
      "0.046875     52\n",
      "0.109375     50\n",
      "0.031250     50\n",
      "0.125000     44\n",
      "0.000000     22\n",
      "Name: evaluation, Length: 65, dtype: int64\n",
      "0.4    4365\n",
      "0.2    4055\n",
      "0.6    2761\n",
      "0.0    2388\n",
      "0.8    1174\n",
      "1.0     256\n",
      "Name: number_of_projects, dtype: int64\n",
      "0.182243    153\n",
      "0.280374    153\n",
      "0.247664    148\n",
      "0.257009    147\n",
      "0.299065    136\n",
      "           ... \n",
      "0.939252      7\n",
      "0.967290      6\n",
      "0.948598      6\n",
      "0.897196      6\n",
      "0.000000      6\n",
      "Name: average_montly_hours, Length: 215, dtype: int64\n",
      "0.125    6443\n",
      "0.000    3244\n",
      "0.250    2557\n",
      "0.375    1473\n",
      "0.500     718\n",
      "1.000     214\n",
      "0.625     188\n",
      "0.750     162\n",
      "Name: time_spend_company, dtype: int64\n"
     ]
    }
   ],
   "source": [
    "for col in numeric_columns:\n",
    "    print(df[col].value_counts())"
   ]
  },
  {
   "cell_type": "code",
   "execution_count": 11,
   "metadata": {},
   "outputs": [],
   "source": [
    "### casting the 0,1 columns into bool\n",
    "df.work_accident = df.work_accident.astype('float32')\n",
    "df.promotion = df.promotion.astype('float32')"
   ]
  },
  {
   "cell_type": "code",
   "execution_count": 12,
   "metadata": {},
   "outputs": [],
   "source": [
    "## turning the salary columns into low = 0 , medium = 0.5 and high = 1 and then calsting as float32\n",
    "df['salary_coded'] = 0\n",
    "df['salary_coded'] = np.where(df.salary == 'high', 1, 0.5) \n",
    "df['salary_coded'] = df['salary_coded'].astype('float32')"
   ]
  },
  {
   "cell_type": "code",
   "execution_count": 13,
   "metadata": {},
   "outputs": [],
   "source": [
    "# one hot coding department \n",
    "one_hot = pd.get_dummies(df.department)\n",
    "for col in one_hot.columns:\n",
    "    one_hot[col] = one_hot[col].astype('float32')\n",
    "df = df.join(one_hot)\n"
   ]
  },
  {
   "cell_type": "code",
   "execution_count": 14,
   "metadata": {},
   "outputs": [],
   "source": [
    "# get rid of the unneeded columns and rearrange the columns so the churn is a float and the last columns ready for the split \n",
    "df.drop(columns=['salary', 'department'], inplace=True)"
   ]
  },
  {
   "cell_type": "code",
   "execution_count": 15,
   "metadata": {},
   "outputs": [],
   "source": [
    "x_columns=list(df.columns)\n",
    "x_columns.remove('churn')"
   ]
  },
  {
   "cell_type": "code",
   "execution_count": 16,
   "metadata": {},
   "outputs": [
    {
     "data": {
      "text/plain": [
       "['satisfaction',\n",
       " 'evaluation',\n",
       " 'number_of_projects',\n",
       " 'average_montly_hours',\n",
       " 'time_spend_company',\n",
       " 'work_accident',\n",
       " 'promotion']"
      ]
     },
     "execution_count": 16,
     "metadata": {},
     "output_type": "execute_result"
    }
   ],
   "source": [
    "x_columns[:7]"
   ]
  },
  {
   "cell_type": "code",
   "execution_count": 17,
   "metadata": {},
   "outputs": [],
   "source": [
    "# float to the front and bools to the back\n",
    "x_data = df[['satisfaction','evaluation',\n",
    " 'number_of_projects',\n",
    " 'average_montly_hours',\n",
    " 'time_spend_company', 'salary_coded',\n",
    "  'work_accident', 'promotion',\n",
    "  'IT',\n",
    " 'RandD',\n",
    " 'accounting',\n",
    " 'hr',\n",
    " 'management',\n",
    " 'marketing',\n",
    " 'product_mng',\n",
    " 'sales',\n",
    " 'support',\n",
    " 'technical']]"
   ]
  },
  {
   "cell_type": "code",
   "execution_count": 18,
   "metadata": {},
   "outputs": [],
   "source": [
    "y_data = df.churn.astype('float32')"
   ]
  },
  {
   "cell_type": "code",
   "execution_count": 19,
   "metadata": {},
   "outputs": [],
   "source": [
    "x_data.to_csv('./data/features.csv' ,index=False, header=False)\n",
    "y_data.to_csv('./data/label.csv', index=False, header=False)"
   ]
  },
  {
   "cell_type": "code",
   "execution_count": 20,
   "metadata": {},
   "outputs": [
    {
     "name": "stdout",
     "output_type": "stream",
     "text": [
      "<class 'pandas.core.frame.DataFrame'>\n",
      "RangeIndex: 14999 entries, 0 to 14998\n",
      "Data columns (total 18 columns):\n",
      " #   Column                Non-Null Count  Dtype  \n",
      "---  ------                --------------  -----  \n",
      " 0   satisfaction          14999 non-null  float32\n",
      " 1   evaluation            14999 non-null  float32\n",
      " 2   number_of_projects    14999 non-null  float32\n",
      " 3   average_montly_hours  14999 non-null  float32\n",
      " 4   time_spend_company    14999 non-null  float32\n",
      " 5   salary_coded          14999 non-null  float32\n",
      " 6   work_accident         14999 non-null  float32\n",
      " 7   promotion             14999 non-null  float32\n",
      " 8   IT                    14999 non-null  float32\n",
      " 9   RandD                 14999 non-null  float32\n",
      " 10  accounting            14999 non-null  float32\n",
      " 11  hr                    14999 non-null  float32\n",
      " 12  management            14999 non-null  float32\n",
      " 13  marketing             14999 non-null  float32\n",
      " 14  product_mng           14999 non-null  float32\n",
      " 15  sales                 14999 non-null  float32\n",
      " 16  support               14999 non-null  float32\n",
      " 17  technical             14999 non-null  float32\n",
      "dtypes: float32(18)\n",
      "memory usage: 1.0 MB\n"
     ]
    }
   ],
   "source": [
    "x_data.info()"
   ]
  },
  {
   "cell_type": "code",
   "execution_count": null,
   "metadata": {},
   "outputs": [],
   "source": []
  },
  {
   "cell_type": "code",
   "execution_count": null,
   "metadata": {},
   "outputs": [],
   "source": []
  },
  {
   "cell_type": "code",
   "execution_count": null,
   "metadata": {},
   "outputs": [],
   "source": []
  }
 ],
 "metadata": {
  "kernelspec": {
   "display_name": "Python 3",
   "language": "python",
   "name": "python3"
  },
  "language_info": {
   "codemirror_mode": {
    "name": "ipython",
    "version": 3
   },
   "file_extension": ".py",
   "mimetype": "text/x-python",
   "name": "python",
   "nbconvert_exporter": "python",
   "pygments_lexer": "ipython3",
   "version": "3.8.5"
  }
 },
 "nbformat": 4,
 "nbformat_minor": 4
}
