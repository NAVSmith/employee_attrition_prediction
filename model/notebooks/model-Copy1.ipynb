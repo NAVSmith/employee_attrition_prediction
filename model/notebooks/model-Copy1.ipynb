{
 "cells": [
  {
   "cell_type": "code",
   "execution_count": 24,
   "metadata": {},
   "outputs": [
    {
     "ename": "ModuleNotFoundError",
     "evalue": "No module named 'split_data'",
     "output_type": "error",
     "traceback": [
      "\u001b[0;31m--------------------------------------\u001b[0m",
      "\u001b[0;31mModuleNotFoundError\u001b[0mTraceback (most recent call last)",
      "\u001b[0;32m<ipython-input-24-822debf6731d>\u001b[0m in \u001b[0;36m<module>\u001b[0;34m\u001b[0m\n\u001b[1;32m      8\u001b[0m \u001b[0;32mfrom\u001b[0m \u001b[0msklearn\u001b[0m \u001b[0;32mimport\u001b[0m \u001b[0mmetrics\u001b[0m \u001b[0;32mas\u001b[0m \u001b[0mmet\u001b[0m\u001b[0;34m\u001b[0m\u001b[0;34m\u001b[0m\u001b[0m\n\u001b[1;32m      9\u001b[0m \u001b[0;32mfrom\u001b[0m \u001b[0mimblearn\u001b[0m\u001b[0;34m.\u001b[0m\u001b[0mover_sampling\u001b[0m \u001b[0;32mimport\u001b[0m \u001b[0mSMOTE\u001b[0m\u001b[0;34m\u001b[0m\u001b[0;34m\u001b[0m\u001b[0m\n\u001b[0;32m---> 10\u001b[0;31m \u001b[0;32mfrom\u001b[0m \u001b[0msplit_data\u001b[0m \u001b[0;32mimport\u001b[0m \u001b[0mSplit_data\u001b[0m\u001b[0;34m\u001b[0m\u001b[0;34m\u001b[0m\u001b[0m\n\u001b[0m",
      "\u001b[0;31mModuleNotFoundError\u001b[0m: No module named 'split_data'"
     ]
    }
   ],
   "source": [
    "import tensorflow as tf\n",
    "import tensorflow_datasets as tfds\n",
    "import numpy as np\n",
    "import matplotlib.pyplot as plt\n",
    "import seaborn as sns \n",
    "from tensorflow.keras import models, layers, regularizers, metrics\n",
    "from sklearn.model_selection import train_test_split\n",
    "from sklearn import metrics as met\n",
    "from imblearn.over_sampling import SMOTE\n",
    "from split_data import Split_data\n"
   ]
  },
  {
   "cell_type": "code",
   "execution_count": 14,
   "metadata": {},
   "outputs": [],
   "source": [
    "# loading\n",
    "y = np.genfromtxt('../../data/processed_files/test/label.csv',delimiter=',')"
   ]
  },
  {
   "cell_type": "code",
   "execution_count": 15,
   "metadata": {},
   "outputs": [],
   "source": [
    "X = np.genfromtxt('../../data/processed_files/test/features.csv',delimiter=',')"
   ]
  },
  {
   "cell_type": "code",
   "execution_count": 16,
   "metadata": {},
   "outputs": [],
   "source": [
    "#splitting\n",
    "x_train, x_val, y_train, y_val = train_test_split(X,\n",
    "                                                 y,\n",
    "                                                 test_size = .2,\n",
    "                                                 random_state=12)"
   ]
  },
  {
   "cell_type": "code",
   "execution_count": 17,
   "metadata": {},
   "outputs": [],
   "source": [
    "# resampling the traninging data to change the balnce the data\n",
    "sm = SMOTE(random_state=12)\n",
    "x_res, y_res = sm.fit_sample(x_train, y_train)"
   ]
  },
  {
   "cell_type": "code",
   "execution_count": 18,
   "metadata": {},
   "outputs": [],
   "source": [
    "# turning the array to tensors\n",
    "y_train_res = tf.convert_to_tensor(y_res, dtype='float32')\n",
    "x_train_res = tf.convert_to_tensor(x_res, dtype='float32')"
   ]
  },
  {
   "cell_type": "code",
   "execution_count": 19,
   "metadata": {},
   "outputs": [],
   "source": [
    "X_val = tf.convert_to_tensor(x_val, dtype='float32')\n",
    "Y_val = tf.convert_to_tensor(y_val, dtype='float32')"
   ]
  },
  {
   "cell_type": "code",
   "execution_count": 20,
   "metadata": {},
   "outputs": [],
   "source": [
    "# makeing the tensorflow data \n",
    "data_train = tf.data.Dataset.from_tensor_slices(\n",
    "    (x_train_res, y_train_res)\n",
    "\n",
    ").cache()\n",
    "\n",
    "data_validate = tf.data.Dataset.from_tensor_slices(\n",
    "    (X_val, Y_val)).cache()"
   ]
  },
  {
   "cell_type": "code",
   "execution_count": 21,
   "metadata": {},
   "outputs": [
    {
     "data": {
      "text/plain": [
       "tensorflow.python.keras.metrics.AUC"
      ]
     },
     "execution_count": 21,
     "metadata": {},
     "output_type": "execute_result"
    }
   ],
   "source": [
    "metrics.AUC\n"
   ]
  },
  {
   "cell_type": "code",
   "execution_count": 22,
   "metadata": {},
   "outputs": [
    {
     "data": {
      "text/plain": [
       "(18,)"
      ]
     },
     "execution_count": 22,
     "metadata": {},
     "output_type": "execute_result"
    }
   ],
   "source": [
    "X[0].shape"
   ]
  },
  {
   "cell_type": "code",
   "execution_count": 12,
   "metadata": {},
   "outputs": [
    {
     "name": "stdout",
     "output_type": "stream",
     "text": [
      "Model: \"sequential\"\n",
      "_________________________________________________________________\n",
      "Layer (type)                 Output Shape              Param #   \n",
      "=================================================================\n",
      "flatten (Flatten)            (None, 18)                0         \n",
      "_________________________________________________________________\n",
      "dense (Dense)                (None, 18)                342       \n",
      "_________________________________________________________________\n",
      "dense_1 (Dense)              (None, 9)                 171       \n",
      "_________________________________________________________________\n",
      "dense_2 (Dense)              (None, 1)                 10        \n",
      "=================================================================\n",
      "Total params: 523\n",
      "Trainable params: 523\n",
      "Non-trainable params: 0\n",
      "_________________________________________________________________\n"
     ]
    }
   ],
   "source": [
    "model = models.Sequential()\n",
    "model.add(layers.Flatten(input_shape=(18, 1, 1)))\n",
    "model.add(layers.Dense(18, activation='relu'))\n",
    "model.add(layers.Dense(9, activation='relu'))\n",
    "model.add(layers.Dense(1, activation='sigmoid'))\n",
    "model.summary()\n",
    "\n",
    "\n",
    "model.compile(optimizer='adam', loss='binary_crossentropy', metrics=['accuracy'])"
   ]
  },
  {
   "cell_type": "code",
   "execution_count": 21,
   "metadata": {},
   "outputs": [
    {
     "name": "stdout",
     "output_type": "stream",
     "text": [
      "Epoch 1/1000\n",
      "WARNING:tensorflow:Model was constructed with shape (None, 18, 1, 1) for input Tensor(\"flatten_1_input:0\", shape=(None, 18, 1, 1), dtype=float32), but it was called on an input with incompatible shape (None, 18).\n",
      "WARNING:tensorflow:Model was constructed with shape (None, 18, 1, 1) for input Tensor(\"flatten_1_input:0\", shape=(None, 18, 1, 1), dtype=float32), but it was called on an input with incompatible shape (None, 18).\n",
      "531/574 [==========================>...] - ETA: 0s - loss: 0.5744 - accuracy: 0.7340WARNING:tensorflow:Model was constructed with shape (None, 18, 1, 1) for input Tensor(\"flatten_1_input:0\", shape=(None, 18, 1, 1), dtype=float32), but it was called on an input with incompatible shape (None, 18).\n",
      "574/574 [==============================] - 1s 1ms/step - loss: 0.5655 - accuracy: 0.7419 - val_loss: 0.5028 - val_accuracy: 0.7753\n",
      "Epoch 2/1000\n",
      "574/574 [==============================] - 1s 986us/step - loss: 0.3613 - accuracy: 0.8568 - val_loss: 0.3717 - val_accuracy: 0.8293\n",
      "Epoch 3/1000\n",
      "574/574 [==============================] - 1s 1ms/step - loss: 0.2602 - accuracy: 0.8977 - val_loss: 0.2733 - val_accuracy: 0.8830\n",
      "Epoch 4/1000\n",
      "574/574 [==============================] - 1s 1ms/step - loss: 0.2183 - accuracy: 0.9216 - val_loss: 0.2414 - val_accuracy: 0.9033\n",
      "Epoch 5/1000\n",
      "574/574 [==============================] - 1s 993us/step - loss: 0.1996 - accuracy: 0.9286 - val_loss: 0.2311 - val_accuracy: 0.9090\n",
      "Epoch 6/1000\n",
      "574/574 [==============================] - 1s 1000us/step - loss: 0.1909 - accuracy: 0.9338 - val_loss: 0.1878 - val_accuracy: 0.9313\n",
      "Epoch 7/1000\n",
      "574/574 [==============================] - 1s 1ms/step - loss: 0.1844 - accuracy: 0.9349 - val_loss: 0.2434 - val_accuracy: 0.9043\n",
      "Epoch 8/1000\n",
      "574/574 [==============================] - 1s 1ms/step - loss: 0.1800 - accuracy: 0.9392 - val_loss: 0.1909 - val_accuracy: 0.9307\n",
      "Epoch 9/1000\n",
      "574/574 [==============================] - 1s 1ms/step - loss: 0.1785 - accuracy: 0.9372 - val_loss: 0.1869 - val_accuracy: 0.9313\n",
      "Epoch 10/1000\n",
      "574/574 [==============================] - 1s 1ms/step - loss: 0.1770 - accuracy: 0.9373 - val_loss: 0.2114 - val_accuracy: 0.9203\n",
      "Epoch 11/1000\n",
      "574/574 [==============================] - 1s 1ms/step - loss: 0.1761 - accuracy: 0.9388 - val_loss: 0.2525 - val_accuracy: 0.8990\n",
      "Epoch 12/1000\n",
      "574/574 [==============================] - 1s 1ms/step - loss: 0.1773 - accuracy: 0.9380 - val_loss: 0.2127 - val_accuracy: 0.9197\n",
      "Epoch 13/1000\n",
      "574/574 [==============================] - 1s 1ms/step - loss: 0.1736 - accuracy: 0.9403 - val_loss: 0.2001 - val_accuracy: 0.9263\n",
      "Epoch 14/1000\n",
      "574/574 [==============================] - 1s 1ms/step - loss: 0.1718 - accuracy: 0.9416 - val_loss: 0.2003 - val_accuracy: 0.9267\n",
      "Epoch 15/1000\n",
      "574/574 [==============================] - 1s 1ms/step - loss: 0.1716 - accuracy: 0.9398 - val_loss: 0.1847 - val_accuracy: 0.9347\n",
      "Epoch 16/1000\n",
      "574/574 [==============================] - 1s 1ms/step - loss: 0.1707 - accuracy: 0.9414 - val_loss: 0.2093 - val_accuracy: 0.9207\n",
      "Epoch 17/1000\n",
      "574/574 [==============================] - 1s 985us/step - loss: 0.1707 - accuracy: 0.9405 - val_loss: 0.2018 - val_accuracy: 0.9257\n",
      "Epoch 18/1000\n",
      "574/574 [==============================] - 1s 1ms/step - loss: 0.1672 - accuracy: 0.9436 - val_loss: 0.2004 - val_accuracy: 0.9287\n",
      "Epoch 19/1000\n",
      "574/574 [==============================] - 1s 1ms/step - loss: 0.1680 - accuracy: 0.9415 - val_loss: 0.1990 - val_accuracy: 0.9280\n",
      "Epoch 20/1000\n",
      "574/574 [==============================] - 1s 1ms/step - loss: 0.1673 - accuracy: 0.9421 - val_loss: 0.1822 - val_accuracy: 0.9383\n",
      "Epoch 21/1000\n",
      "574/574 [==============================] - 1s 1ms/step - loss: 0.1673 - accuracy: 0.9410 - val_loss: 0.2309 - val_accuracy: 0.9103\n",
      "Epoch 22/1000\n",
      "574/574 [==============================] - 1s 1ms/step - loss: 0.1674 - accuracy: 0.9422 - val_loss: 0.2087 - val_accuracy: 0.9220\n",
      "Epoch 23/1000\n",
      "574/574 [==============================] - 1s 954us/step - loss: 0.1666 - accuracy: 0.9422 - val_loss: 0.1736 - val_accuracy: 0.9410\n",
      "Epoch 24/1000\n",
      "574/574 [==============================] - 1s 1ms/step - loss: 0.1647 - accuracy: 0.9421 - val_loss: 0.1940 - val_accuracy: 0.9303\n",
      "Epoch 25/1000\n",
      "574/574 [==============================] - 1s 976us/step - loss: 0.1655 - accuracy: 0.9418 - val_loss: 0.1699 - val_accuracy: 0.9440\n",
      "Epoch 26/1000\n",
      "574/574 [==============================] - 1s 998us/step - loss: 0.1655 - accuracy: 0.9423 - val_loss: 0.1971 - val_accuracy: 0.9283\n",
      "Epoch 27/1000\n",
      "574/574 [==============================] - 1s 961us/step - loss: 0.1647 - accuracy: 0.9437 - val_loss: 0.1834 - val_accuracy: 0.9333\n",
      "Epoch 28/1000\n",
      "574/574 [==============================] - 1s 999us/step - loss: 0.1649 - accuracy: 0.9425 - val_loss: 0.1771 - val_accuracy: 0.9377\n",
      "Epoch 29/1000\n",
      "574/574 [==============================] - 1s 997us/step - loss: 0.1626 - accuracy: 0.9433 - val_loss: 0.2072 - val_accuracy: 0.9213\n",
      "Epoch 30/1000\n",
      "574/574 [==============================] - 1s 964us/step - loss: 0.1640 - accuracy: 0.9421 - val_loss: 0.1929 - val_accuracy: 0.9300\n",
      "Epoch 31/1000\n",
      "574/574 [==============================] - 1s 1ms/step - loss: 0.1634 - accuracy: 0.9427 - val_loss: 0.1844 - val_accuracy: 0.9337\n",
      "Epoch 32/1000\n",
      "574/574 [==============================] - 1s 996us/step - loss: 0.1627 - accuracy: 0.9433 - val_loss: 0.1862 - val_accuracy: 0.9327\n",
      "Epoch 33/1000\n",
      "574/574 [==============================] - 1s 1ms/step - loss: 0.1611 - accuracy: 0.9432 - val_loss: 0.1904 - val_accuracy: 0.9273\n",
      "Epoch 34/1000\n",
      "574/574 [==============================] - 1s 1ms/step - loss: 0.1616 - accuracy: 0.9438 - val_loss: 0.2169 - val_accuracy: 0.9153\n",
      "Epoch 35/1000\n",
      "574/574 [==============================] - 1s 1ms/step - loss: 0.1607 - accuracy: 0.9444 - val_loss: 0.1881 - val_accuracy: 0.9303\n",
      "Epoch 36/1000\n",
      "574/574 [==============================] - 1s 975us/step - loss: 0.1607 - accuracy: 0.9441 - val_loss: 0.1904 - val_accuracy: 0.9297\n",
      "Epoch 37/1000\n",
      "574/574 [==============================] - 1s 948us/step - loss: 0.1594 - accuracy: 0.9439 - val_loss: 0.1907 - val_accuracy: 0.9297\n",
      "Epoch 38/1000\n",
      "574/574 [==============================] - 1s 949us/step - loss: 0.1620 - accuracy: 0.9436 - val_loss: 0.1771 - val_accuracy: 0.9367\n",
      "Epoch 39/1000\n",
      "574/574 [==============================] - 1s 949us/step - loss: 0.1592 - accuracy: 0.9438 - val_loss: 0.1942 - val_accuracy: 0.9260\n",
      "Epoch 40/1000\n",
      "574/574 [==============================] - 1s 975us/step - loss: 0.1601 - accuracy: 0.9442 - val_loss: 0.1900 - val_accuracy: 0.9280\n",
      "Epoch 41/1000\n",
      "574/574 [==============================] - 1s 960us/step - loss: 0.1602 - accuracy: 0.9445 - val_loss: 0.1900 - val_accuracy: 0.9290\n",
      "Epoch 42/1000\n",
      "574/574 [==============================] - 1s 941us/step - loss: 0.1609 - accuracy: 0.9430 - val_loss: 0.1964 - val_accuracy: 0.9270\n",
      "Epoch 43/1000\n",
      "574/574 [==============================] - 1s 984us/step - loss: 0.1573 - accuracy: 0.9451 - val_loss: 0.1926 - val_accuracy: 0.9280\n",
      "Epoch 44/1000\n",
      "574/574 [==============================] - 1s 1ms/step - loss: 0.1583 - accuracy: 0.9431 - val_loss: 0.1951 - val_accuracy: 0.9270\n",
      "Epoch 45/1000\n",
      "574/574 [==============================] - 1s 1ms/step - loss: 0.1587 - accuracy: 0.9440 - val_loss: 0.1910 - val_accuracy: 0.9337\n",
      "Epoch 46/1000\n",
      "574/574 [==============================] - 1s 1ms/step - loss: 0.1576 - accuracy: 0.9448 - val_loss: 0.1996 - val_accuracy: 0.9263\n",
      "Epoch 47/1000\n",
      "574/574 [==============================] - 1s 950us/step - loss: 0.1566 - accuracy: 0.9443 - val_loss: 0.1763 - val_accuracy: 0.9367\n",
      "Epoch 48/1000\n",
      "574/574 [==============================] - 1s 938us/step - loss: 0.1572 - accuracy: 0.9457 - val_loss: 0.1885 - val_accuracy: 0.9313\n",
      "Epoch 49/1000\n",
      "574/574 [==============================] - 1s 1ms/step - loss: 0.1551 - accuracy: 0.9458 - val_loss: 0.2189 - val_accuracy: 0.9170\n",
      "Epoch 50/1000\n",
      "574/574 [==============================] - 1s 940us/step - loss: 0.1575 - accuracy: 0.9439 - val_loss: 0.2012 - val_accuracy: 0.9227\n",
      "Epoch 51/1000\n",
      "574/574 [==============================] - 1s 962us/step - loss: 0.1571 - accuracy: 0.9435 - val_loss: 0.1865 - val_accuracy: 0.9310\n",
      "Epoch 52/1000\n",
      "574/574 [==============================] - 1s 944us/step - loss: 0.1578 - accuracy: 0.9439 - val_loss: 0.1792 - val_accuracy: 0.9340\n",
      "Epoch 53/1000\n",
      "574/574 [==============================] - 1s 983us/step - loss: 0.1556 - accuracy: 0.9446 - val_loss: 0.1937 - val_accuracy: 0.9297\n",
      "Epoch 54/1000\n",
      "574/574 [==============================] - 1s 943us/step - loss: 0.1553 - accuracy: 0.9448 - val_loss: 0.1765 - val_accuracy: 0.9367\n",
      "Epoch 55/1000\n",
      "574/574 [==============================] - 1s 951us/step - loss: 0.1553 - accuracy: 0.9450 - val_loss: 0.2215 - val_accuracy: 0.9143\n",
      "Epoch 56/1000\n",
      "574/574 [==============================] - 1s 1ms/step - loss: 0.1565 - accuracy: 0.9438 - val_loss: 0.2054 - val_accuracy: 0.9237\n",
      "Epoch 57/1000\n",
      "574/574 [==============================] - 1s 927us/step - loss: 0.1573 - accuracy: 0.9445 - val_loss: 0.1783 - val_accuracy: 0.9350\n",
      "Epoch 58/1000\n",
      "574/574 [==============================] - 1s 2ms/step - loss: 0.1538 - accuracy: 0.9465 - val_loss: 0.1944 - val_accuracy: 0.9290\n",
      "Epoch 59/1000\n",
      "574/574 [==============================] - 1s 2ms/step - loss: 0.1547 - accuracy: 0.9448 - val_loss: 0.1966 - val_accuracy: 0.9297\n",
      "Epoch 60/1000\n",
      "574/574 [==============================] - 1s 1ms/step - loss: 0.1543 - accuracy: 0.9469 - val_loss: 0.2477 - val_accuracy: 0.9010\n",
      "Epoch 61/1000\n",
      "574/574 [==============================] - 1s 1ms/step - loss: 0.1555 - accuracy: 0.9452 - val_loss: 0.1694 - val_accuracy: 0.9400\n",
      "Epoch 62/1000\n",
      "574/574 [==============================] - 1s 930us/step - loss: 0.1549 - accuracy: 0.9447 - val_loss: 0.1785 - val_accuracy: 0.9347\n",
      "Epoch 63/1000\n",
      "574/574 [==============================] - 1s 922us/step - loss: 0.1551 - accuracy: 0.9451 - val_loss: 0.2224 - val_accuracy: 0.9113\n",
      "Epoch 64/1000\n",
      "574/574 [==============================] - 1s 959us/step - loss: 0.1536 - accuracy: 0.9466 - val_loss: 0.1975 - val_accuracy: 0.9290\n",
      "Epoch 65/1000\n",
      "574/574 [==============================] - 1s 926us/step - loss: 0.1545 - accuracy: 0.9439 - val_loss: 0.1789 - val_accuracy: 0.9370\n",
      "Epoch 66/1000\n",
      "574/574 [==============================] - 1s 952us/step - loss: 0.1541 - accuracy: 0.9442 - val_loss: 0.2527 - val_accuracy: 0.8977\n",
      "Epoch 67/1000\n",
      "574/574 [==============================] - 1s 948us/step - loss: 0.1531 - accuracy: 0.9460 - val_loss: 0.1823 - val_accuracy: 0.9327\n",
      "Epoch 68/1000\n",
      "574/574 [==============================] - 1s 936us/step - loss: 0.1539 - accuracy: 0.9454 - val_loss: 0.1707 - val_accuracy: 0.9397\n",
      "Epoch 69/1000\n",
      "574/574 [==============================] - 1s 953us/step - loss: 0.1525 - accuracy: 0.9468 - val_loss: 0.1881 - val_accuracy: 0.9310\n",
      "Epoch 70/1000\n",
      "574/574 [==============================] - 1s 932us/step - loss: 0.1528 - accuracy: 0.9457 - val_loss: 0.1831 - val_accuracy: 0.9330\n",
      "Epoch 71/1000\n",
      "574/574 [==============================] - 1s 956us/step - loss: 0.1525 - accuracy: 0.9459 - val_loss: 0.1743 - val_accuracy: 0.9390\n",
      "Epoch 72/1000\n",
      "574/574 [==============================] - 1s 934us/step - loss: 0.1516 - accuracy: 0.9457 - val_loss: 0.2073 - val_accuracy: 0.9230\n",
      "Epoch 73/1000\n",
      "574/574 [==============================] - 1s 1ms/step - loss: 0.1525 - accuracy: 0.9454 - val_loss: 0.1925 - val_accuracy: 0.9287\n",
      "Epoch 74/1000\n",
      "574/574 [==============================] - 1s 966us/step - loss: 0.1515 - accuracy: 0.9459 - val_loss: 0.1800 - val_accuracy: 0.9350\n",
      "Epoch 75/1000\n",
      "574/574 [==============================] - 1s 976us/step - loss: 0.1507 - accuracy: 0.9458 - val_loss: 0.2200 - val_accuracy: 0.9153\n",
      "Epoch 76/1000\n",
      "574/574 [==============================] - 1s 945us/step - loss: 0.1509 - accuracy: 0.9465 - val_loss: 0.1998 - val_accuracy: 0.9277\n",
      "Epoch 77/1000\n",
      "574/574 [==============================] - 1s 929us/step - loss: 0.1516 - accuracy: 0.9449 - val_loss: 0.1652 - val_accuracy: 0.9403\n",
      "Epoch 78/1000\n",
      "574/574 [==============================] - 1s 938us/step - loss: 0.1507 - accuracy: 0.9472 - val_loss: 0.1736 - val_accuracy: 0.9363\n",
      "Epoch 79/1000\n",
      "574/574 [==============================] - 1s 921us/step - loss: 0.1508 - accuracy: 0.9469 - val_loss: 0.1816 - val_accuracy: 0.9330\n",
      "Epoch 80/1000\n",
      "574/574 [==============================] - 1s 952us/step - loss: 0.1506 - accuracy: 0.9461 - val_loss: 0.1637 - val_accuracy: 0.9440\n",
      "Epoch 81/1000\n",
      "574/574 [==============================] - 1s 923us/step - loss: 0.1514 - accuracy: 0.9458 - val_loss: 0.1801 - val_accuracy: 0.9353\n",
      "Epoch 82/1000\n",
      "574/574 [==============================] - 1s 930us/step - loss: 0.1514 - accuracy: 0.9453 - val_loss: 0.1783 - val_accuracy: 0.9347\n",
      "Epoch 83/1000\n",
      "574/574 [==============================] - 1s 929us/step - loss: 0.1500 - accuracy: 0.9460 - val_loss: 0.1924 - val_accuracy: 0.9280\n",
      "Epoch 84/1000\n",
      "574/574 [==============================] - 1s 943us/step - loss: 0.1497 - accuracy: 0.9478 - val_loss: 0.1679 - val_accuracy: 0.9407\n",
      "Epoch 85/1000\n",
      "574/574 [==============================] - 1s 960us/step - loss: 0.1488 - accuracy: 0.9474 - val_loss: 0.2209 - val_accuracy: 0.9147\n",
      "Epoch 86/1000\n",
      "574/574 [==============================] - 1s 987us/step - loss: 0.1504 - accuracy: 0.9458 - val_loss: 0.2063 - val_accuracy: 0.9240\n",
      "Epoch 87/1000\n",
      "574/574 [==============================] - 1s 965us/step - loss: 0.1502 - accuracy: 0.9458 - val_loss: 0.1906 - val_accuracy: 0.9303\n",
      "Epoch 88/1000\n",
      "574/574 [==============================] - 1s 935us/step - loss: 0.1493 - accuracy: 0.9472 - val_loss: 0.1646 - val_accuracy: 0.9423\n",
      "Epoch 89/1000\n",
      "574/574 [==============================] - 1s 957us/step - loss: 0.1496 - accuracy: 0.9472 - val_loss: 0.1714 - val_accuracy: 0.9393\n",
      "Epoch 90/1000\n",
      "574/574 [==============================] - 1s 1ms/step - loss: 0.1484 - accuracy: 0.9476 - val_loss: 0.1780 - val_accuracy: 0.9380\n",
      "Epoch 91/1000\n",
      "574/574 [==============================] - 1s 1ms/step - loss: 0.1492 - accuracy: 0.9468 - val_loss: 0.1568 - val_accuracy: 0.9490\n",
      "Epoch 92/1000\n",
      "574/574 [==============================] - 1s 1ms/step - loss: 0.1480 - accuracy: 0.9477 - val_loss: 0.1593 - val_accuracy: 0.9497\n",
      "Epoch 93/1000\n",
      "574/574 [==============================] - 1s 1ms/step - loss: 0.1486 - accuracy: 0.9468 - val_loss: 0.1666 - val_accuracy: 0.9447\n",
      "Epoch 94/1000\n",
      "574/574 [==============================] - 1s 1ms/step - loss: 0.1482 - accuracy: 0.9467 - val_loss: 0.1744 - val_accuracy: 0.9407\n",
      "Epoch 95/1000\n",
      "574/574 [==============================] - 1s 917us/step - loss: 0.1478 - accuracy: 0.9486 - val_loss: 0.1836 - val_accuracy: 0.9320\n",
      "Epoch 96/1000\n",
      "574/574 [==============================] - 1s 928us/step - loss: 0.1481 - accuracy: 0.9477 - val_loss: 0.1737 - val_accuracy: 0.9380\n",
      "Epoch 97/1000\n",
      "574/574 [==============================] - 1s 1ms/step - loss: 0.1480 - accuracy: 0.9472 - val_loss: 0.1829 - val_accuracy: 0.9343\n",
      "Epoch 98/1000\n",
      "574/574 [==============================] - 1s 1ms/step - loss: 0.1480 - accuracy: 0.9471 - val_loss: 0.1647 - val_accuracy: 0.9470\n",
      "Epoch 99/1000\n",
      "574/574 [==============================] - 1s 984us/step - loss: 0.1484 - accuracy: 0.9463 - val_loss: 0.2053 - val_accuracy: 0.9223\n",
      "Epoch 100/1000\n",
      "574/574 [==============================] - 1s 1ms/step - loss: 0.1468 - accuracy: 0.9479 - val_loss: 0.1956 - val_accuracy: 0.9287\n",
      "Epoch 101/1000\n",
      "574/574 [==============================] - 1s 945us/step - loss: 0.1483 - accuracy: 0.9475 - val_loss: 0.1870 - val_accuracy: 0.9343\n",
      "Epoch 102/1000\n",
      "574/574 [==============================] - 1s 956us/step - loss: 0.1470 - accuracy: 0.9475 - val_loss: 0.1715 - val_accuracy: 0.9393\n",
      "Epoch 103/1000\n",
      "574/574 [==============================] - 1s 936us/step - loss: 0.1470 - accuracy: 0.9497 - val_loss: 0.1625 - val_accuracy: 0.9440\n",
      "Epoch 104/1000\n",
      "574/574 [==============================] - 1s 945us/step - loss: 0.1471 - accuracy: 0.9485 - val_loss: 0.1944 - val_accuracy: 0.9283\n",
      "Epoch 105/1000\n",
      "574/574 [==============================] - 1s 912us/step - loss: 0.1475 - accuracy: 0.9480 - val_loss: 0.1761 - val_accuracy: 0.9387\n",
      "Epoch 106/1000\n",
      "574/574 [==============================] - 1s 1ms/step - loss: 0.1477 - accuracy: 0.9487 - val_loss: 0.1835 - val_accuracy: 0.9330\n",
      "Epoch 107/1000\n",
      "574/574 [==============================] - 1s 926us/step - loss: 0.1472 - accuracy: 0.9470 - val_loss: 0.1682 - val_accuracy: 0.9440\n",
      "Epoch 108/1000\n",
      "574/574 [==============================] - 1s 948us/step - loss: 0.1463 - accuracy: 0.9479 - val_loss: 0.1815 - val_accuracy: 0.9350\n",
      "Epoch 109/1000\n",
      "574/574 [==============================] - 1s 962us/step - loss: 0.1456 - accuracy: 0.9482 - val_loss: 0.1653 - val_accuracy: 0.9443\n",
      "Epoch 110/1000\n",
      "574/574 [==============================] - 1s 943us/step - loss: 0.1470 - accuracy: 0.9479 - val_loss: 0.1704 - val_accuracy: 0.9410\n",
      "Epoch 111/1000\n",
      "574/574 [==============================] - 1s 928us/step - loss: 0.1467 - accuracy: 0.9484 - val_loss: 0.1942 - val_accuracy: 0.9293\n",
      "Epoch 112/1000\n",
      "574/574 [==============================] - 1s 904us/step - loss: 0.1480 - accuracy: 0.9471 - val_loss: 0.1730 - val_accuracy: 0.9377\n",
      "Epoch 113/1000\n",
      "574/574 [==============================] - 1s 970us/step - loss: 0.1481 - accuracy: 0.9464 - val_loss: 0.1937 - val_accuracy: 0.9300\n",
      "Epoch 114/1000\n",
      "574/574 [==============================] - 1s 909us/step - loss: 0.1475 - accuracy: 0.9484 - val_loss: 0.1611 - val_accuracy: 0.9470\n",
      "Epoch 115/1000\n",
      "574/574 [==============================] - 1s 950us/step - loss: 0.1459 - accuracy: 0.9465 - val_loss: 0.1754 - val_accuracy: 0.9357\n",
      "Epoch 116/1000\n",
      "574/574 [==============================] - 1s 924us/step - loss: 0.1451 - accuracy: 0.9491 - val_loss: 0.1777 - val_accuracy: 0.9363\n",
      "Epoch 117/1000\n",
      "574/574 [==============================] - 1s 936us/step - loss: 0.1466 - accuracy: 0.9485 - val_loss: 0.1777 - val_accuracy: 0.9377\n",
      "Epoch 118/1000\n",
      "574/574 [==============================] - 1s 927us/step - loss: 0.1457 - accuracy: 0.9479 - val_loss: 0.2096 - val_accuracy: 0.9250\n",
      "Epoch 119/1000\n",
      "574/574 [==============================] - 1s 919us/step - loss: 0.1469 - accuracy: 0.9471 - val_loss: 0.1869 - val_accuracy: 0.9340\n",
      "Epoch 120/1000\n",
      "574/574 [==============================] - 1s 935us/step - loss: 0.1455 - accuracy: 0.9473 - val_loss: 0.1591 - val_accuracy: 0.9477\n",
      "Epoch 121/1000\n",
      "574/574 [==============================] - 1s 1ms/step - loss: 0.1458 - accuracy: 0.9471 - val_loss: 0.1576 - val_accuracy: 0.9487\n",
      "Epoch 122/1000\n",
      "574/574 [==============================] - 1s 974us/step - loss: 0.1462 - accuracy: 0.9470 - val_loss: 0.1886 - val_accuracy: 0.9363\n",
      "Epoch 123/1000\n",
      "574/574 [==============================] - 1s 1ms/step - loss: 0.1462 - accuracy: 0.9488 - val_loss: 0.1650 - val_accuracy: 0.9440\n",
      "Epoch 124/1000\n",
      "574/574 [==============================] - 1s 1ms/step - loss: 0.1447 - accuracy: 0.9468 - val_loss: 0.1734 - val_accuracy: 0.9377\n",
      "Epoch 125/1000\n",
      "574/574 [==============================] - 1s 932us/step - loss: 0.1452 - accuracy: 0.9484 - val_loss: 0.1691 - val_accuracy: 0.9443\n",
      "Epoch 126/1000\n",
      "574/574 [==============================] - 1s 966us/step - loss: 0.1446 - accuracy: 0.9482 - val_loss: 0.1682 - val_accuracy: 0.9443\n",
      "Epoch 127/1000\n",
      "574/574 [==============================] - 1s 956us/step - loss: 0.1451 - accuracy: 0.9484 - val_loss: 0.1647 - val_accuracy: 0.9483\n",
      "Epoch 128/1000\n",
      "574/574 [==============================] - 1s 926us/step - loss: 0.1458 - accuracy: 0.9491 - val_loss: 0.1790 - val_accuracy: 0.9377\n",
      "Epoch 129/1000\n",
      "574/574 [==============================] - 1s 958us/step - loss: 0.1454 - accuracy: 0.9485 - val_loss: 0.1726 - val_accuracy: 0.9397\n",
      "Epoch 130/1000\n",
      "574/574 [==============================] - 1s 929us/step - loss: 0.1465 - accuracy: 0.9474 - val_loss: 0.1670 - val_accuracy: 0.9427\n",
      "Epoch 131/1000\n",
      "574/574 [==============================] - 1s 992us/step - loss: 0.1449 - accuracy: 0.9490 - val_loss: 0.1842 - val_accuracy: 0.9343\n",
      "Epoch 132/1000\n",
      "574/574 [==============================] - 1s 917us/step - loss: 0.1437 - accuracy: 0.9488 - val_loss: 0.1899 - val_accuracy: 0.9323\n",
      "Epoch 133/1000\n",
      "574/574 [==============================] - 1s 942us/step - loss: 0.1449 - accuracy: 0.9490 - val_loss: 0.2050 - val_accuracy: 0.9253\n",
      "Epoch 134/1000\n",
      "574/574 [==============================] - 1s 901us/step - loss: 0.1455 - accuracy: 0.9472 - val_loss: 0.1674 - val_accuracy: 0.9457\n",
      "Epoch 135/1000\n",
      "574/574 [==============================] - 1s 1ms/step - loss: 0.1443 - accuracy: 0.9479 - val_loss: 0.1704 - val_accuracy: 0.9440\n",
      "Epoch 136/1000\n",
      "574/574 [==============================] - 1s 915us/step - loss: 0.1434 - accuracy: 0.9495 - val_loss: 0.1720 - val_accuracy: 0.9403\n",
      "Epoch 137/1000\n",
      "574/574 [==============================] - 1s 900us/step - loss: 0.1425 - accuracy: 0.9495 - val_loss: 0.1789 - val_accuracy: 0.9367\n",
      "Epoch 138/1000\n",
      "574/574 [==============================] - 1s 975us/step - loss: 0.1439 - accuracy: 0.9484 - val_loss: 0.1634 - val_accuracy: 0.9473\n",
      "Epoch 139/1000\n",
      "574/574 [==============================] - 1s 999us/step - loss: 0.1434 - accuracy: 0.9492 - val_loss: 0.1689 - val_accuracy: 0.9413\n",
      "Epoch 140/1000\n",
      "574/574 [==============================] - 1s 944us/step - loss: 0.1438 - accuracy: 0.9483 - val_loss: 0.1923 - val_accuracy: 0.9320\n",
      "Epoch 141/1000\n",
      "574/574 [==============================] - 1s 904us/step - loss: 0.1445 - accuracy: 0.9480 - val_loss: 0.2010 - val_accuracy: 0.9270\n",
      "Epoch 142/1000\n",
      "574/574 [==============================] - 1s 1ms/step - loss: 0.1448 - accuracy: 0.9482 - val_loss: 0.1954 - val_accuracy: 0.9297\n",
      "Epoch 143/1000\n",
      "574/574 [==============================] - 1s 1ms/step - loss: 0.1428 - accuracy: 0.9490 - val_loss: 0.1681 - val_accuracy: 0.9423\n",
      "Epoch 144/1000\n",
      "574/574 [==============================] - 1s 1ms/step - loss: 0.1437 - accuracy: 0.9485 - val_loss: 0.1735 - val_accuracy: 0.9403\n",
      "Epoch 145/1000\n",
      "574/574 [==============================] - 1s 932us/step - loss: 0.1435 - accuracy: 0.9474 - val_loss: 0.1887 - val_accuracy: 0.9333\n",
      "Epoch 146/1000\n",
      "574/574 [==============================] - 1s 882us/step - loss: 0.1440 - accuracy: 0.9488 - val_loss: 0.2157 - val_accuracy: 0.9223\n",
      "Epoch 147/1000\n",
      "574/574 [==============================] - 1s 882us/step - loss: 0.1438 - accuracy: 0.9492 - val_loss: 0.2003 - val_accuracy: 0.9267\n",
      "Epoch 148/1000\n",
      "574/574 [==============================] - 1s 873us/step - loss: 0.1446 - accuracy: 0.9486 - val_loss: 0.1760 - val_accuracy: 0.9403\n",
      "Epoch 149/1000\n",
      "574/574 [==============================] - 1s 887us/step - loss: 0.1427 - accuracy: 0.9489 - val_loss: 0.1665 - val_accuracy: 0.9430\n",
      "Epoch 150/1000\n",
      "574/574 [==============================] - 0s 864us/step - loss: 0.1435 - accuracy: 0.9490 - val_loss: 0.1857 - val_accuracy: 0.9337\n",
      "Epoch 151/1000\n",
      "574/574 [==============================] - 1s 883us/step - loss: 0.1439 - accuracy: 0.9494 - val_loss: 0.1553 - val_accuracy: 0.9503\n",
      "Epoch 152/1000\n",
      "574/574 [==============================] - 0s 870us/step - loss: 0.1423 - accuracy: 0.9495 - val_loss: 0.1858 - val_accuracy: 0.9377\n",
      "Epoch 153/1000\n",
      "574/574 [==============================] - 1s 920us/step - loss: 0.1442 - accuracy: 0.9478 - val_loss: 0.1714 - val_accuracy: 0.9420\n",
      "Epoch 154/1000\n",
      "574/574 [==============================] - 1s 882us/step - loss: 0.1432 - accuracy: 0.9492 - val_loss: 0.1830 - val_accuracy: 0.9373\n",
      "Epoch 155/1000\n",
      "574/574 [==============================] - 1s 1ms/step - loss: 0.1434 - accuracy: 0.9497 - val_loss: 0.1832 - val_accuracy: 0.9347\n",
      "Epoch 156/1000\n",
      "574/574 [==============================] - 1s 1ms/step - loss: 0.1445 - accuracy: 0.9480 - val_loss: 0.1726 - val_accuracy: 0.9397\n",
      "Epoch 157/1000\n",
      "574/574 [==============================] - 1s 938us/step - loss: 0.1432 - accuracy: 0.9486 - val_loss: 0.1521 - val_accuracy: 0.9513\n",
      "Epoch 158/1000\n",
      "574/574 [==============================] - 1s 978us/step - loss: 0.1415 - accuracy: 0.9497 - val_loss: 0.2079 - val_accuracy: 0.9257\n",
      "Epoch 159/1000\n",
      "574/574 [==============================] - 1s 1ms/step - loss: 0.1420 - accuracy: 0.9489 - val_loss: 0.1835 - val_accuracy: 0.9343\n",
      "Epoch 160/1000\n",
      "574/574 [==============================] - 1s 881us/step - loss: 0.1414 - accuracy: 0.9494 - val_loss: 0.1793 - val_accuracy: 0.9367\n",
      "Epoch 161/1000\n",
      "574/574 [==============================] - 1s 912us/step - loss: 0.1420 - accuracy: 0.9482 - val_loss: 0.1708 - val_accuracy: 0.9417\n",
      "Epoch 162/1000\n",
      "574/574 [==============================] - 1s 890us/step - loss: 0.1407 - accuracy: 0.9496 - val_loss: 0.1612 - val_accuracy: 0.9487\n",
      "Epoch 163/1000\n",
      "574/574 [==============================] - 1s 961us/step - loss: 0.1426 - accuracy: 0.9486 - val_loss: 0.1619 - val_accuracy: 0.9433\n",
      "Epoch 164/1000\n",
      "574/574 [==============================] - 1s 893us/step - loss: 0.1414 - accuracy: 0.9485 - val_loss: 0.1776 - val_accuracy: 0.9407\n",
      "Epoch 165/1000\n",
      "574/574 [==============================] - 1s 963us/step - loss: 0.1418 - accuracy: 0.9502 - val_loss: 0.1660 - val_accuracy: 0.9460\n",
      "Epoch 166/1000\n",
      "574/574 [==============================] - 1s 900us/step - loss: 0.1413 - accuracy: 0.9477 - val_loss: 0.1579 - val_accuracy: 0.9480\n",
      "Epoch 167/1000\n",
      "574/574 [==============================] - 1s 1ms/step - loss: 0.1411 - accuracy: 0.9492 - val_loss: 0.1795 - val_accuracy: 0.9367\n",
      "Epoch 168/1000\n",
      "574/574 [==============================] - 1s 903us/step - loss: 0.1428 - accuracy: 0.9488 - val_loss: 0.1691 - val_accuracy: 0.9443\n",
      "Epoch 169/1000\n",
      "574/574 [==============================] - 1s 909us/step - loss: 0.1418 - accuracy: 0.9496 - val_loss: 0.1904 - val_accuracy: 0.9333\n",
      "Epoch 170/1000\n",
      "574/574 [==============================] - 1s 928us/step - loss: 0.1419 - accuracy: 0.9490 - val_loss: 0.1714 - val_accuracy: 0.9410\n",
      "Epoch 171/1000\n",
      "574/574 [==============================] - 1s 900us/step - loss: 0.1406 - accuracy: 0.9498 - val_loss: 0.2075 - val_accuracy: 0.9253\n",
      "Epoch 172/1000\n",
      "574/574 [==============================] - 1s 973us/step - loss: 0.1409 - accuracy: 0.9503 - val_loss: 0.1938 - val_accuracy: 0.9327\n",
      "Epoch 173/1000\n",
      "574/574 [==============================] - 1s 971us/step - loss: 0.1413 - accuracy: 0.9495 - val_loss: 0.1821 - val_accuracy: 0.9383\n",
      "Epoch 174/1000\n",
      "574/574 [==============================] - 1s 936us/step - loss: 0.1403 - accuracy: 0.9495 - val_loss: 0.1761 - val_accuracy: 0.9383\n",
      "Epoch 175/1000\n",
      "574/574 [==============================] - 0s 870us/step - loss: 0.1394 - accuracy: 0.9497 - val_loss: 0.1593 - val_accuracy: 0.9500\n",
      "Epoch 176/1000\n",
      "574/574 [==============================] - 1s 897us/step - loss: 0.1396 - accuracy: 0.9513 - val_loss: 0.1703 - val_accuracy: 0.9443\n",
      "Epoch 177/1000\n",
      "574/574 [==============================] - 0s 870us/step - loss: 0.1415 - accuracy: 0.9512 - val_loss: 0.1831 - val_accuracy: 0.9370\n",
      "Epoch 178/1000\n",
      "574/574 [==============================] - 1s 1ms/step - loss: 0.1389 - accuracy: 0.9506 - val_loss: 0.1757 - val_accuracy: 0.9400\n",
      "Epoch 179/1000\n",
      "574/574 [==============================] - 1s 1ms/step - loss: 0.1412 - accuracy: 0.9488 - val_loss: 0.1664 - val_accuracy: 0.9437\n",
      "Epoch 180/1000\n",
      "574/574 [==============================] - 1s 1ms/step - loss: 0.1402 - accuracy: 0.9497 - val_loss: 0.1630 - val_accuracy: 0.9457\n",
      "Epoch 181/1000\n",
      "574/574 [==============================] - 1s 943us/step - loss: 0.1385 - accuracy: 0.9504 - val_loss: 0.1786 - val_accuracy: 0.9370\n",
      "Epoch 182/1000\n",
      "574/574 [==============================] - 1s 908us/step - loss: 0.1394 - accuracy: 0.9510 - val_loss: 0.1816 - val_accuracy: 0.9357\n",
      "Epoch 183/1000\n",
      "574/574 [==============================] - 1s 937us/step - loss: 0.1405 - accuracy: 0.9491 - val_loss: 0.1621 - val_accuracy: 0.9470\n",
      "Epoch 184/1000\n",
      "574/574 [==============================] - 1s 900us/step - loss: 0.1392 - accuracy: 0.9500 - val_loss: 0.1560 - val_accuracy: 0.9523\n",
      "Epoch 185/1000\n",
      "574/574 [==============================] - 1s 933us/step - loss: 0.1393 - accuracy: 0.9507 - val_loss: 0.1826 - val_accuracy: 0.9370\n",
      "Epoch 186/1000\n",
      "574/574 [==============================] - 1s 987us/step - loss: 0.1396 - accuracy: 0.9505 - val_loss: 0.2057 - val_accuracy: 0.9260\n",
      "Epoch 187/1000\n",
      "574/574 [==============================] - 1s 904us/step - loss: 0.1395 - accuracy: 0.9518 - val_loss: 0.1750 - val_accuracy: 0.9400\n",
      "Epoch 188/1000\n",
      "574/574 [==============================] - 1s 1ms/step - loss: 0.1401 - accuracy: 0.9494 - val_loss: 0.1664 - val_accuracy: 0.9460\n",
      "Epoch 189/1000\n",
      "574/574 [==============================] - 1s 886us/step - loss: 0.1387 - accuracy: 0.9510 - val_loss: 0.1630 - val_accuracy: 0.9460\n",
      "Epoch 190/1000\n",
      "574/574 [==============================] - 1s 1ms/step - loss: 0.1385 - accuracy: 0.9497 - val_loss: 0.1981 - val_accuracy: 0.9280\n",
      "Epoch 191/1000\n",
      "574/574 [==============================] - 1s 1ms/step - loss: 0.1393 - accuracy: 0.9498 - val_loss: 0.1618 - val_accuracy: 0.9477\n",
      "Epoch 192/1000\n",
      "574/574 [==============================] - 1s 923us/step - loss: 0.1384 - accuracy: 0.9493 - val_loss: 0.1917 - val_accuracy: 0.9343\n",
      "Epoch 193/1000\n",
      "574/574 [==============================] - 1s 886us/step - loss: 0.1383 - accuracy: 0.9513 - val_loss: 0.1978 - val_accuracy: 0.9290\n",
      "Epoch 194/1000\n",
      "574/574 [==============================] - 1s 1ms/step - loss: 0.1390 - accuracy: 0.9515 - val_loss: 0.1677 - val_accuracy: 0.9443\n",
      "Epoch 195/1000\n",
      "574/574 [==============================] - 1s 1ms/step - loss: 0.1377 - accuracy: 0.9504 - val_loss: 0.1783 - val_accuracy: 0.9407\n",
      "Epoch 196/1000\n",
      "574/574 [==============================] - 1s 976us/step - loss: 0.1384 - accuracy: 0.9508 - val_loss: 0.2027 - val_accuracy: 0.9287\n",
      "Epoch 197/1000\n",
      "574/574 [==============================] - 1s 1ms/step - loss: 0.1389 - accuracy: 0.9503 - val_loss: 0.1741 - val_accuracy: 0.9407\n",
      "Epoch 198/1000\n",
      "574/574 [==============================] - 1s 1ms/step - loss: 0.1388 - accuracy: 0.9509 - val_loss: 0.1643 - val_accuracy: 0.9480\n",
      "Epoch 199/1000\n",
      "574/574 [==============================] - 1s 916us/step - loss: 0.1371 - accuracy: 0.9507 - val_loss: 0.1955 - val_accuracy: 0.9323\n",
      "Epoch 200/1000\n",
      "574/574 [==============================] - 1s 1ms/step - loss: 0.1385 - accuracy: 0.9503 - val_loss: 0.1584 - val_accuracy: 0.9490\n",
      "Epoch 201/1000\n",
      "574/574 [==============================] - 1s 917us/step - loss: 0.1389 - accuracy: 0.9502 - val_loss: 0.1648 - val_accuracy: 0.9470\n",
      "Epoch 202/1000\n",
      "574/574 [==============================] - 1s 1ms/step - loss: 0.1364 - accuracy: 0.9510 - val_loss: 0.1700 - val_accuracy: 0.9437\n",
      "Epoch 203/1000\n",
      "574/574 [==============================] - 1s 1ms/step - loss: 0.1382 - accuracy: 0.9500 - val_loss: 0.1936 - val_accuracy: 0.9343\n",
      "Epoch 204/1000\n",
      "574/574 [==============================] - 1s 913us/step - loss: 0.1387 - accuracy: 0.9507 - val_loss: 0.1898 - val_accuracy: 0.9353\n",
      "Epoch 205/1000\n",
      "574/574 [==============================] - 1s 918us/step - loss: 0.1381 - accuracy: 0.9499 - val_loss: 0.1621 - val_accuracy: 0.9463\n",
      "Epoch 206/1000\n",
      "574/574 [==============================] - 1s 886us/step - loss: 0.1383 - accuracy: 0.9501 - val_loss: 0.1787 - val_accuracy: 0.9397\n",
      "Epoch 207/1000\n",
      "574/574 [==============================] - 1s 923us/step - loss: 0.1382 - accuracy: 0.9506 - val_loss: 0.1806 - val_accuracy: 0.9387\n",
      "Epoch 208/1000\n",
      "574/574 [==============================] - 1s 896us/step - loss: 0.1379 - accuracy: 0.9510 - val_loss: 0.1907 - val_accuracy: 0.9323\n",
      "Epoch 209/1000\n",
      "574/574 [==============================] - 1s 916us/step - loss: 0.1372 - accuracy: 0.9510 - val_loss: 0.1622 - val_accuracy: 0.9470\n",
      "Epoch 210/1000\n",
      "574/574 [==============================] - 1s 889us/step - loss: 0.1361 - accuracy: 0.9527 - val_loss: 0.1845 - val_accuracy: 0.9363\n",
      "Epoch 211/1000\n",
      "574/574 [==============================] - 1s 914us/step - loss: 0.1374 - accuracy: 0.9507 - val_loss: 0.1623 - val_accuracy: 0.9480\n",
      "Epoch 212/1000\n",
      "574/574 [==============================] - 1s 978us/step - loss: 0.1363 - accuracy: 0.9510 - val_loss: 0.1703 - val_accuracy: 0.9420\n",
      "Epoch 213/1000\n",
      "574/574 [==============================] - 1s 891us/step - loss: 0.1368 - accuracy: 0.9504 - val_loss: 0.1878 - val_accuracy: 0.9350\n",
      "Epoch 214/1000\n",
      "574/574 [==============================] - 1s 892us/step - loss: 0.1372 - accuracy: 0.9520 - val_loss: 0.1694 - val_accuracy: 0.9433\n",
      "Epoch 215/1000\n",
      "574/574 [==============================] - 1s 903us/step - loss: 0.1367 - accuracy: 0.9503 - val_loss: 0.1464 - val_accuracy: 0.9493\n",
      "Epoch 216/1000\n",
      "574/574 [==============================] - 1s 928us/step - loss: 0.1363 - accuracy: 0.9521 - val_loss: 0.1867 - val_accuracy: 0.9360\n",
      "Epoch 217/1000\n",
      "574/574 [==============================] - 1s 1ms/step - loss: 0.1365 - accuracy: 0.9509 - val_loss: 0.1628 - val_accuracy: 0.9477\n",
      "Epoch 218/1000\n",
      "574/574 [==============================] - 1s 1ms/step - loss: 0.1358 - accuracy: 0.9519 - val_loss: 0.1810 - val_accuracy: 0.9377\n",
      "Epoch 219/1000\n",
      "574/574 [==============================] - 1s 921us/step - loss: 0.1369 - accuracy: 0.9513 - val_loss: 0.1818 - val_accuracy: 0.9377\n",
      "Epoch 220/1000\n",
      "574/574 [==============================] - 1s 1ms/step - loss: 0.1363 - accuracy: 0.9513 - val_loss: 0.1790 - val_accuracy: 0.9380\n",
      "Epoch 221/1000\n",
      "574/574 [==============================] - 1s 1ms/step - loss: 0.1364 - accuracy: 0.9510 - val_loss: 0.1639 - val_accuracy: 0.9453\n",
      "Epoch 222/1000\n",
      "574/574 [==============================] - 1s 934us/step - loss: 0.1367 - accuracy: 0.9517 - val_loss: 0.1598 - val_accuracy: 0.9460\n",
      "Epoch 223/1000\n",
      "574/574 [==============================] - 1s 999us/step - loss: 0.1356 - accuracy: 0.9516 - val_loss: 0.1768 - val_accuracy: 0.9387\n",
      "Epoch 224/1000\n",
      "574/574 [==============================] - 1s 1ms/step - loss: 0.1355 - accuracy: 0.9518 - val_loss: 0.1663 - val_accuracy: 0.9433\n",
      "Epoch 225/1000\n",
      "574/574 [==============================] - 1s 1ms/step - loss: 0.1373 - accuracy: 0.9511 - val_loss: 0.1634 - val_accuracy: 0.9457\n",
      "Epoch 226/1000\n",
      "574/574 [==============================] - 1s 1ms/step - loss: 0.1351 - accuracy: 0.9522 - val_loss: 0.1995 - val_accuracy: 0.9293\n",
      "Epoch 227/1000\n",
      "574/574 [==============================] - 1s 922us/step - loss: 0.1365 - accuracy: 0.9502 - val_loss: 0.1985 - val_accuracy: 0.9297\n",
      "Epoch 228/1000\n",
      "574/574 [==============================] - 1s 1ms/step - loss: 0.1354 - accuracy: 0.9524 - val_loss: 0.1606 - val_accuracy: 0.9447\n",
      "Epoch 229/1000\n",
      "574/574 [==============================] - 1s 986us/step - loss: 0.1335 - accuracy: 0.9526 - val_loss: 0.1758 - val_accuracy: 0.9373\n",
      "Epoch 230/1000\n",
      "574/574 [==============================] - 1s 1ms/step - loss: 0.1353 - accuracy: 0.9522 - val_loss: 0.1702 - val_accuracy: 0.9430\n",
      "Epoch 231/1000\n",
      "574/574 [==============================] - 1s 1ms/step - loss: 0.1342 - accuracy: 0.9522 - val_loss: 0.1625 - val_accuracy: 0.9460\n",
      "Epoch 232/1000\n",
      "574/574 [==============================] - 1s 1ms/step - loss: 0.1369 - accuracy: 0.9510 - val_loss: 0.1525 - val_accuracy: 0.9493\n",
      "Epoch 233/1000\n",
      "574/574 [==============================] - 1s 1ms/step - loss: 0.1334 - accuracy: 0.9524 - val_loss: 0.1624 - val_accuracy: 0.9440\n",
      "Epoch 234/1000\n",
      "574/574 [==============================] - 1s 1ms/step - loss: 0.1353 - accuracy: 0.9530 - val_loss: 0.1935 - val_accuracy: 0.9330\n",
      "Epoch 235/1000\n",
      "574/574 [==============================] - 1s 981us/step - loss: 0.1334 - accuracy: 0.9527 - val_loss: 0.1578 - val_accuracy: 0.9473\n",
      "Epoch 236/1000\n",
      "574/574 [==============================] - 1s 948us/step - loss: 0.1343 - accuracy: 0.9522 - val_loss: 0.1702 - val_accuracy: 0.9410\n",
      "Epoch 237/1000\n",
      "574/574 [==============================] - 1s 1ms/step - loss: 0.1339 - accuracy: 0.9523 - val_loss: 0.1576 - val_accuracy: 0.9467\n",
      "Epoch 238/1000\n",
      "574/574 [==============================] - 1s 923us/step - loss: 0.1350 - accuracy: 0.9518 - val_loss: 0.1569 - val_accuracy: 0.9453\n",
      "Epoch 239/1000\n",
      "574/574 [==============================] - 1s 984us/step - loss: 0.1330 - accuracy: 0.9530 - val_loss: 0.2139 - val_accuracy: 0.9210\n",
      "Epoch 240/1000\n",
      "574/574 [==============================] - 1s 1ms/step - loss: 0.1352 - accuracy: 0.9517 - val_loss: 0.1843 - val_accuracy: 0.9367\n",
      "Epoch 241/1000\n",
      "574/574 [==============================] - 1s 1ms/step - loss: 0.1340 - accuracy: 0.9526 - val_loss: 0.1718 - val_accuracy: 0.9420\n",
      "Epoch 242/1000\n",
      "574/574 [==============================] - 1s 1ms/step - loss: 0.1337 - accuracy: 0.9527 - val_loss: 0.1418 - val_accuracy: 0.9557\n",
      "Epoch 243/1000\n",
      "574/574 [==============================] - 1s 1ms/step - loss: 0.1339 - accuracy: 0.9538 - val_loss: 0.1601 - val_accuracy: 0.9457\n",
      "Epoch 244/1000\n",
      "574/574 [==============================] - 1s 1ms/step - loss: 0.1333 - accuracy: 0.9538 - val_loss: 0.1796 - val_accuracy: 0.9367\n",
      "Epoch 245/1000\n",
      "574/574 [==============================] - 1s 1ms/step - loss: 0.1338 - accuracy: 0.9520 - val_loss: 0.1417 - val_accuracy: 0.9550\n",
      "Epoch 246/1000\n",
      "574/574 [==============================] - 1s 936us/step - loss: 0.1338 - accuracy: 0.9524 - val_loss: 0.1650 - val_accuracy: 0.9433\n",
      "Epoch 247/1000\n",
      "574/574 [==============================] - 1s 1ms/step - loss: 0.1339 - accuracy: 0.9528 - val_loss: 0.1984 - val_accuracy: 0.9293\n",
      "Epoch 248/1000\n",
      "574/574 [==============================] - 1s 1ms/step - loss: 0.1339 - accuracy: 0.9514 - val_loss: 0.1581 - val_accuracy: 0.9447\n",
      "Epoch 249/1000\n",
      "574/574 [==============================] - 1s 1ms/step - loss: 0.1320 - accuracy: 0.9520 - val_loss: 0.1716 - val_accuracy: 0.9420\n",
      "Epoch 250/1000\n",
      "574/574 [==============================] - 1s 2ms/step - loss: 0.1341 - accuracy: 0.9530 - val_loss: 0.1873 - val_accuracy: 0.9350\n",
      "Epoch 251/1000\n",
      "574/574 [==============================] - 1s 1ms/step - loss: 0.1337 - accuracy: 0.9526 - val_loss: 0.1752 - val_accuracy: 0.9390\n",
      "Epoch 252/1000\n",
      "574/574 [==============================] - 1s 908us/step - loss: 0.1311 - accuracy: 0.9528 - val_loss: 0.1646 - val_accuracy: 0.9420\n",
      "Epoch 253/1000\n",
      "574/574 [==============================] - 1s 927us/step - loss: 0.1319 - accuracy: 0.9532 - val_loss: 0.1842 - val_accuracy: 0.9347\n",
      "Epoch 254/1000\n",
      "574/574 [==============================] - 1s 896us/step - loss: 0.1331 - accuracy: 0.9532 - val_loss: 0.1664 - val_accuracy: 0.9440\n",
      "Epoch 255/1000\n",
      "574/574 [==============================] - 1s 936us/step - loss: 0.1324 - accuracy: 0.9528 - val_loss: 0.1945 - val_accuracy: 0.9293\n",
      "Epoch 256/1000\n",
      "574/574 [==============================] - 1s 1ms/step - loss: 0.1330 - accuracy: 0.9518 - val_loss: 0.1716 - val_accuracy: 0.9400\n",
      "Epoch 257/1000\n",
      "574/574 [==============================] - 1s 2ms/step - loss: 0.1327 - accuracy: 0.9528 - val_loss: 0.1711 - val_accuracy: 0.9397\n",
      "Epoch 258/1000\n",
      "574/574 [==============================] - 1s 2ms/step - loss: 0.1344 - accuracy: 0.9525 - val_loss: 0.1590 - val_accuracy: 0.9440\n",
      "Epoch 259/1000\n",
      "574/574 [==============================] - 1s 1ms/step - loss: 0.1326 - accuracy: 0.9537 - val_loss: 0.1700 - val_accuracy: 0.9417\n",
      "Epoch 260/1000\n",
      "574/574 [==============================] - 1s 2ms/step - loss: 0.1315 - accuracy: 0.9532 - val_loss: 0.1787 - val_accuracy: 0.9387\n",
      "Epoch 261/1000\n",
      "574/574 [==============================] - 1s 1ms/step - loss: 0.1316 - accuracy: 0.9536 - val_loss: 0.1754 - val_accuracy: 0.9380\n",
      "Epoch 262/1000\n",
      "574/574 [==============================] - 1s 1ms/step - loss: 0.1313 - accuracy: 0.9538 - val_loss: 0.1707 - val_accuracy: 0.9420\n",
      "Epoch 263/1000\n",
      "574/574 [==============================] - 1s 907us/step - loss: 0.1317 - accuracy: 0.9531 - val_loss: 0.1700 - val_accuracy: 0.9413\n",
      "Epoch 264/1000\n",
      "574/574 [==============================] - 1s 984us/step - loss: 0.1313 - accuracy: 0.9536 - val_loss: 0.1839 - val_accuracy: 0.9377\n",
      "Epoch 265/1000\n",
      "574/574 [==============================] - 1s 941us/step - loss: 0.1314 - accuracy: 0.9544 - val_loss: 0.1693 - val_accuracy: 0.9410\n",
      "Epoch 266/1000\n",
      "574/574 [==============================] - 1s 980us/step - loss: 0.1318 - accuracy: 0.9532 - val_loss: 0.1694 - val_accuracy: 0.9407\n",
      "Epoch 267/1000\n",
      "574/574 [==============================] - 1s 1ms/step - loss: 0.1312 - accuracy: 0.9544 - val_loss: 0.1808 - val_accuracy: 0.9350\n",
      "Epoch 268/1000\n",
      "574/574 [==============================] - 1s 936us/step - loss: 0.1318 - accuracy: 0.9537 - val_loss: 0.1685 - val_accuracy: 0.9413\n",
      "Epoch 269/1000\n",
      "574/574 [==============================] - 1s 932us/step - loss: 0.1304 - accuracy: 0.9542 - val_loss: 0.1926 - val_accuracy: 0.9350\n",
      "Epoch 270/1000\n",
      "574/574 [==============================] - 1s 967us/step - loss: 0.1311 - accuracy: 0.9543 - val_loss: 0.1766 - val_accuracy: 0.9417\n",
      "Epoch 271/1000\n",
      "574/574 [==============================] - 1s 1ms/step - loss: 0.1312 - accuracy: 0.9536 - val_loss: 0.1583 - val_accuracy: 0.9460\n",
      "Epoch 272/1000\n",
      "574/574 [==============================] - 1s 1ms/step - loss: 0.1311 - accuracy: 0.9542 - val_loss: 0.1854 - val_accuracy: 0.9353\n",
      "Epoch 273/1000\n",
      "574/574 [==============================] - 1s 1ms/step - loss: 0.1321 - accuracy: 0.9537 - val_loss: 0.1963 - val_accuracy: 0.9287\n",
      "Epoch 274/1000\n",
      "574/574 [==============================] - 1s 953us/step - loss: 0.1304 - accuracy: 0.9554 - val_loss: 0.1873 - val_accuracy: 0.9350\n",
      "Epoch 275/1000\n",
      "574/574 [==============================] - 1s 1ms/step - loss: 0.1309 - accuracy: 0.9545 - val_loss: 0.1645 - val_accuracy: 0.9433\n",
      "Epoch 276/1000\n",
      "574/574 [==============================] - 1s 1ms/step - loss: 0.1300 - accuracy: 0.9544 - val_loss: 0.1766 - val_accuracy: 0.9390\n",
      "Epoch 277/1000\n",
      "574/574 [==============================] - 1s 929us/step - loss: 0.1322 - accuracy: 0.9536 - val_loss: 0.1728 - val_accuracy: 0.9393\n",
      "Epoch 278/1000\n",
      "574/574 [==============================] - 1s 900us/step - loss: 0.1306 - accuracy: 0.9536 - val_loss: 0.1772 - val_accuracy: 0.9383\n",
      "Epoch 279/1000\n",
      "574/574 [==============================] - 1s 948us/step - loss: 0.1286 - accuracy: 0.9549 - val_loss: 0.2024 - val_accuracy: 0.9277\n",
      "Epoch 280/1000\n",
      "574/574 [==============================] - 1s 902us/step - loss: 0.1305 - accuracy: 0.9536 - val_loss: 0.1846 - val_accuracy: 0.9367\n",
      "Epoch 281/1000\n",
      "574/574 [==============================] - 1s 965us/step - loss: 0.1309 - accuracy: 0.9540 - val_loss: 0.1656 - val_accuracy: 0.9430\n",
      "Epoch 282/1000\n",
      "574/574 [==============================] - 1s 945us/step - loss: 0.1312 - accuracy: 0.9532 - val_loss: 0.1831 - val_accuracy: 0.9367\n",
      "Epoch 283/1000\n",
      "574/574 [==============================] - 1s 948us/step - loss: 0.1306 - accuracy: 0.9556 - val_loss: 0.1580 - val_accuracy: 0.9437\n",
      "Epoch 284/1000\n",
      "574/574 [==============================] - 1s 1ms/step - loss: 0.1304 - accuracy: 0.9542 - val_loss: 0.1621 - val_accuracy: 0.9427\n",
      "Epoch 285/1000\n",
      "574/574 [==============================] - 1s 1ms/step - loss: 0.1302 - accuracy: 0.9544 - val_loss: 0.1731 - val_accuracy: 0.9387\n",
      "Epoch 286/1000\n",
      "574/574 [==============================] - 1s 1ms/step - loss: 0.1287 - accuracy: 0.9561 - val_loss: 0.1622 - val_accuracy: 0.9447\n",
      "Epoch 287/1000\n",
      "574/574 [==============================] - 1s 1ms/step - loss: 0.1291 - accuracy: 0.9540 - val_loss: 0.1790 - val_accuracy: 0.9387\n",
      "Epoch 288/1000\n",
      "574/574 [==============================] - 1s 911us/step - loss: 0.1292 - accuracy: 0.9546 - val_loss: 0.1505 - val_accuracy: 0.9507\n",
      "Epoch 289/1000\n",
      "574/574 [==============================] - 1s 958us/step - loss: 0.1294 - accuracy: 0.9546 - val_loss: 0.1835 - val_accuracy: 0.9373\n",
      "Epoch 290/1000\n",
      "574/574 [==============================] - 1s 1ms/step - loss: 0.1303 - accuracy: 0.9526 - val_loss: 0.1661 - val_accuracy: 0.9403\n",
      "Epoch 291/1000\n",
      "574/574 [==============================] - 1s 969us/step - loss: 0.1302 - accuracy: 0.9528 - val_loss: 0.1711 - val_accuracy: 0.9417\n",
      "Epoch 292/1000\n",
      "574/574 [==============================] - 1s 2ms/step - loss: 0.1298 - accuracy: 0.9544 - val_loss: 0.1510 - val_accuracy: 0.9470\n",
      "Epoch 293/1000\n",
      "574/574 [==============================] - 1s 2ms/step - loss: 0.1288 - accuracy: 0.9545 - val_loss: 0.1583 - val_accuracy: 0.9450\n",
      "Epoch 294/1000\n",
      "574/574 [==============================] - 1s 1ms/step - loss: 0.1297 - accuracy: 0.9539 - val_loss: 0.1653 - val_accuracy: 0.9427\n",
      "Epoch 295/1000\n",
      "574/574 [==============================] - 1s 1ms/step - loss: 0.1291 - accuracy: 0.9546 - val_loss: 0.1680 - val_accuracy: 0.9417\n",
      "Epoch 296/1000\n",
      "574/574 [==============================] - 1s 963us/step - loss: 0.1294 - accuracy: 0.9549 - val_loss: 0.2003 - val_accuracy: 0.9290\n",
      "Epoch 297/1000\n",
      "574/574 [==============================] - 1s 910us/step - loss: 0.1307 - accuracy: 0.9538 - val_loss: 0.1725 - val_accuracy: 0.9410\n",
      "Epoch 298/1000\n",
      "574/574 [==============================] - 1s 949us/step - loss: 0.1300 - accuracy: 0.9542 - val_loss: 0.1847 - val_accuracy: 0.9320\n",
      "Epoch 299/1000\n",
      "574/574 [==============================] - 1s 1ms/step - loss: 0.1287 - accuracy: 0.9556 - val_loss: 0.1669 - val_accuracy: 0.9423\n",
      "Epoch 300/1000\n",
      "574/574 [==============================] - 1s 921us/step - loss: 0.1295 - accuracy: 0.9550 - val_loss: 0.1947 - val_accuracy: 0.9300\n",
      "Epoch 301/1000\n",
      "574/574 [==============================] - 1s 1ms/step - loss: 0.1294 - accuracy: 0.9542 - val_loss: 0.1566 - val_accuracy: 0.9453\n",
      "Epoch 302/1000\n",
      "574/574 [==============================] - 1s 1ms/step - loss: 0.1289 - accuracy: 0.9543 - val_loss: 0.1451 - val_accuracy: 0.9553\n",
      "Epoch 303/1000\n",
      "574/574 [==============================] - 1s 963us/step - loss: 0.1290 - accuracy: 0.9554 - val_loss: 0.1738 - val_accuracy: 0.9413\n",
      "Epoch 304/1000\n",
      "574/574 [==============================] - 1s 1ms/step - loss: 0.1290 - accuracy: 0.9545 - val_loss: 0.1592 - val_accuracy: 0.9443\n",
      "Epoch 305/1000\n",
      "574/574 [==============================] - 1s 1ms/step - loss: 0.1273 - accuracy: 0.9561 - val_loss: 0.1932 - val_accuracy: 0.9337\n",
      "Epoch 306/1000\n",
      "574/574 [==============================] - 1s 1ms/step - loss: 0.1296 - accuracy: 0.9556 - val_loss: 0.1987 - val_accuracy: 0.9303\n",
      "Epoch 307/1000\n",
      "574/574 [==============================] - 1s 1ms/step - loss: 0.1290 - accuracy: 0.9543 - val_loss: 0.1887 - val_accuracy: 0.9337\n",
      "Epoch 308/1000\n",
      "574/574 [==============================] - 1s 2ms/step - loss: 0.1310 - accuracy: 0.9542 - val_loss: 0.1826 - val_accuracy: 0.9390\n",
      "Epoch 309/1000\n",
      "574/574 [==============================] - 1s 1ms/step - loss: 0.1302 - accuracy: 0.9534 - val_loss: 0.1874 - val_accuracy: 0.9353\n",
      "Epoch 310/1000\n",
      "574/574 [==============================] - 1s 938us/step - loss: 0.1282 - accuracy: 0.9553 - val_loss: 0.1766 - val_accuracy: 0.9417\n",
      "Epoch 311/1000\n",
      "574/574 [==============================] - 1s 1ms/step - loss: 0.1280 - accuracy: 0.9548 - val_loss: 0.1796 - val_accuracy: 0.9377\n",
      "Epoch 312/1000\n",
      "574/574 [==============================] - 1s 990us/step - loss: 0.1295 - accuracy: 0.9548 - val_loss: 0.1641 - val_accuracy: 0.9450\n",
      "Epoch 313/1000\n",
      "574/574 [==============================] - 1s 1ms/step - loss: 0.1286 - accuracy: 0.9538 - val_loss: 0.1629 - val_accuracy: 0.9423\n",
      "Epoch 314/1000\n",
      "574/574 [==============================] - 1s 888us/step - loss: 0.1279 - accuracy: 0.9550 - val_loss: 0.1673 - val_accuracy: 0.9433\n",
      "Epoch 315/1000\n",
      "574/574 [==============================] - 1s 933us/step - loss: 0.1289 - accuracy: 0.9558 - val_loss: 0.1567 - val_accuracy: 0.9483\n",
      "Epoch 316/1000\n",
      "574/574 [==============================] - 1s 1ms/step - loss: 0.1258 - accuracy: 0.9555 - val_loss: 0.1592 - val_accuracy: 0.9463\n",
      "Epoch 317/1000\n",
      "574/574 [==============================] - 1s 1ms/step - loss: 0.1290 - accuracy: 0.9552 - val_loss: 0.1665 - val_accuracy: 0.9440\n",
      "Epoch 318/1000\n",
      "574/574 [==============================] - 1s 1ms/step - loss: 0.1286 - accuracy: 0.9563 - val_loss: 0.1752 - val_accuracy: 0.9393\n",
      "Epoch 319/1000\n",
      "574/574 [==============================] - 1s 1ms/step - loss: 0.1280 - accuracy: 0.9551 - val_loss: 0.1626 - val_accuracy: 0.9433\n",
      "Epoch 320/1000\n",
      "574/574 [==============================] - 1s 1ms/step - loss: 0.1277 - accuracy: 0.9540 - val_loss: 0.1491 - val_accuracy: 0.9547\n",
      "Epoch 321/1000\n",
      "574/574 [==============================] - 1s 1ms/step - loss: 0.1272 - accuracy: 0.9566 - val_loss: 0.2003 - val_accuracy: 0.9290\n",
      "Epoch 322/1000\n",
      "574/574 [==============================] - 1s 1ms/step - loss: 0.1283 - accuracy: 0.9546 - val_loss: 0.1849 - val_accuracy: 0.9380\n",
      "Epoch 323/1000\n",
      "574/574 [==============================] - 1s 2ms/step - loss: 0.1273 - accuracy: 0.9564 - val_loss: 0.1798 - val_accuracy: 0.9383\n",
      "Epoch 324/1000\n",
      "574/574 [==============================] - 1s 1ms/step - loss: 0.1280 - accuracy: 0.9556 - val_loss: 0.1482 - val_accuracy: 0.9543\n",
      "Epoch 325/1000\n",
      "574/574 [==============================] - 1s 1ms/step - loss: 0.1277 - accuracy: 0.9557 - val_loss: 0.1649 - val_accuracy: 0.9440\n",
      "Epoch 326/1000\n",
      "574/574 [==============================] - 1s 2ms/step - loss: 0.1280 - accuracy: 0.9543 - val_loss: 0.1738 - val_accuracy: 0.9433\n",
      "Epoch 327/1000\n",
      "574/574 [==============================] - 1s 1ms/step - loss: 0.1281 - accuracy: 0.9555 - val_loss: 0.1798 - val_accuracy: 0.9387\n",
      "Epoch 328/1000\n",
      "574/574 [==============================] - 1s 1ms/step - loss: 0.1278 - accuracy: 0.9548 - val_loss: 0.1674 - val_accuracy: 0.9430\n",
      "Epoch 329/1000\n",
      "574/574 [==============================] - 1s 2ms/step - loss: 0.1269 - accuracy: 0.9567 - val_loss: 0.2098 - val_accuracy: 0.9287\n",
      "Epoch 330/1000\n",
      "574/574 [==============================] - 1s 1ms/step - loss: 0.1288 - accuracy: 0.9548 - val_loss: 0.1557 - val_accuracy: 0.9513\n",
      "Epoch 331/1000\n",
      "574/574 [==============================] - 1s 1ms/step - loss: 0.1269 - accuracy: 0.9566 - val_loss: 0.1666 - val_accuracy: 0.9440\n",
      "Epoch 332/1000\n",
      "574/574 [==============================] - 1s 1ms/step - loss: 0.1278 - accuracy: 0.9550 - val_loss: 0.1980 - val_accuracy: 0.9340\n",
      "Epoch 333/1000\n",
      "574/574 [==============================] - 1s 1ms/step - loss: 0.1284 - accuracy: 0.9552 - val_loss: 0.1659 - val_accuracy: 0.9433\n",
      "Epoch 334/1000\n",
      "574/574 [==============================] - 1s 1ms/step - loss: 0.1263 - accuracy: 0.9571 - val_loss: 0.1687 - val_accuracy: 0.9430\n",
      "Epoch 335/1000\n",
      "574/574 [==============================] - 1s 1ms/step - loss: 0.1276 - accuracy: 0.9553 - val_loss: 0.1581 - val_accuracy: 0.9487\n",
      "Epoch 336/1000\n",
      "574/574 [==============================] - 1s 1ms/step - loss: 0.1270 - accuracy: 0.9557 - val_loss: 0.1508 - val_accuracy: 0.9533\n",
      "Epoch 337/1000\n",
      "574/574 [==============================] - 1s 1ms/step - loss: 0.1266 - accuracy: 0.9556 - val_loss: 0.1857 - val_accuracy: 0.9370\n",
      "Epoch 338/1000\n",
      "574/574 [==============================] - 1s 1ms/step - loss: 0.1254 - accuracy: 0.9572 - val_loss: 0.1847 - val_accuracy: 0.9370\n",
      "Epoch 339/1000\n",
      "140/574 [======>.......................] - ETA: 0s - loss: 0.1296 - accuracy: 0.9576"
     ]
    },
    {
     "ename": "KeyboardInterrupt",
     "evalue": "",
     "output_type": "error",
     "traceback": [
      "\u001b[0;31m--------------------------------------\u001b[0m",
      "\u001b[0;31mKeyboardInterrupt\u001b[0mTraceback (most recent call last)",
      "\u001b[0;32m<ipython-input-21-6de3eaf4765b>\u001b[0m in \u001b[0;36m<module>\u001b[0;34m\u001b[0m\n\u001b[0;32m----> 1\u001b[0;31m \u001b[0mhistory\u001b[0m \u001b[0;34m=\u001b[0m \u001b[0mmodel\u001b[0m\u001b[0;34m.\u001b[0m\u001b[0mfit\u001b[0m\u001b[0;34m(\u001b[0m\u001b[0mdata_train\u001b[0m\u001b[0;34m.\u001b[0m\u001b[0mshuffle\u001b[0m\u001b[0;34m(\u001b[0m\u001b[0;36m10000\u001b[0m\u001b[0;34m)\u001b[0m\u001b[0;34m.\u001b[0m\u001b[0mbatch\u001b[0m\u001b[0;34m(\u001b[0m\u001b[0;36m32\u001b[0m\u001b[0;34m)\u001b[0m\u001b[0;34m,\u001b[0m \u001b[0mepochs\u001b[0m\u001b[0;34m=\u001b[0m\u001b[0;36m1000\u001b[0m\u001b[0;34m,\u001b[0m \u001b[0mvalidation_data\u001b[0m\u001b[0;34m=\u001b[0m\u001b[0mdata_validate\u001b[0m\u001b[0;34m.\u001b[0m\u001b[0mbatch\u001b[0m\u001b[0;34m(\u001b[0m\u001b[0;36m32\u001b[0m\u001b[0;34m)\u001b[0m\u001b[0;34m)\u001b[0m\u001b[0;34m\u001b[0m\u001b[0;34m\u001b[0m\u001b[0m\n\u001b[0m",
      "\u001b[0;32m/usr/local/lib/python3.8/site-packages/tensorflow/python/keras/engine/training.py\u001b[0m in \u001b[0;36m_method_wrapper\u001b[0;34m(self, *args, **kwargs)\u001b[0m\n\u001b[1;32m    106\u001b[0m   \u001b[0;32mdef\u001b[0m \u001b[0m_method_wrapper\u001b[0m\u001b[0;34m(\u001b[0m\u001b[0mself\u001b[0m\u001b[0;34m,\u001b[0m \u001b[0;34m*\u001b[0m\u001b[0margs\u001b[0m\u001b[0;34m,\u001b[0m \u001b[0;34m**\u001b[0m\u001b[0mkwargs\u001b[0m\u001b[0;34m)\u001b[0m\u001b[0;34m:\u001b[0m\u001b[0;34m\u001b[0m\u001b[0;34m\u001b[0m\u001b[0m\n\u001b[1;32m    107\u001b[0m     \u001b[0;32mif\u001b[0m \u001b[0;32mnot\u001b[0m \u001b[0mself\u001b[0m\u001b[0;34m.\u001b[0m\u001b[0m_in_multi_worker_mode\u001b[0m\u001b[0;34m(\u001b[0m\u001b[0;34m)\u001b[0m\u001b[0;34m:\u001b[0m  \u001b[0;31m# pylint: disable=protected-access\u001b[0m\u001b[0;34m\u001b[0m\u001b[0;34m\u001b[0m\u001b[0m\n\u001b[0;32m--> 108\u001b[0;31m       \u001b[0;32mreturn\u001b[0m \u001b[0mmethod\u001b[0m\u001b[0;34m(\u001b[0m\u001b[0mself\u001b[0m\u001b[0;34m,\u001b[0m \u001b[0;34m*\u001b[0m\u001b[0margs\u001b[0m\u001b[0;34m,\u001b[0m \u001b[0;34m**\u001b[0m\u001b[0mkwargs\u001b[0m\u001b[0;34m)\u001b[0m\u001b[0;34m\u001b[0m\u001b[0;34m\u001b[0m\u001b[0m\n\u001b[0m\u001b[1;32m    109\u001b[0m \u001b[0;34m\u001b[0m\u001b[0m\n\u001b[1;32m    110\u001b[0m     \u001b[0;31m# Running inside `run_distribute_coordinator` already.\u001b[0m\u001b[0;34m\u001b[0m\u001b[0;34m\u001b[0m\u001b[0;34m\u001b[0m\u001b[0m\n",
      "\u001b[0;32m/usr/local/lib/python3.8/site-packages/tensorflow/python/keras/engine/training.py\u001b[0m in \u001b[0;36mfit\u001b[0;34m(self, x, y, batch_size, epochs, verbose, callbacks, validation_split, validation_data, shuffle, class_weight, sample_weight, initial_epoch, steps_per_epoch, validation_steps, validation_batch_size, validation_freq, max_queue_size, workers, use_multiprocessing)\u001b[0m\n\u001b[1;32m   1096\u001b[0m                 batch_size=batch_size):\n\u001b[1;32m   1097\u001b[0m               \u001b[0mcallbacks\u001b[0m\u001b[0;34m.\u001b[0m\u001b[0mon_train_batch_begin\u001b[0m\u001b[0;34m(\u001b[0m\u001b[0mstep\u001b[0m\u001b[0;34m)\u001b[0m\u001b[0;34m\u001b[0m\u001b[0;34m\u001b[0m\u001b[0m\n\u001b[0;32m-> 1098\u001b[0;31m               \u001b[0mtmp_logs\u001b[0m \u001b[0;34m=\u001b[0m \u001b[0mtrain_function\u001b[0m\u001b[0;34m(\u001b[0m\u001b[0miterator\u001b[0m\u001b[0;34m)\u001b[0m\u001b[0;34m\u001b[0m\u001b[0;34m\u001b[0m\u001b[0m\n\u001b[0m\u001b[1;32m   1099\u001b[0m               \u001b[0;32mif\u001b[0m \u001b[0mdata_handler\u001b[0m\u001b[0;34m.\u001b[0m\u001b[0mshould_sync\u001b[0m\u001b[0;34m:\u001b[0m\u001b[0;34m\u001b[0m\u001b[0;34m\u001b[0m\u001b[0m\n\u001b[1;32m   1100\u001b[0m                 \u001b[0mcontext\u001b[0m\u001b[0;34m.\u001b[0m\u001b[0masync_wait\u001b[0m\u001b[0;34m(\u001b[0m\u001b[0;34m)\u001b[0m\u001b[0;34m\u001b[0m\u001b[0;34m\u001b[0m\u001b[0m\n",
      "\u001b[0;32m/usr/local/lib/python3.8/site-packages/tensorflow/python/eager/def_function.py\u001b[0m in \u001b[0;36m__call__\u001b[0;34m(self, *args, **kwds)\u001b[0m\n\u001b[1;32m    778\u001b[0m       \u001b[0;32melse\u001b[0m\u001b[0;34m:\u001b[0m\u001b[0;34m\u001b[0m\u001b[0;34m\u001b[0m\u001b[0m\n\u001b[1;32m    779\u001b[0m         \u001b[0mcompiler\u001b[0m \u001b[0;34m=\u001b[0m \u001b[0;34m\"nonXla\"\u001b[0m\u001b[0;34m\u001b[0m\u001b[0;34m\u001b[0m\u001b[0m\n\u001b[0;32m--> 780\u001b[0;31m         \u001b[0mresult\u001b[0m \u001b[0;34m=\u001b[0m \u001b[0mself\u001b[0m\u001b[0;34m.\u001b[0m\u001b[0m_call\u001b[0m\u001b[0;34m(\u001b[0m\u001b[0;34m*\u001b[0m\u001b[0margs\u001b[0m\u001b[0;34m,\u001b[0m \u001b[0;34m**\u001b[0m\u001b[0mkwds\u001b[0m\u001b[0;34m)\u001b[0m\u001b[0;34m\u001b[0m\u001b[0;34m\u001b[0m\u001b[0m\n\u001b[0m\u001b[1;32m    781\u001b[0m \u001b[0;34m\u001b[0m\u001b[0m\n\u001b[1;32m    782\u001b[0m       \u001b[0mnew_tracing_count\u001b[0m \u001b[0;34m=\u001b[0m \u001b[0mself\u001b[0m\u001b[0;34m.\u001b[0m\u001b[0m_get_tracing_count\u001b[0m\u001b[0;34m(\u001b[0m\u001b[0;34m)\u001b[0m\u001b[0;34m\u001b[0m\u001b[0;34m\u001b[0m\u001b[0m\n",
      "\u001b[0;32m/usr/local/lib/python3.8/site-packages/tensorflow/python/eager/def_function.py\u001b[0m in \u001b[0;36m_call\u001b[0;34m(self, *args, **kwds)\u001b[0m\n\u001b[1;32m    805\u001b[0m       \u001b[0;31m# In this case we have created variables on the first call, so we run the\u001b[0m\u001b[0;34m\u001b[0m\u001b[0;34m\u001b[0m\u001b[0;34m\u001b[0m\u001b[0m\n\u001b[1;32m    806\u001b[0m       \u001b[0;31m# defunned version which is guaranteed to never create variables.\u001b[0m\u001b[0;34m\u001b[0m\u001b[0;34m\u001b[0m\u001b[0;34m\u001b[0m\u001b[0m\n\u001b[0;32m--> 807\u001b[0;31m       \u001b[0;32mreturn\u001b[0m \u001b[0mself\u001b[0m\u001b[0;34m.\u001b[0m\u001b[0m_stateless_fn\u001b[0m\u001b[0;34m(\u001b[0m\u001b[0;34m*\u001b[0m\u001b[0margs\u001b[0m\u001b[0;34m,\u001b[0m \u001b[0;34m**\u001b[0m\u001b[0mkwds\u001b[0m\u001b[0;34m)\u001b[0m  \u001b[0;31m# pylint: disable=not-callable\u001b[0m\u001b[0;34m\u001b[0m\u001b[0;34m\u001b[0m\u001b[0m\n\u001b[0m\u001b[1;32m    808\u001b[0m     \u001b[0;32melif\u001b[0m \u001b[0mself\u001b[0m\u001b[0;34m.\u001b[0m\u001b[0m_stateful_fn\u001b[0m \u001b[0;32mis\u001b[0m \u001b[0;32mnot\u001b[0m \u001b[0;32mNone\u001b[0m\u001b[0;34m:\u001b[0m\u001b[0;34m\u001b[0m\u001b[0;34m\u001b[0m\u001b[0m\n\u001b[1;32m    809\u001b[0m       \u001b[0;31m# Release the lock early so that multiple threads can perform the call\u001b[0m\u001b[0;34m\u001b[0m\u001b[0;34m\u001b[0m\u001b[0;34m\u001b[0m\u001b[0m\n",
      "\u001b[0;32m/usr/local/lib/python3.8/site-packages/tensorflow/python/eager/function.py\u001b[0m in \u001b[0;36m__call__\u001b[0;34m(self, *args, **kwargs)\u001b[0m\n\u001b[1;32m   2827\u001b[0m     \u001b[0;32mwith\u001b[0m \u001b[0mself\u001b[0m\u001b[0;34m.\u001b[0m\u001b[0m_lock\u001b[0m\u001b[0;34m:\u001b[0m\u001b[0;34m\u001b[0m\u001b[0;34m\u001b[0m\u001b[0m\n\u001b[1;32m   2828\u001b[0m       \u001b[0mgraph_function\u001b[0m\u001b[0;34m,\u001b[0m \u001b[0margs\u001b[0m\u001b[0;34m,\u001b[0m \u001b[0mkwargs\u001b[0m \u001b[0;34m=\u001b[0m \u001b[0mself\u001b[0m\u001b[0;34m.\u001b[0m\u001b[0m_maybe_define_function\u001b[0m\u001b[0;34m(\u001b[0m\u001b[0margs\u001b[0m\u001b[0;34m,\u001b[0m \u001b[0mkwargs\u001b[0m\u001b[0;34m)\u001b[0m\u001b[0;34m\u001b[0m\u001b[0;34m\u001b[0m\u001b[0m\n\u001b[0;32m-> 2829\u001b[0;31m     \u001b[0;32mreturn\u001b[0m \u001b[0mgraph_function\u001b[0m\u001b[0;34m.\u001b[0m\u001b[0m_filtered_call\u001b[0m\u001b[0;34m(\u001b[0m\u001b[0margs\u001b[0m\u001b[0;34m,\u001b[0m \u001b[0mkwargs\u001b[0m\u001b[0;34m)\u001b[0m  \u001b[0;31m# pylint: disable=protected-access\u001b[0m\u001b[0;34m\u001b[0m\u001b[0;34m\u001b[0m\u001b[0m\n\u001b[0m\u001b[1;32m   2830\u001b[0m \u001b[0;34m\u001b[0m\u001b[0m\n\u001b[1;32m   2831\u001b[0m   \u001b[0;34m@\u001b[0m\u001b[0mproperty\u001b[0m\u001b[0;34m\u001b[0m\u001b[0;34m\u001b[0m\u001b[0m\n",
      "\u001b[0;32m/usr/local/lib/python3.8/site-packages/tensorflow/python/eager/function.py\u001b[0m in \u001b[0;36m_filtered_call\u001b[0;34m(self, args, kwargs, cancellation_manager)\u001b[0m\n\u001b[1;32m   1841\u001b[0m       \u001b[0;31m`\u001b[0m\u001b[0margs\u001b[0m\u001b[0;31m`\u001b[0m \u001b[0;32mand\u001b[0m\u001b[0;31m \u001b[0m\u001b[0;31m`\u001b[0m\u001b[0mkwargs\u001b[0m\u001b[0;31m`\u001b[0m\u001b[0;34m.\u001b[0m\u001b[0;34m\u001b[0m\u001b[0;34m\u001b[0m\u001b[0m\n\u001b[1;32m   1842\u001b[0m     \"\"\"\n\u001b[0;32m-> 1843\u001b[0;31m     return self._call_flat(\n\u001b[0m\u001b[1;32m   1844\u001b[0m         [t for t in nest.flatten((args, kwargs), expand_composites=True)\n\u001b[1;32m   1845\u001b[0m          if isinstance(t, (ops.Tensor,\n",
      "\u001b[0;32m/usr/local/lib/python3.8/site-packages/tensorflow/python/eager/function.py\u001b[0m in \u001b[0;36m_call_flat\u001b[0;34m(self, args, captured_inputs, cancellation_manager)\u001b[0m\n\u001b[1;32m   1921\u001b[0m         and executing_eagerly):\n\u001b[1;32m   1922\u001b[0m       \u001b[0;31m# No tape is watching; skip to running the function.\u001b[0m\u001b[0;34m\u001b[0m\u001b[0;34m\u001b[0m\u001b[0;34m\u001b[0m\u001b[0m\n\u001b[0;32m-> 1923\u001b[0;31m       return self._build_call_outputs(self._inference_function.call(\n\u001b[0m\u001b[1;32m   1924\u001b[0m           ctx, args, cancellation_manager=cancellation_manager))\n\u001b[1;32m   1925\u001b[0m     forward_backward = self._select_forward_and_backward_functions(\n",
      "\u001b[0;32m/usr/local/lib/python3.8/site-packages/tensorflow/python/eager/function.py\u001b[0m in \u001b[0;36mcall\u001b[0;34m(self, ctx, args, cancellation_manager)\u001b[0m\n\u001b[1;32m    543\u001b[0m       \u001b[0;32mwith\u001b[0m \u001b[0m_InterpolateFunctionError\u001b[0m\u001b[0;34m(\u001b[0m\u001b[0mself\u001b[0m\u001b[0;34m)\u001b[0m\u001b[0;34m:\u001b[0m\u001b[0;34m\u001b[0m\u001b[0;34m\u001b[0m\u001b[0m\n\u001b[1;32m    544\u001b[0m         \u001b[0;32mif\u001b[0m \u001b[0mcancellation_manager\u001b[0m \u001b[0;32mis\u001b[0m \u001b[0;32mNone\u001b[0m\u001b[0;34m:\u001b[0m\u001b[0;34m\u001b[0m\u001b[0;34m\u001b[0m\u001b[0m\n\u001b[0;32m--> 545\u001b[0;31m           outputs = execute.execute(\n\u001b[0m\u001b[1;32m    546\u001b[0m               \u001b[0mstr\u001b[0m\u001b[0;34m(\u001b[0m\u001b[0mself\u001b[0m\u001b[0;34m.\u001b[0m\u001b[0msignature\u001b[0m\u001b[0;34m.\u001b[0m\u001b[0mname\u001b[0m\u001b[0;34m)\u001b[0m\u001b[0;34m,\u001b[0m\u001b[0;34m\u001b[0m\u001b[0;34m\u001b[0m\u001b[0m\n\u001b[1;32m    547\u001b[0m               \u001b[0mnum_outputs\u001b[0m\u001b[0;34m=\u001b[0m\u001b[0mself\u001b[0m\u001b[0;34m.\u001b[0m\u001b[0m_num_outputs\u001b[0m\u001b[0;34m,\u001b[0m\u001b[0;34m\u001b[0m\u001b[0;34m\u001b[0m\u001b[0m\n",
      "\u001b[0;32m/usr/local/lib/python3.8/site-packages/tensorflow/python/eager/execute.py\u001b[0m in \u001b[0;36mquick_execute\u001b[0;34m(op_name, num_outputs, inputs, attrs, ctx, name)\u001b[0m\n\u001b[1;32m     57\u001b[0m   \u001b[0;32mtry\u001b[0m\u001b[0;34m:\u001b[0m\u001b[0;34m\u001b[0m\u001b[0;34m\u001b[0m\u001b[0m\n\u001b[1;32m     58\u001b[0m     \u001b[0mctx\u001b[0m\u001b[0;34m.\u001b[0m\u001b[0mensure_initialized\u001b[0m\u001b[0;34m(\u001b[0m\u001b[0;34m)\u001b[0m\u001b[0;34m\u001b[0m\u001b[0;34m\u001b[0m\u001b[0m\n\u001b[0;32m---> 59\u001b[0;31m     tensors = pywrap_tfe.TFE_Py_Execute(ctx._handle, device_name, op_name,\n\u001b[0m\u001b[1;32m     60\u001b[0m                                         inputs, attrs, num_outputs)\n\u001b[1;32m     61\u001b[0m   \u001b[0;32mexcept\u001b[0m \u001b[0mcore\u001b[0m\u001b[0;34m.\u001b[0m\u001b[0m_NotOkStatusException\u001b[0m \u001b[0;32mas\u001b[0m \u001b[0me\u001b[0m\u001b[0;34m:\u001b[0m\u001b[0;34m\u001b[0m\u001b[0;34m\u001b[0m\u001b[0m\n",
      "\u001b[0;31mKeyboardInterrupt\u001b[0m: "
     ]
    }
   ],
   "source": [
    "history = model.fit(data_train.shuffle(10000).batch(32), epochs=1000, validation_data=data_validate.batch(32))"
   ]
  },
  {
   "cell_type": "code",
   "execution_count": 45,
   "metadata": {},
   "outputs": [
    {
     "data": {
      "image/png": "[encoded data removed]",
      "text/plain": [
       "<Figure size 432x288 with 1 Axes>"
      ]
     },
     "metadata": {
      "needs_background": "light"
     },
     "output_type": "display_data"
    },
    {
     "data": {
      "image/png": "[encoded data removed]",
      "text/plain": [
       "<Figure size 432x288 with 1 Axes>"
      ]
     },
     "metadata": {
      "needs_background": "light"
     },
     "output_type": "display_data"
    }
   ],
   "source": [
    "plt.plot(model.history.history['loss'], label='loss')\n",
    "plt.plot(model.history.history['val_loss'], label='val_loss')\n",
    "plt.legend()\n",
    "plt.show()\n",
    "plt.close()\n",
    "\n",
    "plt.plot(model.history.history['accuracy'], label='accuracy')\n",
    "plt.plot(model.history.history['val_accuracy'], label='val_accuracy')\n",
    "plt.legend()\n",
    "plt.show()\n",
    "plt.close()"
   ]
  },
  {
   "cell_type": "code",
   "execution_count": 46,
   "metadata": {},
   "outputs": [
    {
     "name": "stdout",
     "output_type": "stream",
     "text": [
      "WARNING:tensorflow:Model was constructed with shape (None, 18, 1, 1) for input Tensor(\"flatten_2_input:0\", shape=(None, 18, 1, 1), dtype=float32), but it was called on an input with incompatible shape (None, 18).\n"
     ]
    },
    {
     "data": {
      "text/plain": [
       "array([[1.5074404e-05, 0.0000000e+00],\n",
       "       [9.9429500e-01, 1.0000000e+00],\n",
       "       [8.5546613e-12, 0.0000000e+00],\n",
       "       ...,\n",
       "       [6.6839308e-02, 0.0000000e+00],\n",
       "       [5.0009447e-01, 1.0000000e+00],\n",
       "       [7.8617847e-01, 1.0000000e+00]], dtype=float32)"
      ]
     },
     "execution_count": 46,
     "metadata": {},
     "output_type": "execute_result"
    }
   ],
   "source": [
    "np.hstack([model.predict(X_val), Y_val[:,np.newaxis]])"
   ]
  },
  {
   "cell_type": "code",
   "execution_count": 47,
   "metadata": {},
   "outputs": [
    {
     "data": {
      "text/plain": [
       "<matplotlib.collections.PathCollection at 0x141339400>"
      ]
     },
     "execution_count": 47,
     "metadata": {},
     "output_type": "execute_result"
    },
    {
     "data": {
      "image/png": "[encoded data removed]",
      "text/plain": [
       "<Figure size 432x288 with 1 Axes>"
      ]
     },
     "metadata": {
      "needs_background": "light"
     },
     "output_type": "display_data"
    }
   ],
   "source": [
    "plt.scatter(model.predict(X_val), Y_val)"
   ]
  },
  {
   "cell_type": "code",
   "execution_count": 48,
   "metadata": {},
   "outputs": [
    {
     "data": {
      "text/plain": [
       "<matplotlib.axes._subplots.AxesSubplot at 0x1411ddb50>"
      ]
     },
     "execution_count": 48,
     "metadata": {},
     "output_type": "execute_result"
    },
    {
     "data": {
      "image/png": "[encoded data removed]",
      "text/plain": [
       "<Figure size 432x288 with 1 Axes>"
      ]
     },
     "metadata": {
      "needs_background": "light"
     },
     "output_type": "display_data"
    }
   ],
   "source": [
    "sns.distplot(model.predict(X_val)[Y_val==1])"
   ]
  },
  {
   "cell_type": "code",
   "execution_count": 49,
   "metadata": {},
   "outputs": [
    {
     "data": {
      "text/plain": [
       "<matplotlib.axes._subplots.AxesSubplot at 0x1412fd9a0>"
      ]
     },
     "execution_count": 49,
     "metadata": {},
     "output_type": "execute_result"
    },
    {
     "data": {
      "image/png": "[encoded data removed]",
      "text/plain": [
       "<Figure size 432x288 with 1 Axes>"
      ]
     },
     "metadata": {
      "needs_background": "light"
     },
     "output_type": "display_data"
    }
   ],
   "source": [
    "sns.distplot(model.predict(X_val)[Y_val==0])"
   ]
  },
  {
   "cell_type": "code",
   "execution_count": 50,
   "metadata": {},
   "outputs": [
    {
     "data": {
      "text/plain": [
       "<matplotlib.axes._subplots.AxesSubplot at 0x1461dfdc0>"
      ]
     },
     "execution_count": 50,
     "metadata": {},
     "output_type": "execute_result"
    },
    {
     "data": {
      "image/png": "[encoded data removed]",
      "text/plain": [
       "<Figure size 432x288 with 1 Axes>"
      ]
     },
     "metadata": {
      "needs_background": "light"
     },
     "output_type": "display_data"
    }
   ],
   "source": [
    "sns.distplot(model.predict(x_train_res)[y_train_res==1])"
   ]
  },
  {
   "cell_type": "code",
   "execution_count": 51,
   "metadata": {},
   "outputs": [
    {
     "data": {
      "text/plain": [
       "<matplotlib.axes._subplots.AxesSubplot at 0x1411e5d00>"
      ]
     },
     "execution_count": 51,
     "metadata": {},
     "output_type": "execute_result"
    },
    {
     "data": {
      "image/png": "[encoded data removed]",
      "text/plain": [
       "<Figure size 432x288 with 1 Axes>"
      ]
     },
     "metadata": {
      "needs_background": "light"
     },
     "output_type": "display_data"
    }
   ],
   "source": [
    "sns.distplot(model.predict(x_train_res)[y_train_res==0])"
   ]
  },
  {
   "cell_type": "code",
   "execution_count": 52,
   "metadata": {},
   "outputs": [
    {
     "data": {
      "text/plain": [
       "0.9832492683787082"
      ]
     },
     "execution_count": 52,
     "metadata": {},
     "output_type": "execute_result"
    }
   ],
   "source": [
    "#roc auc\n",
    "met.roc_auc_score(Y_val,model.predict(X_val))"
   ]
  },
  {
   "cell_type": "code",
   "execution_count": null,
   "metadata": {},
   "outputs": [],
   "source": []
  },
  {
   "cell_type": "code",
   "execution_count": null,
   "metadata": {},
   "outputs": [],
   "source": []
  }
 ],
 "metadata": {
  "kernelspec": {
   "display_name": "Python 3",
   "language": "python",
   "name": "python3"
  },
  "language_info": {
   "codemirror_mode": {
    "name": "ipython",
    "version": 3
   },
   "file_extension": ".py",
   "mimetype": "text/x-python",
   "name": "python",
   "nbconvert_exporter": "python",
   "pygments_lexer": "ipython3",
   "version": "3.8.5"
  }
 },
 "nbformat": 4,
 "nbformat_minor": 4
}
