{
 "cells": [
  {
   "cell_type": "code",
   "execution_count": 1,
   "metadata": {},
   "outputs": [],
   "source": [
    "import pandas as pd\n",
    "import numpy as np\n",
    "from sklearn import preprocessing "
   ]
  },
  {
   "cell_type": "code",
   "execution_count": 2,
   "metadata": {},
   "outputs": [],
   "source": [
    "df = pd.read_csv('./../../data/eemployes_data.csv')"
   ]
  },
  {
   "cell_type": "code",
   "execution_count": 22,
   "metadata": {},
   "outputs": [],
   "source": [
    "sample = df.copy().sample(frac=1)[5:15].reset_index(drop=True)\n"
   ]
  },
  {
   "cell_type": "code",
   "execution_count": 27,
   "metadata": {},
   "outputs": [
    {
     "data": {
      "text/plain": [
       "'{\"satisfaction\":0.74,\"evaluation\":0.92,\"number_of_projects\":4,\"average_montly_hours\":261,\"time_spend_company\":5,\"work_accident\":0,\"churn\":1,\"promotion\":0,\"department\":\"technical\",\"salary\":\"medium\"}'"
      ]
     },
     "execution_count": 27,
     "metadata": {},
     "output_type": "execute_result"
    }
   ],
   "source": [
    "sample.iloc[0].to_json()"
   ]
  },
  {
   "cell_type": "code",
   "execution_count": 11,
   "metadata": {},
   "outputs": [],
   "source": [
    "result = sample.to_json(orient=\"split\")"
   ]
  },
  {
   "cell_type": "code",
   "execution_count": 12,
   "metadata": {},
   "outputs": [
    {
     "data": {
      "text/plain": [
       "'{\"columns\":[\"satisfaction\",\"evaluation\",\"number_of_projects\",\"average_montly_hours\",\"time_spend_company\",\"work_accident\",\"churn\",\"promotion\",\"department\",\"salary\"],\"index\":[2145,10736,4120,14376,13577,4692,11725,219,10865],\"data\":[[0.97,0.68,3,167,3,0,0,0,\"sales\",\"low\"],[0.87,0.93,3,173,2,0,0,0,\"support\",\"low\"],[0.96,0.55,4,153,3,0,0,0,\"RandD\",\"medium\"],[0.11,0.84,7,296,4,0,1,0,\"sales\",\"low\"],[0.76,0.8,5,217,2,0,0,0,\"sales\",\"medium\"],[0.48,0.81,5,113,3,0,0,0,\"technical\",\"medium\"],[0.16,0.63,6,286,7,0,0,1,\"sales\",\"medium\"],[0.89,0.87,5,225,5,0,1,0,\"product_mng\",\"low\"],[0.96,0.68,3,132,2,0,0,0,\"sales\",\"medium\"]]}'"
      ]
     },
     "execution_count": 12,
     "metadata": {},
     "output_type": "execute_result"
    }
   ],
   "source": []
  },
  {
   "cell_type": "code",
   "execution_count": null,
   "metadata": {},
   "outputs": [],
   "source": []
  }
 ],
 "metadata": {
  "kernelspec": {
   "display_name": "Python 3",
   "language": "python",
   "name": "python3"
  },
  "language_info": {
   "codemirror_mode": {
    "name": "ipython",
    "version": 3
   },
   "file_extension": ".py",
   "mimetype": "text/x-python",
   "name": "python",
   "nbconvert_exporter": "python",
   "pygments_lexer": "ipython3",
   "version": "3.8.5"
  }
 },
 "nbformat": 4,
 "nbformat_minor": 4
}
