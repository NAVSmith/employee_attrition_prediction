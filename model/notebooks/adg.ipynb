{
 "cells": [
  {
   "cell_type": "code",
   "execution_count": 1,
   "metadata": {},
   "outputs": [],
   "source": [
    "#  ingnore settingcopywarning in pandas\n",
    "import warnings\n",
    "warnings.simplefilter(action='ignore')\n",
    "import pandas as pd\n",
    "\n",
    "raw = pd.read_csv('./data/eemployes_data.csv')"
   ]
  },
  {
   "cell_type": "code",
   "execution_count": 2,
   "metadata": {},
   "outputs": [
    {
     "data": {
      "text/html": [
       "<div>\n",
       "<style scoped>\n",
       "    .dataframe tbody tr th:only-of-type {\n",
       "        vertical-align: middle;\n",
       "    }\n",
       "\n",
       "    .dataframe tbody tr th {\n",
       "        vertical-align: top;\n",
       "    }\n",
       "\n",
       "    .dataframe thead th {\n",
       "        text-align: right;\n",
       "    }\n",
       "</style>\n",
       "<table border=\"1\" class=\"dataframe\">\n",
       "  <thead>\n",
       "    <tr style=\"text-align: right;\">\n",
       "      <th></th>\n",
       "      <th>satisfaction</th>\n",
       "      <th>evaluation</th>\n",
       "      <th>number_of_projects</th>\n",
       "      <th>average_montly_hours</th>\n",
       "      <th>time_spend_company</th>\n",
       "      <th>work_accident</th>\n",
       "      <th>churn</th>\n",
       "      <th>promotion</th>\n",
       "      <th>department</th>\n",
       "      <th>salary</th>\n",
       "    </tr>\n",
       "  </thead>\n",
       "  <tbody>\n",
       "    <tr>\n",
       "      <th>0</th>\n",
       "      <td>0.38</td>\n",
       "      <td>0.53</td>\n",
       "      <td>2</td>\n",
       "      <td>157</td>\n",
       "      <td>3</td>\n",
       "      <td>0</td>\n",
       "      <td>1</td>\n",
       "      <td>0</td>\n",
       "      <td>sales</td>\n",
       "      <td>low</td>\n",
       "    </tr>\n",
       "    <tr>\n",
       "      <th>1</th>\n",
       "      <td>0.80</td>\n",
       "      <td>0.86</td>\n",
       "      <td>5</td>\n",
       "      <td>262</td>\n",
       "      <td>6</td>\n",
       "      <td>0</td>\n",
       "      <td>1</td>\n",
       "      <td>0</td>\n",
       "      <td>sales</td>\n",
       "      <td>medium</td>\n",
       "    </tr>\n",
       "    <tr>\n",
       "      <th>2</th>\n",
       "      <td>0.11</td>\n",
       "      <td>0.88</td>\n",
       "      <td>7</td>\n",
       "      <td>272</td>\n",
       "      <td>4</td>\n",
       "      <td>0</td>\n",
       "      <td>1</td>\n",
       "      <td>0</td>\n",
       "      <td>sales</td>\n",
       "      <td>medium</td>\n",
       "    </tr>\n",
       "    <tr>\n",
       "      <th>3</th>\n",
       "      <td>0.72</td>\n",
       "      <td>0.87</td>\n",
       "      <td>5</td>\n",
       "      <td>223</td>\n",
       "      <td>5</td>\n",
       "      <td>0</td>\n",
       "      <td>1</td>\n",
       "      <td>0</td>\n",
       "      <td>sales</td>\n",
       "      <td>low</td>\n",
       "    </tr>\n",
       "    <tr>\n",
       "      <th>4</th>\n",
       "      <td>0.37</td>\n",
       "      <td>0.52</td>\n",
       "      <td>2</td>\n",
       "      <td>159</td>\n",
       "      <td>3</td>\n",
       "      <td>0</td>\n",
       "      <td>1</td>\n",
       "      <td>0</td>\n",
       "      <td>sales</td>\n",
       "      <td>low</td>\n",
       "    </tr>\n",
       "  </tbody>\n",
       "</table>\n",
       "</div>"
      ],
      "text/plain": [
       "   satisfaction  evaluation  number_of_projects  average_montly_hours  time_spend_company  work_accident  churn  promotion department  salary\n",
       "0          0.38        0.53                   2                   157                   3              0      1          0      sales     low\n",
       "1          0.80        0.86                   5                   262                   6              0      1          0      sales  medium\n",
       "2          0.11        0.88                   7                   272                   4              0      1          0      sales  medium\n",
       "3          0.72        0.87                   5                   223                   5              0      1          0      sales     low\n",
       "4          0.37        0.52                   2                   159                   3              0      1          0      sales     low"
      ]
     },
     "execution_count": 2,
     "metadata": {},
     "output_type": "execute_result"
    }
   ],
   "source": [
    "raw.head()"
   ]
  },
  {
   "cell_type": "markdown",
   "metadata": {},
   "source": [
    "Target distribution:"
   ]
  },
  {
   "cell_type": "code",
   "execution_count": 3,
   "metadata": {},
   "outputs": [
    {
     "data": {
      "text/plain": [
       "0.2380825388359224"
      ]
     },
     "execution_count": 3,
     "metadata": {},
     "output_type": "execute_result"
    }
   ],
   "source": [
    "raw.loc[:, 'churn'].mean()"
   ]
  },
  {
   "cell_type": "markdown",
   "metadata": {},
   "source": [
    "Pearson correlation of features with the target:"
   ]
  },
  {
   "cell_type": "code",
   "execution_count": 4,
   "metadata": {},
   "outputs": [
    {
     "data": {
      "text/plain": [
       "satisfaction           -0.388375\n",
       "evaluation              0.006567\n",
       "number_of_projects      0.023787\n",
       "average_montly_hours    0.071287\n",
       "time_spend_company      0.144822\n",
       "work_accident          -0.154622\n",
       "churn                   1.000000\n",
       "promotion              -0.061788\n",
       "Name: churn, dtype: float64"
      ]
     },
     "execution_count": 4,
     "metadata": {},
     "output_type": "execute_result"
    }
   ],
   "source": [
    "raw.corr().loc[:, 'churn']"
   ]
  },
  {
   "cell_type": "code",
   "execution_count": 5,
   "metadata": {},
   "outputs": [
    {
     "name": "stdout",
     "output_type": "stream",
     "text": [
      "train - (11249, 10) - 0.23806560583162947 target avg\n",
      "test - (3750, 10) - 0.23813333333333334 target avg\n"
     ]
    }
   ],
   "source": [
    "from sklearn.model_selection import train_test_split\n",
    "\n",
    "import random\n",
    "seed = random.randint(0, 2^8)\n",
    "train, test = train_test_split(raw, stratify=raw.loc[:, 'churn'], random_state=seed)\n",
    "\n",
    "ds = {\n",
    "    'train': train, 'test': test\n",
    "}\n",
    "\n",
    "for name, data in ds.items():\n",
    "    t = data.loc[:, 'churn'].mean()\n",
    "    print(f'{name} - {data.shape} - {t} target avg')\n",
    "\n",
    "#  label encode salary\n",
    "train.loc[:, 'salary'] = train.loc[:, 'salary'].replace({'high': 2, 'medium': 1, 'low': 0})\n",
    "\n",
    "#  one-hot department\n",
    "from sklearn.preprocessing import OneHotEncoder\n",
    "\n",
    "enc = OneHotEncoder()\n",
    "oh = enc.fit_transform(train.loc[:, 'department'].values.reshape(train.shape[0], -1))\n",
    "train.drop('department', inplace=True, axis=1)\n",
    "depart = pd.DataFrame(oh.todense(), columns=list(enc.get_feature_names()), index=train.index)\n",
    "train = pd.concat([train, depart], axis=1)\n",
    "\n",
    "#  label encode salary\n",
    "test.loc[:, 'salary'] = test.loc[:, 'salary'].replace({'high': 2, 'medium': 1, 'low': 0})\n",
    "\n",
    "#  one-hot department\n",
    "oh = enc.transform(test.loc[:, 'department'].values.reshape(test.shape[0], -1))\n",
    "test.drop('department', inplace=True, axis=1)\n",
    "depart = pd.DataFrame(oh.todense(), columns=list(enc.get_feature_names()), index=test.index)\n",
    "test = pd.concat([test, depart], axis=1)"
   ]
  },
  {
   "cell_type": "code",
   "execution_count": 6,
   "metadata": {},
   "outputs": [
    {
     "data": {
      "text/plain": [
       "0.9983109609743088"
      ]
     },
     "execution_count": 6,
     "metadata": {},
     "output_type": "execute_result"
    }
   ],
   "source": [
    "from sklearn.ensemble import RandomForestClassifier\n",
    "\n",
    "rf = RandomForestClassifier()\n",
    "\n",
    "y_tr = train.loc[:, 'churn']\n",
    "x_tr = train.drop('churn', axis=1)\n",
    "\n",
    "rf.fit(x_tr, y_tr)\n",
    "rf.score(x_tr, y_tr)"
   ]
  },
  {
   "cell_type": "code",
   "execution_count": 7,
   "metadata": {},
   "outputs": [
    {
     "data": {
      "text/plain": [
       "0.9896"
      ]
     },
     "execution_count": 7,
     "metadata": {},
     "output_type": "execute_result"
    }
   ],
   "source": [
    "y_te = test.loc[:, 'churn']\n",
    "x_te = test.drop('churn', axis=1)\n",
    "rf.score(x_te, y_te)"
   ]
  },
  {
   "cell_type": "code",
   "execution_count": 8,
   "metadata": {},
   "outputs": [
    {
     "data": {
      "image/png": "[encoded data removed]",
      "text/plain": [
       "<Figure size 432x288 with 1 Axes>"
      ]
     },
     "metadata": {
      "needs_background": "light"
     },
     "output_type": "display_data"
    }
   ],
   "source": [
    "def plot_feature_importances(rf, cols, model_dir):\n",
    "    importances = pd.DataFrame()\n",
    "    importances.loc[:, 'importances'] = rf.feature_importances_\n",
    "    importances.loc[:, 'features'] = cols\n",
    "    importances.sort_values('importances', inplace=True)\n",
    "    f, a = plt.subplots()\n",
    "    importances.plot(ax=a, kind='bar', x='features', y='importances')\n",
    "    plt.gcf().subplots_adjust(bottom=0.3)\n",
    "    f.savefig(os.path.join(model_dir, 'importances.png'))\n",
    "\n",
    "plot_feature_importances(rf, x_tr.columns, '.')"
   ]
  },
  {
   "cell_type": "markdown",
   "metadata": {},
   "source": [
    "What samples are we getting wrong:"
   ]
  },
  {
   "cell_type": "code",
   "execution_count": 24,
   "metadata": {},
   "outputs": [
    {
     "name": "stdout",
     "output_type": "stream",
     "text": [
      "39 mistakes\n"
     ]
    },
    {
     "data": {
      "text/plain": [
       "satisfaction           -0.010942\n",
       "evaluation              0.088379\n",
       "number_of_projects      0.220000\n",
       "average_montly_hours    3.285313\n",
       "time_spend_company      0.306031\n",
       "work_accident          -0.070810\n",
       "promotion              -0.021867\n",
       "salary                 -0.290174\n",
       "x0_IT                  -0.082133\n",
       "x0_RandD                0.045497\n",
       "x0_accounting          -0.018359\n",
       "x0_hr                   0.048697\n",
       "x0_management           0.030790\n",
       "x0_marketing            0.016656\n",
       "x0_product_mng         -0.035159\n",
       "x0_sales               -0.008656\n",
       "x0_support              0.107610\n",
       "x0_technical           -0.104944\n",
       "dtype: float64"
      ]
     },
     "execution_count": 24,
     "metadata": {},
     "output_type": "execute_result"
    }
   ],
   "source": [
    "pred_te = pd.DataFrame(rf.predict(x_te), columns=['prediction'], index=x_te.index)\n",
    "\n",
    "te = pd.concat([y_te, pred_te], axis=1)\n",
    "\n",
    "te.loc[:, 'mistake'] = te['churn'] != te['prediction']\n",
    "\n",
    "mistakes = te.loc[te['mistake'], :]\n",
    "print(f'{mistakes.shape[0]} mistakes')\n",
    "\n",
    "x_te.loc[mistakes.index, :].mean() - x_te.mean()"
   ]
  },
  {
   "cell_type": "code",
   "execution_count": null,
   "metadata": {},
   "outputs": [],
   "source": [
    "x_"
   ]
  }
 ],
 "metadata": {
  "kernelspec": {
   "display_name": "Python 3",
   "language": "python",
   "name": "python3"
  },
  "language_info": {
   "codemirror_mode": {
    "name": "ipython",
    "version": 3
   },
   "file_extension": ".py",
   "mimetype": "text/x-python",
   "name": "python",
   "nbconvert_exporter": "python",
   "pygments_lexer": "ipython3",
   "version": "3.8.5"
  }
 },
 "nbformat": 4,
 "nbformat_minor": 4
}
