{
 "cells": [
  {
   "cell_type": "code",
   "execution_count": 35,
   "metadata": {},
   "outputs": [],
   "source": [
    "import numpy as np\n",
    "import xgboost as xgb\n",
    "\n",
    "import matplotlib.pyplot as plt\n",
    "import seaborn as sns \n",
    "import pandas as pd\n",
    "\n",
    "from sklearn.model_selection import train_test_split, KFold, GridSearchCV\n",
    "from sklearn import metrics as met\n",
    "from imblearn.over_sampling import SMOTE"
   ]
  },
  {
   "cell_type": "code",
   "execution_count": 4,
   "metadata": {},
   "outputs": [],
   "source": [
    "# loading\n",
    "y = np.genfromtxt('./data/label.csv',delimiter=',')\n",
    "\n",
    "X = np.genfromtxt('./data/features_deprment_encoded.csv',delimiter=',')\n",
    "\n",
    "\n",
    "#splitting\n",
    "x_train, x_val, y_train, y_val = train_test_split(X,\n",
    "                                                 y,\n",
    "                                                 test_size = .2,\n",
    "                                                 random_state=12)"
   ]
  },
  {
   "cell_type": "code",
   "execution_count": 36,
   "metadata": {},
   "outputs": [],
   "source": [
    "heads = pd.read_csv('./data/eemployes_data.csv')"
   ]
  },
  {
   "cell_type": "code",
   "execution_count": 37,
   "metadata": {},
   "outputs": [
    {
     "data": {
      "text/plain": [
       "Index(['satisfaction', 'evaluation', 'number_of_projects',\n",
       "       'average_montly_hours', 'time_spend_company', 'work_accident', 'churn',\n",
       "       'promotion', 'department', 'salary'],\n",
       "      dtype='object')"
      ]
     },
     "execution_count": 37,
     "metadata": {},
     "output_type": "execute_result"
    }
   ],
   "source": [
    "heads.columns"
   ]
  },
  {
   "cell_type": "code",
   "execution_count": 5,
   "metadata": {},
   "outputs": [],
   "source": [
    "# resampling the traninging data to change the balnce the data\n",
    "sm = SMOTE(random_state=12)\n",
    "x_res, y_res = sm.fit_sample(x_train, y_train)"
   ]
  },
  {
   "cell_type": "code",
   "execution_count": 6,
   "metadata": {},
   "outputs": [],
   "source": [
    "xgb_model = xgb.XGBClassifier().fit(x_res, y_res)"
   ]
  },
  {
   "cell_type": "code",
   "execution_count": 7,
   "metadata": {},
   "outputs": [
    {
     "name": "stdout",
     "output_type": "stream",
     "text": [
      "[[2243   13]\n",
      " [  24  720]]\n"
     ]
    }
   ],
   "source": [
    "predictions = xgb_model.predict(x_val)\n",
    "actuals = y_val\n",
    "print(met.confusion_matrix(actuals, predictions))"
   ]
  },
  {
   "cell_type": "code",
   "execution_count": 8,
   "metadata": {},
   "outputs": [
    {
     "data": {
      "text/plain": [
       "0.9876666666666667"
      ]
     },
     "execution_count": 8,
     "metadata": {},
     "output_type": "execute_result"
    }
   ],
   "source": [
    "(2243+720)/(2243+24+720+13)"
   ]
  },
  {
   "cell_type": "code",
   "execution_count": 9,
   "metadata": {},
   "outputs": [],
   "source": [
    "xgb_model = xgb.XGBClassifier().fit(x_train, y_train)"
   ]
  },
  {
   "cell_type": "code",
   "execution_count": 10,
   "metadata": {},
   "outputs": [
    {
     "name": "stdout",
     "output_type": "stream",
     "text": [
      "[[2246   10]\n",
      " [  24  720]]\n"
     ]
    }
   ],
   "source": [
    "predictions = xgb_model.predict(x_val)\n",
    "actuals = y_val\n",
    "print(met.confusion_matrix(actuals, predictions))"
   ]
  },
  {
   "cell_type": "code",
   "execution_count": 11,
   "metadata": {},
   "outputs": [
    {
     "name": "stdout",
     "output_type": "stream",
     "text": [
      "[[2246   10]\n",
      " [  24  720]]\n",
      "[[2297   10]\n",
      " [  29  664]]\n",
      "[[2305   10]\n",
      " [  19  666]]\n",
      "[[2261   10]\n",
      " [  41  688]]\n",
      "[[2266   13]\n",
      " [  30  690]]\n"
     ]
    }
   ],
   "source": [
    "kf = KFold(n_splits=5, shuffle=True, random_state=12)\n",
    "for train_index, test_index in kf.split(X):\n",
    "    xgb_model = xgb.XGBClassifier().fit(X[train_index], y[train_index])\n",
    "    predictions = xgb_model.predict(X[test_index])\n",
    "    actuals = y[test_index]\n",
    "    print(met.confusion_matrix(actuals, predictions))"
   ]
  },
  {
   "cell_type": "code",
   "execution_count": 13,
   "metadata": {},
   "outputs": [
    {
     "name": "stdout",
     "output_type": "stream",
     "text": [
      "Fitting 5 folds for each of 9 candidates, totalling 45 fits\n"
     ]
    },
    {
     "name": "stderr",
     "output_type": "stream",
     "text": [
      "[Parallel(n_jobs=1)]: Using backend SequentialBackend with 1 concurrent workers.\n",
      "[Parallel(n_jobs=1)]: Done  45 out of  45 | elapsed:   42.5s finished\n"
     ]
    },
    {
     "name": "stdout",
     "output_type": "stream",
     "text": [
      "0.989042949668492\n",
      "{'max_depth': 6, 'n_estimators': 200}\n"
     ]
    }
   ],
   "source": [
    "clf = GridSearchCV(xgb_model,\n",
    "                   {'max_depth': [2, 4, 6],\n",
    "                    'n_estimators': [50, 100, 200]}, verbose=1)\n",
    "clf.fit(x_res, y_res)\n",
    "print(clf.best_score_)\n",
    "print(clf.best_params_)"
   ]
  },
  {
   "cell_type": "code",
   "execution_count": 18,
   "metadata": {},
   "outputs": [
    {
     "data": {
      "text/plain": [
       "0.99"
      ]
     },
     "execution_count": 18,
     "metadata": {},
     "output_type": "execute_result"
    }
   ],
   "source": [
    "clf.score(x_val,y_val)"
   ]
  },
  {
   "cell_type": "code",
   "execution_count": 22,
   "metadata": {},
   "outputs": [],
   "source": [
    "import seaborn as sns"
   ]
  },
  {
   "cell_type": "code",
   "execution_count": 28,
   "metadata": {},
   "outputs": [
    {
     "data": {
      "text/plain": [
       "(3000, 10)"
      ]
     },
     "execution_count": 28,
     "metadata": {},
     "output_type": "execute_result"
    }
   ],
   "source": [
    "x_val.shape"
   ]
  },
  {
   "cell_type": "code",
   "execution_count": 38,
   "metadata": {},
   "outputs": [
    {
     "data": {
      "text/plain": [
       "[('satisfaction', 0.30028817),\n",
       " ('time_spend_company', 0.26541078),\n",
       " ('number_of_projects', 0.15076128),\n",
       " ('evaluation', 0.08586524),\n",
       " ('work_accident', 0.056316167),\n",
       " ('churn', 0.04511207),\n",
       " ('average_montly_hours', 0.044453822),\n",
       " ('salary', 0.020159677),\n",
       " ('promotion', 0.01657265),\n",
       " ('department', 0.015060137)]"
      ]
     },
     "execution_count": 38,
     "metadata": {},
     "output_type": "execute_result"
    }
   ],
   "source": [
    "sorted(zip(heads.columns,xgb_model.feature_importances_),key=lambda x: x[1], reverse=True)"
   ]
  },
  {
   "cell_type": "code",
   "execution_count": 29,
   "metadata": {},
   "outputs": [
    {
     "data": {
      "text/plain": [
       "array([ 292,  513,  775, 1346, 1457, 1488, 1654, 1670, 2022, 2322, 2594,\n",
       "       2934, 2996])"
      ]
     },
     "execution_count": 29,
     "metadata": {},
     "output_type": "execute_result"
    }
   ],
   "source": [
    "np.arange(3000)[clf.predict_proba(x_val)[:,0]+y_val<0.5]"
   ]
  },
  {
   "cell_type": "code",
   "execution_count": 30,
   "metadata": {},
   "outputs": [
    {
     "data": {
      "text/plain": [
       "array([  70,  471,  915, 1121, 1126, 1296, 1387, 1464, 1609, 1722, 2141,\n",
       "       2294, 2379, 2473, 2792, 2818, 2900])"
      ]
     },
     "execution_count": 30,
     "metadata": {},
     "output_type": "execute_result"
    }
   ],
   "source": [
    "np.arange(3000)[clf.predict_proba(x_val)[:,0]+y_val>1.5]"
   ]
  },
  {
   "cell_type": "code",
   "execution_count": 42,
   "metadata": {},
   "outputs": [
    {
     "data": {
      "text/plain": [
       "<AxesSubplot:title={'center':'Feature importance'}, xlabel='F score', ylabel='Features'>"
      ]
     },
     "execution_count": 42,
     "metadata": {},
     "output_type": "execute_result"
    },
    {
     "data": {
      "image/png": "[encoded data removed]",
      "text/plain": [
       "<Figure size 432x288 with 1 Axes>"
      ]
     },
     "metadata": {
      "needs_background": "light"
     },
     "output_type": "display_data"
    }
   ],
   "source": [
    "#import graphviz\n",
    "xgb.plot_importance(xgb_model)"
   ]
  },
  {
   "cell_type": "code",
   "execution_count": 25,
   "metadata": {},
   "outputs": [
    {
     "data": {
      "text/plain": [
       "array([0., 1., 0., ..., 0., 1., 1.])"
      ]
     },
     "execution_count": 25,
     "metadata": {},
     "output_type": "execute_result"
    }
   ],
   "source": [
    "y_val"
   ]
  },
  {
   "cell_type": "code",
   "execution_count": null,
   "metadata": {},
   "outputs": [],
   "source": [
    "\n",
    "tr = 'ADMINISTRATIVER MITARBEITER DES TECHNISCHEN DIREKTORS (CTO) UND HR-MANAGERS'\n",
    "tr.title()"
   ]
  },
  {
   "cell_type": "code",
   "execution_count": 17,
   "metadata": {},
   "outputs": [
    {
     "data": {
      "text/plain": [
       "array([[0.41758242, 0.78125   , 0.4       , ..., 0.        , 0.17008547,\n",
       "        0.5327998 ],\n",
       "       [0.37362638, 0.171875  , 0.        , ..., 0.        , 1.        ,\n",
       "        0.68594176],\n",
       "       [0.61538464, 0.96875   , 0.2       , ..., 0.        , 0.07749288,\n",
       "        0.51244545],\n",
       "       ...,\n",
       "       [0.71428573, 0.6875    , 0.4       , ..., 0.        , 0.07749288,\n",
       "        0.51244545],\n",
       "       [0.25274727, 0.21875   , 0.        , ..., 0.        , 1.        ,\n",
       "        0.68594176],\n",
       "       [0.7802198 , 0.765625  , 0.4       , ..., 0.        , 0.        ,\n",
       "        0.        ]])"
      ]
     },
     "execution_count": 17,
     "metadata": {},
     "output_type": "execute_result"
    }
   ],
   "source": [
    "x_val"
   ]
  },
  {
   "cell_type": "code",
   "execution_count": null,
   "metadata": {},
   "outputs": [],
   "source": []
  }
 ],
 "metadata": {
  "kernelspec": {
   "display_name": "Python 3",
   "language": "python",
   "name": "python3"
  },
  "language_info": {
   "codemirror_mode": {
    "name": "ipython",
    "version": 3
   },
   "file_extension": ".py",
   "mimetype": "text/x-python",
   "name": "python",
   "nbconvert_exporter": "python",
   "pygments_lexer": "ipython3",
   "version": "3.7.7"
  }
 },
 "nbformat": 4,
 "nbformat_minor": 4
}
