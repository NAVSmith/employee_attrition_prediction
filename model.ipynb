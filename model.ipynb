{
 "cells": [
  {
   "cell_type": "code",
   "execution_count": 39,
   "metadata": {},
   "outputs": [],
   "source": [
    "import tensorflow as tf\n",
    "import tensorflow_datasets as tfds\n",
    "import numpy as np\n",
    "import matplotlib.pyplot as plt\n",
    "import seaborn as sns \n",
    "from tensorflow.keras import models, layers, regularizers, metrics\n",
    "from sklearn.model_selection import train_test_split\n",
    "from sklearn import metrics as met\n",
    "from imblearn.over_sampling import SMOTE\n"
   ]
  },
  {
   "cell_type": "code",
   "execution_count": 2,
   "metadata": {},
   "outputs": [],
   "source": [
    "# loading\n",
    "y = np.genfromtxt('./data/label.csv',delimiter=',')"
   ]
  },
  {
   "cell_type": "code",
   "execution_count": 3,
   "metadata": {},
   "outputs": [],
   "source": [
    "X = np.genfromtxt('./data/features.csv',delimiter=',')"
   ]
  },
  {
   "cell_type": "code",
   "execution_count": 4,
   "metadata": {},
   "outputs": [],
   "source": [
    "#splitting\n",
    "x_train, x_val, y_train, y_val = train_test_split(X,\n",
    "                                                 y,\n",
    "                                                 test_size = .2,\n",
    "                                                 random_state=12)"
   ]
  },
  {
   "cell_type": "code",
   "execution_count": 5,
   "metadata": {},
   "outputs": [],
   "source": [
    "# resampling the traninging data to change the balnce the data\n",
    "sm = SMOTE(random_state=12)\n",
    "x_res, y_res = sm.fit_sample(x_train, y_train)"
   ]
  },
  {
   "cell_type": "code",
   "execution_count": 13,
   "metadata": {},
   "outputs": [],
   "source": [
    "# turning the array to tensors\n",
    "y_train_res = tf.convert_to_tensor(y_res, dtype='float32')\n",
    "x_train_res = tf.convert_to_tensor(x_res, dtype='float32')"
   ]
  },
  {
   "cell_type": "code",
   "execution_count": 14,
   "metadata": {},
   "outputs": [],
   "source": [
    "X_val = tf.convert_to_tensor(x_val, dtype='float32')\n",
    "Y_val = tf.convert_to_tensor(y_val, dtype='float32')"
   ]
  },
  {
   "cell_type": "code",
   "execution_count": 15,
   "metadata": {},
   "outputs": [],
   "source": [
    "# makeing the tensorflow data \n",
    "data_train = tf.data.Dataset.from_tensor_slices(\n",
    "    (x_train_res, y_train_res)\n",
    "\n",
    ").cache()\n",
    "\n",
    "data_validate = tf.data.Dataset.from_tensor_slices(\n",
    "    (X_val, Y_val)).cache()"
   ]
  },
  {
   "cell_type": "code",
   "execution_count": 41,
   "metadata": {},
   "outputs": [
    {
     "data": {
      "text/plain": [
       "<module 'tensorflow.keras.metrics' from '/usr/local/lib/python3.8/site-packages/tensorflow/keras/metrics/__init__.py'>"
      ]
     },
     "execution_count": 41,
     "metadata": {},
     "output_type": "execute_result"
    }
   ],
   "source": [
    "metrics.B\n"
   ]
  },
  {
   "cell_type": "code",
   "execution_count": 16,
   "metadata": {},
   "outputs": [
    {
     "data": {
      "text/plain": [
       "(18,)"
      ]
     },
     "execution_count": 16,
     "metadata": {},
     "output_type": "execute_result"
    }
   ],
   "source": [
    "X[0].shape"
   ]
  },
  {
   "cell_type": "code",
   "execution_count": 21,
   "metadata": {},
   "outputs": [
    {
     "name": "stdout",
     "output_type": "stream",
     "text": [
      "Model: \"sequential_3\"\n",
      "_________________________________________________________________\n",
      "Layer (type)                 Output Shape              Param #   \n",
      "=================================================================\n",
      "flatten_3 (Flatten)          (None, 18)                0         \n",
      "_________________________________________________________________\n",
      "dense_8 (Dense)              (None, 18)                342       \n",
      "_________________________________________________________________\n",
      "dense_9 (Dense)              (None, 9)                 171       \n",
      "_________________________________________________________________\n",
      "dense_10 (Dense)             (None, 1)                 10        \n",
      "=================================================================\n",
      "Total params: 523\n",
      "Trainable params: 523\n",
      "Non-trainable params: 0\n",
      "_________________________________________________________________\n"
     ]
    }
   ],
   "source": [
    "model = models.Sequential()\n",
    "model.add(layers.Flatten(input_shape=(18, 1, 1)))\n",
    "model.add(layers.Dense(18, activation='relu'))\n",
    "model.add(layers.Dense(9, activation='relu'))\n",
    "model.add(layers.Dense(1, activation='sigmoid'))\n",
    "model.summary()\n",
    "\n",
    "\n",
    "model.compile(optimizer='adam', loss='binary_crossentropy', metrics=['accuracy'])"
   ]
  },
  {
   "cell_type": "code",
   "execution_count": 22,
   "metadata": {},
   "outputs": [
    {
     "name": "stdout",
     "output_type": "stream",
     "text": [
      "Epoch 1/30\n",
      "WARNING:tensorflow:Model was constructed with shape (None, 18, 1, 1) for input Tensor(\"flatten_3_input:0\", shape=(None, 18, 1, 1), dtype=float32), but it was called on an input with incompatible shape (None, 18).\n",
      "WARNING:tensorflow:Model was constructed with shape (None, 18, 1, 1) for input Tensor(\"flatten_3_input:0\", shape=(None, 18, 1, 1), dtype=float32), but it was called on an input with incompatible shape (None, 18).\n",
      "560/574 [============================>.] - ETA: 0s - loss: 0.5943 - accuracy: 0.6924WARNING:tensorflow:Model was constructed with shape (None, 18, 1, 1) for input Tensor(\"flatten_3_input:0\", shape=(None, 18, 1, 1), dtype=float32), but it was called on an input with incompatible shape (None, 18).\n",
      "574/574 [==============================] - 1s 2ms/step - loss: 0.5912 - accuracy: 0.6955 - val_loss: 0.6835 - val_accuracy: 0.6450\n",
      "Epoch 2/30\n",
      "574/574 [==============================] - 1s 2ms/step - loss: 0.4109 - accuracy: 0.8298 - val_loss: 0.4325 - val_accuracy: 0.8107\n",
      "Epoch 3/30\n",
      "574/574 [==============================] - 1s 2ms/step - loss: 0.2782 - accuracy: 0.8881 - val_loss: 0.2830 - val_accuracy: 0.8777\n",
      "Epoch 4/30\n",
      "574/574 [==============================] - 1s 2ms/step - loss: 0.2147 - accuracy: 0.9235 - val_loss: 0.2456 - val_accuracy: 0.9077\n",
      "Epoch 5/30\n",
      "574/574 [==============================] - 1s 2ms/step - loss: 0.1907 - accuracy: 0.9318 - val_loss: 0.2386 - val_accuracy: 0.9090\n",
      "Epoch 6/30\n",
      "574/574 [==============================] - 1s 2ms/step - loss: 0.1815 - accuracy: 0.9362 - val_loss: 0.2325 - val_accuracy: 0.9147\n",
      "Epoch 7/30\n",
      "574/574 [==============================] - 1s 2ms/step - loss: 0.1767 - accuracy: 0.9382 - val_loss: 0.1968 - val_accuracy: 0.9310\n",
      "Epoch 8/30\n",
      "574/574 [==============================] - 1s 2ms/step - loss: 0.1704 - accuracy: 0.9408 - val_loss: 0.2121 - val_accuracy: 0.9243\n",
      "Epoch 9/30\n",
      "574/574 [==============================] - 1s 2ms/step - loss: 0.1670 - accuracy: 0.9414 - val_loss: 0.1907 - val_accuracy: 0.9347\n",
      "Epoch 10/30\n",
      "574/574 [==============================] - 1s 2ms/step - loss: 0.1643 - accuracy: 0.9436 - val_loss: 0.1871 - val_accuracy: 0.9377\n",
      "Epoch 11/30\n",
      "574/574 [==============================] - 1s 2ms/step - loss: 0.1617 - accuracy: 0.9440 - val_loss: 0.1830 - val_accuracy: 0.9387\n",
      "Epoch 12/30\n",
      "574/574 [==============================] - 1s 2ms/step - loss: 0.1580 - accuracy: 0.9458 - val_loss: 0.2040 - val_accuracy: 0.9307\n",
      "Epoch 13/30\n",
      "574/574 [==============================] - 1s 2ms/step - loss: 0.1590 - accuracy: 0.9440 - val_loss: 0.1837 - val_accuracy: 0.9387\n",
      "Epoch 14/30\n",
      "574/574 [==============================] - 1s 2ms/step - loss: 0.1555 - accuracy: 0.9449 - val_loss: 0.2192 - val_accuracy: 0.9237\n",
      "Epoch 15/30\n",
      "574/574 [==============================] - 1s 2ms/step - loss: 0.1535 - accuracy: 0.9467 - val_loss: 0.2009 - val_accuracy: 0.9333\n",
      "Epoch 16/30\n",
      "574/574 [==============================] - 1s 2ms/step - loss: 0.1511 - accuracy: 0.9460 - val_loss: 0.1659 - val_accuracy: 0.9483\n",
      "Epoch 17/30\n",
      "574/574 [==============================] - 1s 2ms/step - loss: 0.1511 - accuracy: 0.9472 - val_loss: 0.1821 - val_accuracy: 0.9390\n",
      "Epoch 18/30\n",
      "574/574 [==============================] - 1s 2ms/step - loss: 0.1483 - accuracy: 0.9472 - val_loss: 0.1647 - val_accuracy: 0.9470\n",
      "Epoch 19/30\n",
      "574/574 [==============================] - 1s 2ms/step - loss: 0.1469 - accuracy: 0.9482 - val_loss: 0.1650 - val_accuracy: 0.9463\n",
      "Epoch 20/30\n",
      "574/574 [==============================] - 1s 2ms/step - loss: 0.1460 - accuracy: 0.9481 - val_loss: 0.1610 - val_accuracy: 0.9473\n",
      "Epoch 21/30\n",
      "574/574 [==============================] - 1s 2ms/step - loss: 0.1442 - accuracy: 0.9494 - val_loss: 0.1546 - val_accuracy: 0.9510\n",
      "Epoch 22/30\n",
      "574/574 [==============================] - 2s 3ms/step - loss: 0.1418 - accuracy: 0.9503 - val_loss: 0.1694 - val_accuracy: 0.9440\n",
      "Epoch 23/30\n",
      "574/574 [==============================] - 1s 2ms/step - loss: 0.1434 - accuracy: 0.9489 - val_loss: 0.1812 - val_accuracy: 0.9420\n",
      "Epoch 24/30\n",
      "574/574 [==============================] - 1s 2ms/step - loss: 0.1413 - accuracy: 0.9495 - val_loss: 0.1763 - val_accuracy: 0.9413\n",
      "Epoch 25/30\n",
      "574/574 [==============================] - 1s 2ms/step - loss: 0.1414 - accuracy: 0.9503 - val_loss: 0.1733 - val_accuracy: 0.9403\n",
      "Epoch 26/30\n",
      "574/574 [==============================] - 1s 2ms/step - loss: 0.1400 - accuracy: 0.9508 - val_loss: 0.1585 - val_accuracy: 0.9490\n",
      "Epoch 27/30\n",
      "574/574 [==============================] - 1s 2ms/step - loss: 0.1389 - accuracy: 0.9503 - val_loss: 0.1619 - val_accuracy: 0.9443\n",
      "Epoch 28/30\n",
      "574/574 [==============================] - 1s 2ms/step - loss: 0.1373 - accuracy: 0.9518 - val_loss: 0.1716 - val_accuracy: 0.9420\n",
      "Epoch 29/30\n",
      "574/574 [==============================] - 1s 2ms/step - loss: 0.1351 - accuracy: 0.9520 - val_loss: 0.1603 - val_accuracy: 0.9473\n",
      "Epoch 30/30\n",
      "574/574 [==============================] - 1s 2ms/step - loss: 0.1351 - accuracy: 0.9510 - val_loss: 0.1558 - val_accuracy: 0.9500\n"
     ]
    }
   ],
   "source": [
    "history = model.fit(data_train.shuffle(10000).batch(32), epochs=30, validation_data=data_validate.batch(32))"
   ]
  },
  {
   "cell_type": "code",
   "execution_count": 23,
   "metadata": {},
   "outputs": [
    {
     "data": {
      "image/png": "[encoded data removed]",
      "text/plain": [
       "<Figure size 432x288 with 1 Axes>"
      ]
     },
     "metadata": {
      "needs_background": "light"
     },
     "output_type": "display_data"
    },
    {
     "data": {
      "image/png": "[encoded data removed]",
      "text/plain": [
       "<Figure size 432x288 with 1 Axes>"
      ]
     },
     "metadata": {
      "needs_background": "light"
     },
     "output_type": "display_data"
    }
   ],
   "source": [
    "plt.plot(model.history.history['loss'], label='loss')\n",
    "plt.plot(model.history.history['val_loss'], label='val_loss')\n",
    "plt.legend()\n",
    "plt.show()\n",
    "plt.close()\n",
    "\n",
    "plt.plot(model.history.history['accuracy'], label='accuracy')\n",
    "plt.plot(model.history.history['val_accuracy'], label='val_accuracy')\n",
    "plt.legend()\n",
    "plt.show()\n",
    "plt.close()"
   ]
  },
  {
   "cell_type": "code",
   "execution_count": 28,
   "metadata": {},
   "outputs": [
    {
     "data": {
      "text/plain": [
       "array([[0.02165315, 0.        ],\n",
       "       [0.9912787 , 1.        ],\n",
       "       [0.00163436, 0.        ],\n",
       "       ...,\n",
       "       [0.0210996 , 0.        ],\n",
       "       [0.09554723, 1.        ],\n",
       "       [0.93568766, 1.        ]], dtype=float32)"
      ]
     },
     "execution_count": 28,
     "metadata": {},
     "output_type": "execute_result"
    }
   ],
   "source": [
    "np.hstack([model.predict(X_val), Y_val[:,np.newaxis]])"
   ]
  },
  {
   "cell_type": "code",
   "execution_count": 29,
   "metadata": {},
   "outputs": [
    {
     "data": {
      "text/plain": [
       "<matplotlib.collections.PathCollection at 0x134b99070>"
      ]
     },
     "execution_count": 29,
     "metadata": {},
     "output_type": "execute_result"
    },
    {
     "data": {
      "image/png": "[encoded data removed]",
      "text/plain": [
       "<Figure size 432x288 with 1 Axes>"
      ]
     },
     "metadata": {
      "needs_background": "light"
     },
     "output_type": "display_data"
    }
   ],
   "source": [
    "plt.scatter(model.predict(X_val), Y_val)"
   ]
  },
  {
   "cell_type": "code",
   "execution_count": 31,
   "metadata": {},
   "outputs": [
    {
     "data": {
      "text/plain": [
       "<matplotlib.axes._subplots.AxesSubplot at 0x1396ea160>"
      ]
     },
     "execution_count": 31,
     "metadata": {},
     "output_type": "execute_result"
    },
    {
     "data": {
      "image/png": "[encoded data removed]",
      "text/plain": [
       "<Figure size 432x288 with 1 Axes>"
      ]
     },
     "metadata": {
      "needs_background": "light"
     },
     "output_type": "display_data"
    }
   ],
   "source": [
    "sns.distplot(model.predict(X_val)[Y_val==1])"
   ]
  },
  {
   "cell_type": "code",
   "execution_count": 32,
   "metadata": {},
   "outputs": [
    {
     "data": {
      "text/plain": [
       "<matplotlib.axes._subplots.AxesSubplot at 0x139687bb0>"
      ]
     },
     "execution_count": 32,
     "metadata": {},
     "output_type": "execute_result"
    },
    {
     "data": {
      "image/png": "[encoded data removed]",
      "text/plain": [
       "<Figure size 432x288 with 1 Axes>"
      ]
     },
     "metadata": {
      "needs_background": "light"
     },
     "output_type": "display_data"
    }
   ],
   "source": [
    "sns.distplot(model.predict(X_val)[Y_val==0])"
   ]
  },
  {
   "cell_type": "code",
   "execution_count": 33,
   "metadata": {},
   "outputs": [
    {
     "data": {
      "text/plain": [
       "<matplotlib.axes._subplots.AxesSubplot at 0x1399c3c40>"
      ]
     },
     "execution_count": 33,
     "metadata": {},
     "output_type": "execute_result"
    },
    {
     "data": {
      "image/png": "[encoded data removed]",
      "text/plain": [
       "<Figure size 432x288 with 1 Axes>"
      ]
     },
     "metadata": {
      "needs_background": "light"
     },
     "output_type": "display_data"
    }
   ],
   "source": [
    "sns.distplot(model.predict(x_train_res)[y_train_res==1])"
   ]
  },
  {
   "cell_type": "code",
   "execution_count": 34,
   "metadata": {},
   "outputs": [
    {
     "data": {
      "text/plain": [
       "<matplotlib.axes._subplots.AxesSubplot at 0x13995d4f0>"
      ]
     },
     "execution_count": 34,
     "metadata": {},
     "output_type": "execute_result"
    },
    {
     "data": {
      "image/png": "[encoded data removed]",
      "text/plain": [
       "<Figure size 432x288 with 1 Axes>"
      ]
     },
     "metadata": {
      "needs_background": "light"
     },
     "output_type": "display_data"
    }
   ],
   "source": [
    "sns.distplot(model.predict(x_train_res)[y_train_res==0])"
   ]
  },
  {
   "cell_type": "code",
   "execution_count": 40,
   "metadata": {},
   "outputs": [
    {
     "data": {
      "text/plain": [
       "0.9801139613360788"
      ]
     },
     "execution_count": 40,
     "metadata": {},
     "output_type": "execute_result"
    }
   ],
   "source": [
    "#roc auc\n",
    "met.roc_auc_score(Y_val,model.predict(X_val))"
   ]
  },
  {
   "cell_type": "code",
   "execution_count": null,
   "metadata": {},
   "outputs": [],
   "source": []
  }
 ],
 "metadata": {
  "kernelspec": {
   "display_name": "Python 3",
   "language": "python",
   "name": "python3"
  },
  "language_info": {
   "codemirror_mode": {
    "name": "ipython",
    "version": 3
   },
   "file_extension": ".py",
   "mimetype": "text/x-python",
   "name": "python",
   "nbconvert_exporter": "python",
   "pygments_lexer": "ipython3",
   "version": "3.8.5"
  }
 },
 "nbformat": 4,
 "nbformat_minor": 4
}
