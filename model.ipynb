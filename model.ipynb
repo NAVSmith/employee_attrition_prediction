{
 "cells": [
  {
   "cell_type": "code",
   "execution_count": 22,
   "metadata": {},
   "outputs": [],
   "source": [
    "import tensorflow as tf\n",
    "import tensorflow_datasets as tfds\n",
    "import numpy as np\n",
    "import matplotlib.pyplot as plt\n",
    "from tensorflow.keras import models, layers\n",
    "from sklearn.model_selection import train_test_split\n",
    "from imblearn.over_sampling import SMOTE"
   ]
  },
  {
   "cell_type": "code",
   "execution_count": 23,
   "metadata": {},
   "outputs": [],
   "source": [
    "# loading\n",
    "y = np.genfromtxt('./data/label.csv',delimiter=',')"
   ]
  },
  {
   "cell_type": "code",
   "execution_count": 24,
   "metadata": {},
   "outputs": [],
   "source": [
    "X = np.genfromtxt('./data/features.csv',delimiter=',')"
   ]
  },
  {
   "cell_type": "code",
   "execution_count": 25,
   "metadata": {},
   "outputs": [],
   "source": [
    "#splitting\n",
    "x_train, x_val, y_train, y_val = train_test_split(X,\n",
    "                                                 y,\n",
    "                                                 test_size = .1,\n",
    "                                                 random_state=12)"
   ]
  },
  {
   "cell_type": "code",
   "execution_count": 26,
   "metadata": {},
   "outputs": [],
   "source": [
    "# resampling the traninging data to change the balnce the data\n",
    "sm = SMOTE(random_state=12)\n",
    "x_res, y_res = sm.fit_sample(x_train, y_train)"
   ]
  },
  {
   "cell_type": "code",
   "execution_count": 27,
   "metadata": {},
   "outputs": [],
   "source": [
    "# turning the array to tensors\n",
    "y_train_res = tf.convert_to_tensor(y_res, dtype='float32')\n",
    "x_train_res = tf.convert_to_tensor(x_res, dtype='float32')"
   ]
  },
  {
   "cell_type": "code",
   "execution_count": 28,
   "metadata": {},
   "outputs": [],
   "source": [
    "X_val = tf.convert_to_tensor(x_val, dtype='float32')\n",
    "Y_val = tf.convert_to_tensor(y_val, dtype='float32')"
   ]
  },
  {
   "cell_type": "code",
   "execution_count": 29,
   "metadata": {},
   "outputs": [],
   "source": [
    "# makeing the tensorflow data \n",
    "data_train = tf.data.Dataset.from_tensor_slices(\n",
    "    (x_train_res, y_train_res)\n",
    "\n",
    ").cache()\n",
    "\n",
    "data_validate = tf.data.Dataset.from_tensor_slices(\n",
    "    (X_val, Y_val)).cache()"
   ]
  },
  {
   "cell_type": "code",
   "execution_count": null,
   "metadata": {},
   "outputs": [],
   "source": [
    "\n"
   ]
  },
  {
   "cell_type": "code",
   "execution_count": 30,
   "metadata": {},
   "outputs": [
    {
     "data": {
      "text/plain": [
       "(18,)"
      ]
     },
     "execution_count": 30,
     "metadata": {},
     "output_type": "execute_result"
    }
   ],
   "source": [
    "X[0].shape"
   ]
  },
  {
   "cell_type": "code",
   "execution_count": 31,
   "metadata": {},
   "outputs": [
    {
     "name": "stdout",
     "output_type": "stream",
     "text": [
      "Model: \"sequential\"\n",
      "_________________________________________________________________\n",
      "Layer (type)                 Output Shape              Param #   \n",
      "=================================================================\n",
      "flatten (Flatten)            (None, 18)                0         \n",
      "_________________________________________________________________\n",
      "dense (Dense)                (None, 9)                 171       \n",
      "_________________________________________________________________\n",
      "dense_1 (Dense)              (None, 1)                 10        \n",
      "=================================================================\n",
      "Total params: 181\n",
      "Trainable params: 181\n",
      "Non-trainable params: 0\n",
      "_________________________________________________________________\n"
     ]
    }
   ],
   "source": [
    "model = models.Sequential()\n",
    "model.add(layers.Flatten(input_shape=(18, 1, 1)))\n",
    "model.add(layers.Dense(9, activation='relu'))\n",
    "model.add(layers.Dense(1, activation='sigmoid'))\n",
    "model.summary()\n",
    "\n",
    "\n",
    "model.compile(optimizer='adam', loss='binary_crossentropy', metrics=['accuracy'])"
   ]
  },
  {
   "cell_type": "code",
   "execution_count": 36,
   "metadata": {},
   "outputs": [
    {
     "name": "stdout",
     "output_type": "stream",
     "text": [
      "Epoch 1/8\n",
      "644/644 [==============================] - 1s 1ms/step - loss: 0.1840 - accuracy: 0.9352 - val_loss: 0.2097 - val_accuracy: 0.9133\n",
      "Epoch 2/8\n",
      "644/644 [==============================] - 1s 1ms/step - loss: 0.1799 - accuracy: 0.9370 - val_loss: 0.2229 - val_accuracy: 0.9067\n",
      "Epoch 3/8\n",
      "644/644 [==============================] - 1s 1ms/step - loss: 0.1820 - accuracy: 0.9347 - val_loss: 0.2076 - val_accuracy: 0.9133\n",
      "Epoch 4/8\n",
      "644/644 [==============================] - 1s 1000us/step - loss: 0.1790 - accuracy: 0.9371 - val_loss: 0.2141 - val_accuracy: 0.9100\n",
      "Epoch 5/8\n",
      "644/644 [==============================] - 1s 1ms/step - loss: 0.1773 - accuracy: 0.9376 - val_loss: 0.2231 - val_accuracy: 0.9087\n",
      "Epoch 6/8\n",
      "644/644 [==============================] - 1s 960us/step - loss: 0.1775 - accuracy: 0.9364 - val_loss: 0.1979 - val_accuracy: 0.9193\n",
      "Epoch 7/8\n",
      "644/644 [==============================] - 1s 1ms/step - loss: 0.1753 - accuracy: 0.9380 - val_loss: 0.2197 - val_accuracy: 0.9107\n",
      "Epoch 8/8\n",
      "644/644 [==============================] - 1s 1ms/step - loss: 0.1764 - accuracy: 0.9366 - val_loss: 0.1924 - val_accuracy: 0.9227\n"
     ]
    }
   ],
   "source": [
    "history = model.fit(data_train.shuffle(10000).batch(32), epochs=8, validation_data=data_validate.batch(32))"
   ]
  },
  {
   "cell_type": "code",
   "execution_count": 35,
   "metadata": {},
   "outputs": [
    {
     "data": {
      "image/png": "[encoded data removed]",
      "text/plain": [
       "<Figure size 432x288 with 1 Axes>"
      ]
     },
     "metadata": {
      "needs_background": "light"
     },
     "output_type": "display_data"
    },
    {
     "data": {
      "image/png": "[encoded data removed]",
      "text/plain": [
       "<Figure size 432x288 with 1 Axes>"
      ]
     },
     "metadata": {
      "needs_background": "light"
     },
     "output_type": "display_data"
    }
   ],
   "source": [
    "plt.plot(model.history.history['loss'], label='loss')\n",
    "plt.plot(model.history.history['val_loss'], label='val_loss')\n",
    "plt.legend()\n",
    "plt.show()\n",
    "plt.close()\n",
    "\n",
    "plt.plot(model.history.history['accuracy'], label='accuracy')\n",
    "plt.plot(model.history.history['val_accuracy'], label='val_accuracy')\n",
    "plt.legend()\n",
    "plt.show()\n",
    "plt.close()"
   ]
  },
  {
   "cell_type": "code",
   "execution_count": null,
   "metadata": {},
   "outputs": [],
   "source": []
  }
 ],
 "metadata": {
  "kernelspec": {
   "display_name": "Python 3",
   "language": "python",
   "name": "python3"
  },
  "language_info": {
   "codemirror_mode": {
    "name": "ipython",
    "version": 3
   },
   "file_extension": ".py",
   "mimetype": "text/x-python",
   "name": "python",
   "nbconvert_exporter": "python",
   "pygments_lexer": "ipython3",
   "version": "3.8.5"
  }
 },
 "nbformat": 4,
 "nbformat_minor": 4
}
