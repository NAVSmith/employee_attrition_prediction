{
 "cells": [
  {
   "cell_type": "code",
   "execution_count": 35,
   "metadata": {},
   "outputs": [],
   "source": [
    "import tensorflow as tf\n",
    "import tensorflow_datasets as tfds\n",
    "import numpy as np\n",
    "import matplotlib.pyplot as plt\n",
    "from tensorflow.keras import models, layers"
   ]
  },
  {
   "cell_type": "code",
   "execution_count": 36,
   "metadata": {},
   "outputs": [],
   "source": [
    "# loading\n",
    "y = np.genfromtxt('./data/label.csv',delimiter=',')"
   ]
  },
  {
   "cell_type": "code",
   "execution_count": 37,
   "metadata": {},
   "outputs": [],
   "source": [
    "X = np.genfromtxt('./data/features.csv',delimiter=',')"
   ]
  },
  {
   "cell_type": "code",
   "execution_count": 38,
   "metadata": {},
   "outputs": [],
   "source": [
    "y = tf.convert_to_tensor(y, dtype='float32')"
   ]
  },
  {
   "cell_type": "code",
   "execution_count": 39,
   "metadata": {},
   "outputs": [],
   "source": [
    "X =tf.convert_to_tensor(X, dtype='float32')"
   ]
  },
  {
   "cell_type": "code",
   "execution_count": 40,
   "metadata": {},
   "outputs": [],
   "source": [
    "#splitting\n",
    "split_index = int(0.8 * len(X))\n",
    "data_train = tf.data.Dataset.from_tensor_slices(\n",
    "    (X[:split_index], y[:split_index])\n",
    "\n",
    ").cache()\n",
    "\n",
    "data_validate = tf.data.Dataset.from_tensor_slices(\n",
    "    (X[split_index:], y[split_index:])).cache()"
   ]
  },
  {
   "cell_type": "code",
   "execution_count": 41,
   "metadata": {},
   "outputs": [
    {
     "data": {
      "text/plain": [
       "TensorShape([18])"
      ]
     },
     "execution_count": 41,
     "metadata": {},
     "output_type": "execute_result"
    }
   ],
   "source": [
    "X[0].shape"
   ]
  },
  {
   "cell_type": "code",
   "execution_count": 44,
   "metadata": {},
   "outputs": [
    {
     "name": "stdout",
     "output_type": "stream",
     "text": [
      "Model: \"sequential_2\"\n",
      "_________________________________________________________________\n",
      "Layer (type)                 Output Shape              Param #   \n",
      "=================================================================\n",
      "flatten_2 (Flatten)          (None, 18)                0         \n",
      "_________________________________________________________________\n",
      "dense_4 (Dense)              (None, 9)                 171       \n",
      "_________________________________________________________________\n",
      "dense_5 (Dense)              (None, 1)                 10        \n",
      "=================================================================\n",
      "Total params: 181\n",
      "Trainable params: 181\n",
      "Non-trainable params: 0\n",
      "_________________________________________________________________\n"
     ]
    }
   ],
   "source": [
    "model = models.Sequential()\n",
    "model.add(layers.Flatten(input_shape=(18, 1, 1)))\n",
    "model.add(layers.Dense(9, activation='relu'))\n",
    "model.add(layers.Dense(1, activation='sigmoid'))\n",
    "model.summary()\n",
    "\n",
    "\n",
    "model.compile(optimizer='adam', loss='binary_crossentropy', metrics=['accuracy'])"
   ]
  },
  {
   "cell_type": "code",
   "execution_count": 45,
   "metadata": {},
   "outputs": [
    {
     "name": "stdout",
     "output_type": "stream",
     "text": [
      "Epoch 1/5\n",
      "WARNING:tensorflow:Model was constructed with shape (None, 18, 1, 1) for input Tensor(\"flatten_2_input:0\", shape=(None, 18, 1, 1), dtype=float32), but it was called on an input with incompatible shape (None, 18).\n",
      "WARNING:tensorflow:Model was constructed with shape (None, 18, 1, 1) for input Tensor(\"flatten_2_input:0\", shape=(None, 18, 1, 1), dtype=float32), but it was called on an input with incompatible shape (None, 18).\n",
      "363/375 [============================>.] - ETA: 0s - loss: 0.5000 - accuracy: 0.8260WARNING:tensorflow:Model was constructed with shape (None, 18, 1, 1) for input Tensor(\"flatten_2_input:0\", shape=(None, 18, 1, 1), dtype=float32), but it was called on an input with incompatible shape (None, 18).\n",
      "375/375 [==============================] - 0s 1ms/step - loss: 0.4965 - accuracy: 0.8270 - val_loss: 0.9215 - val_accuracy: 0.4763\n",
      "Epoch 2/5\n",
      "375/375 [==============================] - 0s 1ms/step - loss: 0.4053 - accuracy: 0.8343 - val_loss: 0.8720 - val_accuracy: 0.4933\n",
      "Epoch 3/5\n",
      "375/375 [==============================] - 0s 1ms/step - loss: 0.3819 - accuracy: 0.8617 - val_loss: 0.8362 - val_accuracy: 0.5873\n",
      "Epoch 4/5\n",
      "375/375 [==============================] - 0s 1ms/step - loss: 0.3709 - accuracy: 0.8613 - val_loss: 0.7812 - val_accuracy: 0.5793\n",
      "Epoch 5/5\n",
      "375/375 [==============================] - 0s 1ms/step - loss: 0.3519 - accuracy: 0.8544 - val_loss: 0.7406 - val_accuracy: 0.5823\n"
     ]
    }
   ],
   "source": [
    "history = model.fit(data_train.shuffle(10000).batch(32), epochs=5, validation_data=data_validate.batch(32))"
   ]
  },
  {
   "cell_type": "code",
   "execution_count": 46,
   "metadata": {},
   "outputs": [
    {
     "data": {
      "image/png": "[encoded data removed]",
      "text/plain": [
       "<Figure size 432x288 with 1 Axes>"
      ]
     },
     "metadata": {
      "needs_background": "light"
     },
     "output_type": "display_data"
    },
    {
     "data": {
      "image/png": "[encoded data removed]",
      "text/plain": [
       "<Figure size 432x288 with 1 Axes>"
      ]
     },
     "metadata": {
      "needs_background": "light"
     },
     "output_type": "display_data"
    }
   ],
   "source": [
    "plt.plot(model.history.history['loss'], label='loss')\n",
    "plt.plot(model.history.history['val_loss'], label='val_loss')\n",
    "plt.legend()\n",
    "plt.show()\n",
    "plt.close()\n",
    "\n",
    "plt.plot(model.history.history['accuracy'], label='accuracy')\n",
    "plt.plot(model.history.history['val_accuracy'], label='val_accuracy')\n",
    "plt.legend()\n",
    "plt.show()\n",
    "plt.close()"
   ]
  },
  {
   "cell_type": "code",
   "execution_count": null,
   "metadata": {},
   "outputs": [],
   "source": []
  }
 ],
 "metadata": {
  "kernelspec": {
   "display_name": "Python 3",
   "language": "python",
   "name": "python3"
  },
  "language_info": {
   "codemirror_mode": {
    "name": "ipython",
    "version": 3
   },
   "file_extension": ".py",
   "mimetype": "text/x-python",
   "name": "python",
   "nbconvert_exporter": "python",
   "pygments_lexer": "ipython3",
   "version": "3.8.5"
  }
 },
 "nbformat": 4,
 "nbformat_minor": 4
}
