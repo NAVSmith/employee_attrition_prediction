{
 "cells": [
  {
   "cell_type": "code",
   "execution_count": 102,
   "metadata": {},
   "outputs": [],
   "source": [
    "import tensorflow as tf\n",
    "import tensorflow_datasets as tfds\n",
    "import numpy as np\n",
    "import matplotlib.pyplot as plt\n",
    "from tensorflow.keras import models, layers, regularizers\n",
    "from sklearn.model_selection import train_test_split\n",
    "from imblearn.over_sampling import SMOTE"
   ]
  },
  {
   "cell_type": "code",
   "execution_count": 103,
   "metadata": {},
   "outputs": [],
   "source": [
    "# loading\n",
    "y = np.genfromtxt('./data/label.csv',delimiter=',')"
   ]
  },
  {
   "cell_type": "code",
   "execution_count": 104,
   "metadata": {},
   "outputs": [],
   "source": [
    "X = np.genfromtxt('./data/features.csv',delimiter=',')"
   ]
  },
  {
   "cell_type": "code",
   "execution_count": 105,
   "metadata": {},
   "outputs": [],
   "source": [
    "#splitting\n",
    "x_train, x_val, y_train, y_val = train_test_split(X,\n",
    "                                                 y,\n",
    "                                                 test_size = .1,\n",
    "                                                 random_state=12)"
   ]
  },
  {
   "cell_type": "code",
   "execution_count": 106,
   "metadata": {},
   "outputs": [],
   "source": [
    "# resampling the traninging data to change the balnce the data\n",
    "sm = SMOTE(random_state=12)\n",
    "x_res, y_res = sm.fit_sample(x_train, y_train)"
   ]
  },
  {
   "cell_type": "code",
   "execution_count": 107,
   "metadata": {},
   "outputs": [],
   "source": [
    "# turning the array to tensors\n",
    "y_train_res = tf.convert_to_tensor(y_res, dtype='float32')\n",
    "x_train_res = tf.convert_to_tensor(x_res, dtype='float32')"
   ]
  },
  {
   "cell_type": "code",
   "execution_count": 108,
   "metadata": {},
   "outputs": [],
   "source": [
    "X_val = tf.convert_to_tensor(x_val, dtype='float32')\n",
    "Y_val = tf.convert_to_tensor(y_val, dtype='float32')"
   ]
  },
  {
   "cell_type": "code",
   "execution_count": 109,
   "metadata": {},
   "outputs": [],
   "source": [
    "# makeing the tensorflow data \n",
    "data_train = tf.data.Dataset.from_tensor_slices(\n",
    "    (x_train_res, y_train_res)\n",
    "\n",
    ").cache()\n",
    "\n",
    "data_validate = tf.data.Dataset.from_tensor_slices(\n",
    "    (X_val, Y_val)).cache()"
   ]
  },
  {
   "cell_type": "code",
   "execution_count": null,
   "metadata": {},
   "outputs": [],
   "source": [
    "\n"
   ]
  },
  {
   "cell_type": "code",
   "execution_count": 110,
   "metadata": {},
   "outputs": [
    {
     "data": {
      "text/plain": [
       "(18,)"
      ]
     },
     "execution_count": 110,
     "metadata": {},
     "output_type": "execute_result"
    }
   ],
   "source": [
    "X[0].shape"
   ]
  },
  {
   "cell_type": "code",
   "execution_count": 111,
   "metadata": {},
   "outputs": [
    {
     "name": "stdout",
     "output_type": "stream",
     "text": [
      "Model: \"sequential_11\"\n",
      "_________________________________________________________________\n",
      "Layer (type)                 Output Shape              Param #   \n",
      "=================================================================\n",
      "flatten_11 (Flatten)         (None, 18)                0         \n",
      "_________________________________________________________________\n",
      "dense_20 (Dense)             (None, 9)                 171       \n",
      "_________________________________________________________________\n",
      "dense_21 (Dense)             (None, 1)                 10        \n",
      "=================================================================\n",
      "Total params: 181\n",
      "Trainable params: 181\n",
      "Non-trainable params: 0\n",
      "_________________________________________________________________\n"
     ]
    }
   ],
   "source": [
    "model = models.Sequential()\n",
    "model.add(layers.Flatten(input_shape=(18, 1, 1)))\n",
    "model.add(layers.Dense(9, activation='relu'))\n",
    "model.add(layers.Dense(1, activation='sigmoid'))\n",
    "model.summary()\n",
    "\n",
    "\n",
    "model.compile(optimizer='adam', loss='binary_crossentropy', metrics=['accuracy'])"
   ]
  },
  {
   "cell_type": "code",
   "execution_count": 112,
   "metadata": {},
   "outputs": [
    {
     "name": "stdout",
     "output_type": "stream",
     "text": [
      "Epoch 1/30\n",
      "WARNING:tensorflow:Model was constructed with shape (None, 18, 1, 1) for input Tensor(\"flatten_11_input:0\", shape=(None, 18, 1, 1), dtype=float32), but it was called on an input with incompatible shape (None, 18).\n",
      "WARNING:tensorflow:Model was constructed with shape (None, 18, 1, 1) for input Tensor(\"flatten_11_input:0\", shape=(None, 18, 1, 1), dtype=float32), but it was called on an input with incompatible shape (None, 18).\n",
      "621/644 [===========================>..] - ETA: 0s - loss: 0.6559 - accuracy: 0.6200WARNING:tensorflow:Model was constructed with shape (None, 18, 1, 1) for input Tensor(\"flatten_11_input:0\", shape=(None, 18, 1, 1), dtype=float32), but it was called on an input with incompatible shape (None, 18).\n",
      "644/644 [==============================] - 1s 1ms/step - loss: 0.6543 - accuracy: 0.6224 - val_loss: 0.7234 - val_accuracy: 0.4453\n",
      "Epoch 2/30\n",
      "644/644 [==============================] - 1s 1ms/step - loss: 0.5360 - accuracy: 0.7555 - val_loss: 0.6212 - val_accuracy: 0.6733\n",
      "Epoch 3/30\n",
      "644/644 [==============================] - 1s 1ms/step - loss: 0.4269 - accuracy: 0.8379 - val_loss: 0.4958 - val_accuracy: 0.7953\n",
      "Epoch 4/30\n",
      "644/644 [==============================] - 1s 1ms/step - loss: 0.3671 - accuracy: 0.8602 - val_loss: 0.4571 - val_accuracy: 0.8000\n",
      "Epoch 5/30\n",
      "644/644 [==============================] - 1s 1ms/step - loss: 0.3254 - accuracy: 0.8720 - val_loss: 0.4047 - val_accuracy: 0.8273\n",
      "Epoch 6/30\n",
      "644/644 [==============================] - 1s 1ms/step - loss: 0.2943 - accuracy: 0.8836 - val_loss: 0.3425 - val_accuracy: 0.8580\n",
      "Epoch 7/30\n",
      "644/644 [==============================] - 1s 1ms/step - loss: 0.2670 - accuracy: 0.8967 - val_loss: 0.3094 - val_accuracy: 0.8660\n",
      "Epoch 8/30\n",
      "644/644 [==============================] - 1s 1ms/step - loss: 0.2462 - accuracy: 0.9066 - val_loss: 0.3024 - val_accuracy: 0.8687\n",
      "Epoch 9/30\n",
      "644/644 [==============================] - 1s 1ms/step - loss: 0.2310 - accuracy: 0.9135 - val_loss: 0.2764 - val_accuracy: 0.8860\n",
      "Epoch 10/30\n",
      "644/644 [==============================] - 1s 1ms/step - loss: 0.2185 - accuracy: 0.9196 - val_loss: 0.2665 - val_accuracy: 0.8927\n",
      "Epoch 11/30\n",
      "644/644 [==============================] - 1s 1ms/step - loss: 0.2114 - accuracy: 0.9235 - val_loss: 0.2493 - val_accuracy: 0.9067\n",
      "Epoch 12/30\n",
      "644/644 [==============================] - 1s 1ms/step - loss: 0.2032 - accuracy: 0.9267 - val_loss: 0.2569 - val_accuracy: 0.9033\n",
      "Epoch 13/30\n",
      "644/644 [==============================] - 1s 1ms/step - loss: 0.2002 - accuracy: 0.9289 - val_loss: 0.2277 - val_accuracy: 0.9127\n",
      "Epoch 14/30\n",
      "644/644 [==============================] - 1s 1ms/step - loss: 0.1959 - accuracy: 0.9308 - val_loss: 0.2238 - val_accuracy: 0.9160\n",
      "Epoch 15/30\n",
      "644/644 [==============================] - 1s 1ms/step - loss: 0.1921 - accuracy: 0.9327 - val_loss: 0.2131 - val_accuracy: 0.9220\n",
      "Epoch 16/30\n",
      "644/644 [==============================] - 1s 1ms/step - loss: 0.1886 - accuracy: 0.9335 - val_loss: 0.2091 - val_accuracy: 0.9213\n",
      "Epoch 17/30\n",
      "644/644 [==============================] - 1s 1ms/step - loss: 0.1862 - accuracy: 0.9343 - val_loss: 0.2195 - val_accuracy: 0.9200\n",
      "Epoch 18/30\n",
      "644/644 [==============================] - 1s 1ms/step - loss: 0.1858 - accuracy: 0.9342 - val_loss: 0.2028 - val_accuracy: 0.9233\n",
      "Epoch 19/30\n",
      "644/644 [==============================] - 1s 1ms/step - loss: 0.1831 - accuracy: 0.9361 - val_loss: 0.2162 - val_accuracy: 0.9200\n",
      "Epoch 20/30\n",
      "644/644 [==============================] - 1s 1ms/step - loss: 0.1819 - accuracy: 0.9354 - val_loss: 0.2117 - val_accuracy: 0.9233\n",
      "Epoch 21/30\n",
      "644/644 [==============================] - 1s 1ms/step - loss: 0.1818 - accuracy: 0.9377 - val_loss: 0.2057 - val_accuracy: 0.9220\n",
      "Epoch 22/30\n",
      "644/644 [==============================] - 1s 1ms/step - loss: 0.1788 - accuracy: 0.9376 - val_loss: 0.2140 - val_accuracy: 0.9213\n",
      "Epoch 23/30\n",
      "644/644 [==============================] - 1s 1ms/step - loss: 0.1788 - accuracy: 0.9378 - val_loss: 0.2170 - val_accuracy: 0.9200\n",
      "Epoch 24/30\n",
      "644/644 [==============================] - 1s 1ms/step - loss: 0.1795 - accuracy: 0.9378 - val_loss: 0.2209 - val_accuracy: 0.9187\n",
      "Epoch 25/30\n",
      "644/644 [==============================] - 1s 1ms/step - loss: 0.1784 - accuracy: 0.9386 - val_loss: 0.2051 - val_accuracy: 0.9240\n",
      "Epoch 26/30\n",
      "644/644 [==============================] - 1s 1ms/step - loss: 0.1766 - accuracy: 0.9392 - val_loss: 0.2091 - val_accuracy: 0.9247\n",
      "Epoch 27/30\n",
      "644/644 [==============================] - 1s 1ms/step - loss: 0.1759 - accuracy: 0.9385 - val_loss: 0.1983 - val_accuracy: 0.9280\n",
      "Epoch 28/30\n",
      "644/644 [==============================] - 1s 1ms/step - loss: 0.1751 - accuracy: 0.9395 - val_loss: 0.2106 - val_accuracy: 0.9247\n",
      "Epoch 29/30\n",
      "644/644 [==============================] - 1s 1ms/step - loss: 0.1744 - accuracy: 0.9394 - val_loss: 0.2014 - val_accuracy: 0.9267\n",
      "Epoch 30/30\n",
      "644/644 [==============================] - 1s 1ms/step - loss: 0.1753 - accuracy: 0.9397 - val_loss: 0.2100 - val_accuracy: 0.9260\n"
     ]
    }
   ],
   "source": [
    "history = model.fit(data_train.shuffle(10000).batch(32), epochs=30, validation_data=data_validate.batch(32))"
   ]
  },
  {
   "cell_type": "code",
   "execution_count": 114,
   "metadata": {},
   "outputs": [
    {
     "data": {
      "image/png": "[encoded data removed]",
      "text/plain": [
       "<Figure size 432x288 with 1 Axes>"
      ]
     },
     "metadata": {
      "needs_background": "light"
     },
     "output_type": "display_data"
    },
    {
     "data": {
      "image/png": "[encoded data removed]",
      "text/plain": [
       "<Figure size 432x288 with 1 Axes>"
      ]
     },
     "metadata": {
      "needs_background": "light"
     },
     "output_type": "display_data"
    }
   ],
   "source": [
    "plt.plot(model.history.history['loss'], label='loss')\n",
    "plt.plot(model.history.history['val_loss'], label='val_loss')\n",
    "plt.legend()\n",
    "plt.show()\n",
    "plt.close()\n",
    "\n",
    "plt.plot(model.history.history['accuracy'], label='accuracy')\n",
    "plt.plot(model.history.history['val_accuracy'], label='val_accuracy')\n",
    "plt.legend()\n",
    "plt.show()\n",
    "plt.close()"
   ]
  },
  {
   "cell_type": "code",
   "execution_count": null,
   "metadata": {},
   "outputs": [],
   "source": []
  },
  {
   "cell_type": "code",
   "execution_count": null,
   "metadata": {},
   "outputs": [],
   "source": []
  }
 ],
 "metadata": {
  "kernelspec": {
   "display_name": "Python 3",
   "language": "python",
   "name": "python3"
  },
  "language_info": {
   "codemirror_mode": {
    "name": "ipython",
    "version": 3
   },
   "file_extension": ".py",
   "mimetype": "text/x-python",
   "name": "python",
   "nbconvert_exporter": "python",
   "pygments_lexer": "ipython3",
   "version": "3.8.5"
  }
 },
 "nbformat": 4,
 "nbformat_minor": 4
}
