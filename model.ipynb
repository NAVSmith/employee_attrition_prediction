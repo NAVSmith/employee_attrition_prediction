{
 "cells": [
  {
   "cell_type": "code",
   "execution_count": 115,
   "metadata": {},
   "outputs": [],
   "source": [
    "import tensorflow as tf\n",
    "import tensorflow_datasets as tfds\n",
    "import numpy as np\n",
    "import matplotlib.pyplot as plt\n",
    "from tensorflow.keras import models, layers, regularizers\n",
    "from sklearn.model_selection import train_test_split\n",
    "from imblearn.over_sampling import SMOTE"
   ]
  },
  {
   "cell_type": "code",
   "execution_count": 116,
   "metadata": {},
   "outputs": [],
   "source": [
    "# loading\n",
    "y = np.genfromtxt('./data/label.csv',delimiter=',')"
   ]
  },
  {
   "cell_type": "code",
   "execution_count": 117,
   "metadata": {},
   "outputs": [],
   "source": [
    "X = np.genfromtxt('./data/features.csv',delimiter=',')"
   ]
  },
  {
   "cell_type": "code",
   "execution_count": 118,
   "metadata": {},
   "outputs": [],
   "source": [
    "#splitting\n",
    "x_train, x_val, y_train, y_val = train_test_split(X,\n",
    "                                                 y,\n",
    "                                                 test_size = .2,\n",
    "                                                 random_state=12)"
   ]
  },
  {
   "cell_type": "code",
   "execution_count": 119,
   "metadata": {},
   "outputs": [],
   "source": [
    "# resampling the traninging data to change the balnce the data\n",
    "sm = SMOTE(random_state=12)\n",
    "x_res, y_res = sm.fit_sample(x_train, y_train)"
   ]
  },
  {
   "cell_type": "code",
   "execution_count": 120,
   "metadata": {},
   "outputs": [],
   "source": [
    "# turning the array to tensors\n",
    "y_train_res = tf.convert_to_tensor(y_res, dtype='float32')\n",
    "x_train_res = tf.convert_to_tensor(x_res, dtype='float32')"
   ]
  },
  {
   "cell_type": "code",
   "execution_count": 121,
   "metadata": {},
   "outputs": [],
   "source": [
    "X_val = tf.convert_to_tensor(x_val, dtype='float32')\n",
    "Y_val = tf.convert_to_tensor(y_val, dtype='float32')"
   ]
  },
  {
   "cell_type": "code",
   "execution_count": 122,
   "metadata": {},
   "outputs": [],
   "source": [
    "# makeing the tensorflow data \n",
    "data_train = tf.data.Dataset.from_tensor_slices(\n",
    "    (x_train_res, y_train_res)\n",
    "\n",
    ").cache()\n",
    "\n",
    "data_validate = tf.data.Dataset.from_tensor_slices(\n",
    "    (X_val, Y_val)).cache()"
   ]
  },
  {
   "cell_type": "code",
   "execution_count": null,
   "metadata": {},
   "outputs": [],
   "source": [
    "\n"
   ]
  },
  {
   "cell_type": "code",
   "execution_count": 123,
   "metadata": {},
   "outputs": [
    {
     "data": {
      "text/plain": [
       "(18,)"
      ]
     },
     "execution_count": 123,
     "metadata": {},
     "output_type": "execute_result"
    }
   ],
   "source": [
    "X[0].shape"
   ]
  },
  {
   "cell_type": "code",
   "execution_count": 124,
   "metadata": {},
   "outputs": [
    {
     "name": "stdout",
     "output_type": "stream",
     "text": [
      "Model: \"sequential_12\"\n",
      "_________________________________________________________________\n",
      "Layer (type)                 Output Shape              Param #   \n",
      "=================================================================\n",
      "flatten_12 (Flatten)         (None, 18)                0         \n",
      "_________________________________________________________________\n",
      "dense_22 (Dense)             (None, 9)                 171       \n",
      "_________________________________________________________________\n",
      "dense_23 (Dense)             (None, 1)                 10        \n",
      "=================================================================\n",
      "Total params: 181\n",
      "Trainable params: 181\n",
      "Non-trainable params: 0\n",
      "_________________________________________________________________\n"
     ]
    }
   ],
   "source": [
    "model = models.Sequential()\n",
    "model.add(layers.Flatten(input_shape=(18, 1, 1)))\n",
    "model.add(layers.Dense(9, activation='relu'))\n",
    "model.add(layers.Dense(1, activation='sigmoid'))\n",
    "model.summary()\n",
    "\n",
    "\n",
    "model.compile(optimizer='adam', loss='binary_crossentropy', metrics=['accuracy'])"
   ]
  },
  {
   "cell_type": "code",
   "execution_count": 125,
   "metadata": {},
   "outputs": [
    {
     "name": "stdout",
     "output_type": "stream",
     "text": [
      "Epoch 1/30\n",
      "WARNING:tensorflow:Model was constructed with shape (None, 18, 1, 1) for input Tensor(\"flatten_12_input:0\", shape=(None, 18, 1, 1), dtype=float32), but it was called on an input with incompatible shape (None, 18).\n",
      "WARNING:tensorflow:Model was constructed with shape (None, 18, 1, 1) for input Tensor(\"flatten_12_input:0\", shape=(None, 18, 1, 1), dtype=float32), but it was called on an input with incompatible shape (None, 18).\n",
      "539/574 [===========================>..] - ETA: 0s - loss: 0.6002 - accuracy: 0.7063WARNING:tensorflow:Model was constructed with shape (None, 18, 1, 1) for input Tensor(\"flatten_12_input:0\", shape=(None, 18, 1, 1), dtype=float32), but it was called on an input with incompatible shape (None, 18).\n",
      "574/574 [==============================] - 1s 2ms/step - loss: 0.5974 - accuracy: 0.7110 - val_loss: 0.6267 - val_accuracy: 0.6837\n",
      "Epoch 2/30\n",
      "574/574 [==============================] - 1s 1ms/step - loss: 0.4942 - accuracy: 0.7972 - val_loss: 0.5894 - val_accuracy: 0.7280\n",
      "Epoch 3/30\n",
      "574/574 [==============================] - 1s 1ms/step - loss: 0.4369 - accuracy: 0.8274 - val_loss: 0.5026 - val_accuracy: 0.7900\n",
      "Epoch 4/30\n",
      "574/574 [==============================] - 1s 1ms/step - loss: 0.3836 - accuracy: 0.8543 - val_loss: 0.4335 - val_accuracy: 0.8280\n",
      "Epoch 5/30\n",
      "574/574 [==============================] - 1s 1ms/step - loss: 0.3309 - accuracy: 0.8813 - val_loss: 0.3927 - val_accuracy: 0.8407\n",
      "Epoch 6/30\n",
      "574/574 [==============================] - 1s 1ms/step - loss: 0.2896 - accuracy: 0.8991 - val_loss: 0.3272 - val_accuracy: 0.8700\n",
      "Epoch 7/30\n",
      "574/574 [==============================] - 1s 1ms/step - loss: 0.2572 - accuracy: 0.9117 - val_loss: 0.3214 - val_accuracy: 0.8697\n",
      "Epoch 8/30\n",
      "574/574 [==============================] - 1s 1ms/step - loss: 0.2342 - accuracy: 0.9190 - val_loss: 0.2545 - val_accuracy: 0.9027\n",
      "Epoch 9/30\n",
      "574/574 [==============================] - 1s 1ms/step - loss: 0.2161 - accuracy: 0.9279 - val_loss: 0.2652 - val_accuracy: 0.8947\n",
      "Epoch 10/30\n",
      "574/574 [==============================] - 1s 2ms/step - loss: 0.2056 - accuracy: 0.9296 - val_loss: 0.2471 - val_accuracy: 0.9047\n",
      "Epoch 11/30\n",
      "574/574 [==============================] - 1s 1ms/step - loss: 0.1971 - accuracy: 0.9329 - val_loss: 0.2249 - val_accuracy: 0.9147\n",
      "Epoch 12/30\n",
      "574/574 [==============================] - 1s 1ms/step - loss: 0.1915 - accuracy: 0.9344 - val_loss: 0.2289 - val_accuracy: 0.9093\n",
      "Epoch 13/30\n",
      "574/574 [==============================] - 1s 1ms/step - loss: 0.1878 - accuracy: 0.9341 - val_loss: 0.2138 - val_accuracy: 0.9187\n",
      "Epoch 14/30\n",
      "574/574 [==============================] - 1s 1ms/step - loss: 0.1854 - accuracy: 0.9356 - val_loss: 0.2333 - val_accuracy: 0.9050\n",
      "Epoch 15/30\n",
      "574/574 [==============================] - 1s 1ms/step - loss: 0.1833 - accuracy: 0.9353 - val_loss: 0.2102 - val_accuracy: 0.9210\n",
      "Epoch 16/30\n",
      "574/574 [==============================] - 1s 1ms/step - loss: 0.1813 - accuracy: 0.9353 - val_loss: 0.2111 - val_accuracy: 0.9173\n",
      "Epoch 17/30\n",
      "574/574 [==============================] - 1s 1ms/step - loss: 0.1809 - accuracy: 0.9363 - val_loss: 0.2131 - val_accuracy: 0.9167\n",
      "Epoch 18/30\n",
      "574/574 [==============================] - 1s 1ms/step - loss: 0.1784 - accuracy: 0.9368 - val_loss: 0.2081 - val_accuracy: 0.9190\n",
      "Epoch 19/30\n",
      "574/574 [==============================] - 1s 1ms/step - loss: 0.1788 - accuracy: 0.9371 - val_loss: 0.1915 - val_accuracy: 0.9273\n",
      "Epoch 20/30\n",
      "574/574 [==============================] - 1s 1ms/step - loss: 0.1771 - accuracy: 0.9370 - val_loss: 0.2218 - val_accuracy: 0.9137\n",
      "Epoch 21/30\n",
      "574/574 [==============================] - 1s 1ms/step - loss: 0.1764 - accuracy: 0.9365 - val_loss: 0.2238 - val_accuracy: 0.9140\n",
      "Epoch 22/30\n",
      "574/574 [==============================] - 1s 1ms/step - loss: 0.1766 - accuracy: 0.9370 - val_loss: 0.2083 - val_accuracy: 0.9187\n",
      "Epoch 23/30\n",
      "574/574 [==============================] - 1s 1ms/step - loss: 0.1752 - accuracy: 0.9381 - val_loss: 0.1983 - val_accuracy: 0.9240\n",
      "Epoch 24/30\n",
      "574/574 [==============================] - 1s 1ms/step - loss: 0.1754 - accuracy: 0.9378 - val_loss: 0.2064 - val_accuracy: 0.9197\n",
      "Epoch 25/30\n",
      "574/574 [==============================] - 1s 1ms/step - loss: 0.1745 - accuracy: 0.9379 - val_loss: 0.2133 - val_accuracy: 0.9193\n",
      "Epoch 26/30\n",
      "574/574 [==============================] - 1s 1ms/step - loss: 0.1747 - accuracy: 0.9375 - val_loss: 0.2073 - val_accuracy: 0.9203\n",
      "Epoch 27/30\n",
      "574/574 [==============================] - 1s 1ms/step - loss: 0.1746 - accuracy: 0.9369 - val_loss: 0.2027 - val_accuracy: 0.9230\n",
      "Epoch 28/30\n",
      "574/574 [==============================] - 1s 1ms/step - loss: 0.1733 - accuracy: 0.9379 - val_loss: 0.1943 - val_accuracy: 0.9263\n",
      "Epoch 29/30\n",
      "574/574 [==============================] - 1s 1ms/step - loss: 0.1750 - accuracy: 0.9377 - val_loss: 0.1985 - val_accuracy: 0.9240\n",
      "Epoch 30/30\n",
      "574/574 [==============================] - 1s 1ms/step - loss: 0.1738 - accuracy: 0.9387 - val_loss: 0.2006 - val_accuracy: 0.9240\n"
     ]
    }
   ],
   "source": [
    "history = model.fit(data_train.shuffle(10000).batch(32), epochs=30, validation_data=data_validate.batch(32))"
   ]
  },
  {
   "cell_type": "code",
   "execution_count": 126,
   "metadata": {},
   "outputs": [
    {
     "data": {
      "image/png": "[encoded data removed]",
      "text/plain": [
       "<Figure size 432x288 with 1 Axes>"
      ]
     },
     "metadata": {
      "needs_background": "light"
     },
     "output_type": "display_data"
    },
    {
     "data": {
      "image/png": "[encoded data removed]",
      "text/plain": [
       "<Figure size 432x288 with 1 Axes>"
      ]
     },
     "metadata": {
      "needs_background": "light"
     },
     "output_type": "display_data"
    }
   ],
   "source": [
    "plt.plot(model.history.history['loss'], label='loss')\n",
    "plt.plot(model.history.history['val_loss'], label='val_loss')\n",
    "plt.legend()\n",
    "plt.show()\n",
    "plt.close()\n",
    "\n",
    "plt.plot(model.history.history['accuracy'], label='accuracy')\n",
    "plt.plot(model.history.history['val_accuracy'], label='val_accuracy')\n",
    "plt.legend()\n",
    "plt.show()\n",
    "plt.close()"
   ]
  },
  {
   "cell_type": "code",
   "execution_count": null,
   "metadata": {},
   "outputs": [],
   "source": []
  },
  {
   "cell_type": "code",
   "execution_count": null,
   "metadata": {},
   "outputs": [],
   "source": []
  }
 ],
 "metadata": {
  "kernelspec": {
   "display_name": "Python 3",
   "language": "python",
   "name": "python3"
  },
  "language_info": {
   "codemirror_mode": {
    "name": "ipython",
    "version": 3
   },
   "file_extension": ".py",
   "mimetype": "text/x-python",
   "name": "python",
   "nbconvert_exporter": "python",
   "pygments_lexer": "ipython3",
   "version": "3.8.5"
  }
 },
 "nbformat": 4,
 "nbformat_minor": 4
}
